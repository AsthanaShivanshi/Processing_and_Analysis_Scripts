{
 "cells": [
  {
   "cell_type": "code",
   "execution_count": 1,
   "id": "5ece4b8d",
   "metadata": {},
   "outputs": [],
   "source": [
    "import config"
   ]
  },
  {
   "cell_type": "code",
   "execution_count": 2,
   "id": "245bfc5c",
   "metadata": {},
   "outputs": [],
   "source": [
    "import matplotlib.pyplot as plt\n",
    "import pandas as pd\n",
    "import xarray as xr"
   ]
  },
  {
   "cell_type": "code",
   "execution_count": 3,
   "id": "85789316",
   "metadata": {},
   "outputs": [],
   "source": [
    "obs_path = f\"{config.TARGET_DIR}/RhiresD_1971_2023.nc\"\n",
    "bicubic_path = f\"{config.MODELS_DIR}/precip_MPI-CSC-REMO2009_MPI-M-MPI-ESM-LR_rcp85_1971-2099/precip_r01_HR_masked.nc\"\n",
    "coarse_path = f\"{config.MODELS_DIR}/precip_MPI-CSC-REMO2009_MPI-M-MPI-ESM-LR_rcp85_1971-2099/precip_r01_coarse_masked.nc\"\n",
    "bc_path = f\"{config.BIAS_CORRECTED_DIR}/EQM/eqm_precip_r01_allcells.nc\"\n",
    "bc_unet1971_path = f\"{config.BIAS_CORRECTED_DIR}/EQM/TRAINING_EQM_precip_downscaled_r01.nc\"\n",
    "bc_unet1771_path = f\"{config.BIAS_CORRECTED_DIR}/EQM/COMBINED_EQM_precip_downscaled_r01.nc\"\n",
    "\n"
   ]
  },
  {
   "cell_type": "code",
   "execution_count": 4,
   "id": "3a879f5b",
   "metadata": {},
   "outputs": [
    {
     "name": "stderr",
     "output_type": "stream",
     "text": [
      "/work/FAC/FGSE/IDYST/tbeucler/downscaling/sasthana/MyPythonEnvNew/lib/python3.10/site-packages/pyproj/network.py:59: UserWarning: pyproj unable to set PROJ database path.\n",
      "  _set_context_ca_bundle_path(ca_bundle_path)\n",
      "<frozen importlib._bootstrap>:241: RuntimeWarning: numpy.ndarray size changed, may indicate binary incompatibility. Expected 16 from C header, got 96 from PyObject\n"
     ]
    }
   ],
   "source": [
    "obs_ds = xr.open_dataset(obs_path)\n",
    "bicubic_ds = xr.open_dataset(bicubic_path)\n",
    "coarse_ds = xr.open_dataset(coarse_path)\n",
    "bc_ds = xr.open_dataset(bc_path)\n",
    "bc_unet1971_ds = xr.open_dataset(bc_unet1971_path)\n",
    "bc_unet1771_ds = xr.open_dataset(bc_unet1771_path)"
   ]
  },
  {
   "cell_type": "code",
   "execution_count": 5,
   "id": "f22373c1",
   "metadata": {},
   "outputs": [
    {
     "name": "stdout",
     "output_type": "stream",
     "text": [
      "File: /work/FAC/FGSE/IDYST/tbeucler/downscaling/sasthana/Downscaling/Processing_and_Analysis_Scripts/data_1971_2023/HR_files_full/RhiresD_1971_2023.nc\n",
      "Dimensions: FrozenMappingWarningOnValuesAccess({'time': 19358, 'N': 240, 'E': 370})\n",
      "Coordinates: Coordinates:\n",
      "  * time     (time) datetime64[ns] 155kB 1971-01-01 1971-01-02 ... 2023-12-31\n",
      "    lon      (N, E) float32 355kB ...\n",
      "    lat      (N, E) float32 355kB ...\n",
      "  * E        (E) float64 3kB 2.474e+06 2.476e+06 ... 2.842e+06 2.844e+06\n",
      "  * N        (N) float64 2kB 1.064e+06 1.066e+06 ... 1.302e+06 1.304e+06\n",
      "Variables: ['time', 'lon', 'lat', 'E', 'N', 'swiss_lv95_coordinates', 'RhiresD']\n",
      "----------------------------------------\n",
      "File: /work/FAC/FGSE/IDYST/tbeucler/downscaling/sasthana/Downscaling/Downscaling_Models/Model_Runs/precip_MPI-CSC-REMO2009_MPI-M-MPI-ESM-LR_rcp85_1971-2099/precip_r01_HR_masked.nc\n",
      "Dimensions: FrozenMappingWarningOnValuesAccess({'time': 47117, 'bnds': 2, 'N': 240, 'E': 370})\n",
      "Coordinates: Coordinates:\n",
      "  * time     (time) datetime64[ns] 377kB 1971-01-01T12:00:00 ... 2099-12-31T1...\n",
      "    lon      (N, E) float32 355kB ...\n",
      "    lat      (N, E) float32 355kB ...\n",
      "  * E        (E) float64 3kB 2.474e+06 2.476e+06 ... 2.842e+06 2.844e+06\n",
      "  * N        (N) float64 2kB 1.064e+06 1.066e+06 ... 1.302e+06 1.304e+06\n",
      "Variables: ['time', 'time_bnds', 'lon', 'lat', 'E', 'N', 'precip']\n",
      "----------------------------------------\n",
      "File: /work/FAC/FGSE/IDYST/tbeucler/downscaling/sasthana/Downscaling/Downscaling_Models/Model_Runs/precip_MPI-CSC-REMO2009_MPI-M-MPI-ESM-LR_rcp85_1971-2099/precip_r01_coarse_masked.nc\n",
      "Dimensions: FrozenMappingWarningOnValuesAccess({'time': 47117, 'bnds': 2, 'N': 21, 'E': 33})\n",
      "Coordinates: Coordinates:\n",
      "  * time     (time) datetime64[ns] 377kB 1971-01-01T12:00:00 ... 2099-12-31T1...\n",
      "    lon      (N, E) float32 3kB ...\n",
      "    lat      (N, E) float32 3kB ...\n",
      "  * E        (E) float64 264B 2.48e+06 2.49e+06 2.502e+06 ... 2.82e+06 2.832e+06\n",
      "  * N        (N) float64 168B 1.07e+06 1.08e+06 1.092e+06 ... 1.278e+06 1.29e+06\n",
      "Variables: ['time', 'time_bnds', 'lon', 'lat', 'E', 'N', 'precip']\n",
      "----------------------------------------\n",
      "File: /work/FAC/FGSE/IDYST/tbeucler/downscaling/sasthana/Downscaling/Downscaling_Models/BC_Model_Runs/EQM/eqm_precip_r01_allcells.nc\n",
      "Dimensions: FrozenMappingWarningOnValuesAccess({'time': 47117, 'bnds': 2, 'N': 240, 'E': 370})\n",
      "Coordinates: Coordinates:\n",
      "  * time     (time) datetime64[ns] 377kB 1971-01-01T12:00:00 ... 2099-12-31T1...\n",
      "    lon      (N, E) float32 355kB ...\n",
      "    lat      (N, E) float32 355kB ...\n",
      "  * E        (E) float64 3kB 2.474e+06 2.476e+06 ... 2.842e+06 2.844e+06\n",
      "  * N        (N) float64 2kB 1.064e+06 1.066e+06 ... 1.302e+06 1.304e+06\n",
      "Variables: ['time', 'time_bnds', 'lon', 'lat', 'E', 'N', 'precip']\n",
      "----------------------------------------\n",
      "File: /work/FAC/FGSE/IDYST/tbeucler/downscaling/sasthana/Downscaling/Downscaling_Models/BC_Model_Runs/EQM/TRAINING_EQM_precip_downscaled_r01.nc\n",
      "Dimensions: FrozenMappingWarningOnValuesAccess({'time': 47117, 'bnds': 2, 'N': 240, 'E': 370})\n",
      "Coordinates: Coordinates:\n",
      "  * time     (time) datetime64[ns] 377kB 1971-01-01T12:00:00 ... 2099-12-31T1...\n",
      "    lon      (N, E) float32 355kB ...\n",
      "    lat      (N, E) float32 355kB ...\n",
      "  * E        (E) float64 3kB 2.474e+06 2.476e+06 ... 2.842e+06 2.844e+06\n",
      "  * N        (N) float64 2kB 1.064e+06 1.066e+06 ... 1.302e+06 1.304e+06\n",
      "Variables: ['time', 'time_bnds', 'lon', 'lat', 'E', 'N', 'swiss_lv95_coordinates', 'precip']\n",
      "----------------------------------------\n",
      "File: /work/FAC/FGSE/IDYST/tbeucler/downscaling/sasthana/Downscaling/Downscaling_Models/BC_Model_Runs/EQM/COMBINED_EQM_precip_downscaled_r01.nc\n",
      "Dimensions: FrozenMappingWarningOnValuesAccess({'time': 47117, 'bnds': 2, 'N': 240, 'E': 370})\n",
      "Coordinates: Coordinates:\n",
      "  * time     (time) datetime64[ns] 377kB 1971-01-01T12:00:00 ... 2099-12-31T1...\n",
      "    lon      (N, E) float32 355kB ...\n",
      "    lat      (N, E) float32 355kB ...\n",
      "  * E        (E) float64 3kB 2.474e+06 2.476e+06 ... 2.842e+06 2.844e+06\n",
      "  * N        (N) float64 2kB 1.064e+06 1.066e+06 ... 1.302e+06 1.304e+06\n",
      "Variables: ['time', 'time_bnds', 'lon', 'lat', 'E', 'N', 'swiss_lv95_coordinates', 'precip']\n",
      "----------------------------------------\n"
     ]
    }
   ],
   "source": [
    "def check_coords(filepath):\n",
    "    ds = xr.open_dataset(filepath)\n",
    "    print(f\"File: {filepath}\")\n",
    "    print(\"Dimensions:\", ds.dims)\n",
    "    print(\"Coordinates:\", ds.coords)\n",
    "    print(\"Variables:\", list(ds.variables))\n",
    "    print(\"-\" * 40)\n",
    "\n",
    "check_coords(obs_path)\n",
    "check_coords(bicubic_path)\n",
    "check_coords(coarse_path)\n",
    "check_coords(bc_path)\n",
    "check_coords(bc_unet1971_path)\n",
    "check_coords(bc_unet1771_path)"
   ]
  }
 ],
 "metadata": {
  "kernelspec": {
   "display_name": "MyPythonEnvNew",
   "language": "python",
   "name": "python3"
  },
  "language_info": {
   "codemirror_mode": {
    "name": "ipython",
    "version": 3
   },
   "file_extension": ".py",
   "mimetype": "text/x-python",
   "name": "python",
   "nbconvert_exporter": "python",
   "pygments_lexer": "ipython3",
   "version": "3.10.17"
  }
 },
 "nbformat": 4,
 "nbformat_minor": 5
}
