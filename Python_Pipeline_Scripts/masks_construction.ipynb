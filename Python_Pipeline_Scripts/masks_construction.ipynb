{
 "cells": [
  {
   "cell_type": "code",
   "execution_count": null,
   "id": "a3bc47fd",
   "metadata": {},
   "outputs": [],
   "source": [
    "import xarray as xr\n",
    "import numpy as np\n",
    "import config"
   ]
  },
  {
   "cell_type": "code",
   "execution_count": 17,
   "id": "bfa73b1e",
   "metadata": {},
   "outputs": [],
   "source": [
    "temp_ref = f\"{config.BASE_DIR}/sasthana/Downscaling/Downscaling_Models/Pretraining_Chronological_Dataset/temp_step2_coarse.nc\"\n",
    "precip_ref = f\"{config.BASE_DIR}/sasthana/Downscaling/Downscaling_Models/Pretraining_Chronological_Dataset/precip_step2_coarse.nc\"\n",
    "\n"
   ]
  },
  {
   "cell_type": "code",
   "execution_count": 18,
   "id": "676ca610",
   "metadata": {},
   "outputs": [],
   "source": [
    "ds_temp = xr.open_dataset(temp_ref)\n",
    "ds_precip = xr.open_dataset(precip_ref)"
   ]
  },
  {
   "cell_type": "code",
   "execution_count": 19,
   "id": "1e1e5449",
   "metadata": {},
   "outputs": [
    {
     "name": "stdout",
     "output_type": "stream",
     "text": [
      "Variable in temp dataset: temp\n",
      "Variable in precip dataset: precip\n"
     ]
    }
   ],
   "source": [
    "ds_temp_var = list(ds_temp.data_vars)[0]\n",
    "print(f\"Variable in temp dataset: {ds_temp_var}\")\n",
    "ds_precip_var = list(ds_precip.data_vars)[0]\n",
    "print(f\"Variable in precip dataset: {ds_precip_var}\")"
   ]
  },
  {
   "cell_type": "code",
   "execution_count": 20,
   "id": "efbf9860",
   "metadata": {},
   "outputs": [],
   "source": [
    "temp_var = list(ds_temp.data_vars)[0]\n",
    "precip_var = list(ds_precip.data_vars)[0]"
   ]
  },
  {
   "cell_type": "code",
   "execution_count": 21,
   "id": "39b8d017",
   "metadata": {},
   "outputs": [
    {
     "name": "stdout",
     "output_type": "stream",
     "text": [
      "Masks saved as temp_mask.nc and precip_mask.nc\n"
     ]
    }
   ],
   "source": [
    "temp_mask = ~np.isnan(ds_temp[ds_temp_var].isel(time=1))\n",
    "precip_mask = ~np.isnan(ds_precip[ds_precip_var].isel(time=1))\n",
    "\n",
    "# Save masks\n",
    "temp_mask_ds = xr.Dataset({\"mask\": temp_mask})\n",
    "precip_mask_ds = xr.Dataset({\"mask\": precip_mask})\n",
    "temp_mask_ds.to_netcdf(\"temp_mask.nc\")\n",
    "precip_mask_ds.to_netcdf(\"precip_mask.nc\")\n",
    "\n",
    "print(\"Masks saved as temp_mask.nc and precip_mask.nc\")"
   ]
  }
 ],
 "metadata": {
  "kernelspec": {
   "display_name": "MyPythonEnvNew",
   "language": "python",
   "name": "python3"
  },
  "language_info": {
   "codemirror_mode": {
    "name": "ipython",
    "version": 3
   },
   "file_extension": ".py",
   "mimetype": "text/x-python",
   "name": "python",
   "nbconvert_exporter": "python",
   "pygments_lexer": "ipython3",
   "version": "3.10.17"
  }
 },
 "nbformat": 4,
 "nbformat_minor": 5
}
