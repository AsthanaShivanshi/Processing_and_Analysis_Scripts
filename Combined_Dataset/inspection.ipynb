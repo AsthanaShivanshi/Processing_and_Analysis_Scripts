{
 "cells": [
  {
   "cell_type": "code",
   "execution_count": 2,
   "id": "d6e81b0c",
   "metadata": {},
   "outputs": [],
   "source": [
    "import xarray as xr\n",
    "import numpy as np\n",
    "import os\n",
    "from pathlib import Path    \n",
    "import matplotlib.pyplot as plt"
   ]
  },
  {
   "cell_type": "code",
   "execution_count": 3,
   "id": "e73147c6",
   "metadata": {},
   "outputs": [
    {
     "name": "stdout",
     "output_type": "stream",
     "text": [
      "<xarray.Dataset> Size: 178GB\n",
      "Dimensions:                 (time: 113591, N: 265, E: 370)\n",
      "Coordinates:\n",
      "  * time                    (time) datetime64[ns] 909kB 1763-01-01 ... 2023-1...\n",
      "  * E                       (E) float64 3kB 2.474e+06 2.476e+06 ... 2.844e+06\n",
      "  * N                       (N) float64 2kB 1.06e+06 1.06e+06 ... 1.324e+06\n",
      "Data variables:\n",
      "    swiss_lv95_coordinates  (time) float32 454kB ...\n",
      "    pr                      (time, N, E) float64 89GB ...\n",
      "    lon                     (time, N, E) float32 45GB ...\n",
      "    lat                     (time, N, E) float32 45GB ...\n",
      "Attributes:\n",
      "    CDI:          Climate Data Interface version 2.5.1 (https://mpimet.mpg.de...\n",
      "    Conventions:  CF-1.6\n",
      "    NCO:          netCDF Operators version 5.0.6 (Homepage = http://nco.sf.ne...\n",
      "    history:      Fri May 30 10:24:07 2025: cdo mergetime CH_precip_QMAP_1763...\n",
      "    CDO:          Climate Data Operators version 2.5.1 (https://mpimet.mpg.de...\n"
     ]
    }
   ],
   "source": [
    "pr_merged= xr.open_dataset (\"pr_merged.nc\")\n",
    "print(pr_merged)"
   ]
  },
  {
   "cell_type": "code",
   "execution_count": 4,
   "id": "7fba858d",
   "metadata": {},
   "outputs": [
    {
     "name": "stdout",
     "output_type": "stream",
     "text": [
      "<xarray.Dataset> Size: 121GB\n",
      "Dimensions:                 (time: 113591, N: 240, E: 370)\n",
      "Coordinates:\n",
      "  * time                    (time) datetime64[ns] 909kB 1763-01-01 ... 2023-1...\n",
      "  * E                       (E) float64 3kB 2.474e+06 2.476e+06 ... 2.844e+06\n",
      "  * N                       (N) float64 2kB 1.064e+06 1.066e+06 ... 1.304e+06\n",
      "Data variables:\n",
      "    swiss_lv95_coordinates  (time) float32 454kB ...\n",
      "    tas                     (time, N, E) float32 40GB ...\n",
      "    lon                     (time, N, E) float32 40GB ...\n",
      "    lat                     (time, N, E) float32 40GB ...\n",
      "Attributes:\n",
      "    CDI:          Climate Data Interface version 2.5.1 (https://mpimet.mpg.de...\n",
      "    Conventions:  CF-1.4\n",
      "    created_by:   R, packages ncdf4 and raster (version 3.6-11)\n",
      "    date:         2023-02-20 17:22:21\n",
      "    NCO:          netCDF Operators version 5.0.6 (Homepage = http://nco.sf.ne...\n",
      "    history:      Fri May 30 10:41:52 2025: cdo mergetime CH_temp_EnKF_1763-0...\n",
      "    CDO:          Climate Data Operators version 2.5.1 (https://mpimet.mpg.de...\n"
     ]
    }
   ],
   "source": [
    "tas_merged= xr.open_dataset (\"tas_merged.nc\")\n",
    "print(tas_merged)"
   ]
  },
  {
   "cell_type": "code",
   "execution_count": 5,
   "id": "2a53bd1a",
   "metadata": {},
   "outputs": [
    {
     "name": "stdout",
     "output_type": "stream",
     "text": [
      "<xarray.Dataset> Size: 121GB\n",
      "Dimensions:                 (time: 113591, N: 240, E: 370)\n",
      "Coordinates:\n",
      "  * time                    (time) datetime64[ns] 909kB 1763-01-01 ... 2023-1...\n",
      "  * E                       (E) float64 3kB 2.474e+06 2.476e+06 ... 2.844e+06\n",
      "  * N                       (N) float64 2kB 1.064e+06 1.066e+06 ... 1.304e+06\n",
      "Data variables:\n",
      "    swiss_lv95_coordinates  (time) float32 454kB ...\n",
      "    tasmax                  (time, N, E) float32 40GB ...\n",
      "    lon                     (time, N, E) float32 40GB ...\n",
      "    lat                     (time, N, E) float32 40GB ...\n",
      "Attributes:\n",
      "    CDI:          Climate Data Interface version 2.5.1 (https://mpimet.mpg.de...\n",
      "    Conventions:  CF-1.4\n",
      "    created_by:   R packages ncdf4 and terra (version 1.7-78)\n",
      "    date:         2025-03-10 11:40:14\n",
      "    NCO:          netCDF Operators version 4.9.1 (Homepage = http://nco.sf.ne...\n",
      "    history:      Fri May 30 10:28:12 2025: cdo mergetime CH_tmax_EnKF_1763-0...\n",
      "    CDO:          Climate Data Operators version 2.5.1 (https://mpimet.mpg.de...\n"
     ]
    }
   ],
   "source": [
    "tasmax= xr.open_dataset (\"tasmax_merged.nc\")\n",
    "print(tasmax)"
   ]
  },
  {
   "cell_type": "code",
   "execution_count": 8,
   "id": "e40f4c29",
   "metadata": {},
   "outputs": [
    {
     "name": "stdout",
     "output_type": "stream",
     "text": [
      "<xarray.Dataset> Size: 121GB\n",
      "Dimensions:                 (time: 113591, N: 240, E: 370)\n",
      "Coordinates:\n",
      "    lon                     (time, N, E) float32 40GB ...\n",
      "    lat                     (time, N, E) float32 40GB ...\n",
      "  * time                    (time) datetime64[ns] 909kB 1763-01-01 ... 2023-1...\n",
      "  * E                       (E) float64 3kB 2.474e+06 2.476e+06 ... 2.844e+06\n",
      "  * N                       (N) float64 2kB 0.0 0.0 0.0 0.0 ... 0.0 0.0 0.0 0.0\n",
      "Data variables:\n",
      "    swiss_lv95_coordinates  (time) float32 454kB ...\n",
      "    tasmax                  (time, N, E) float32 40GB ...\n",
      "Attributes:\n",
      "    CDI:          Climate Data Interface version 2.5.1 (https://mpimet.mpg.de...\n",
      "    Conventions:  CF-1.4\n",
      "    created_by:   R packages ncdf4 and terra (version 1.7-78)\n",
      "    date:         2025-03-10 11:40:14\n",
      "    NCO:          netCDF Operators version 4.9.1 (Homepage = http://nco.sf.ne...\n",
      "    history:      Fri May 30 10:28:12 2025: cdo mergetime CH_tmax_EnKF_1763-0...\n",
      "    CDO:          Climate Data Operators version 2.5.1 (https://mpimet.mpg.de...\n"
     ]
    }
   ],
   "source": [
    "tasmax= xr.open_dataset (\"/work/FAC/FGSE/IDYST/tbeucler/downscaling/sasthana/Downscaling/Downscaling_Models/Combined_Chronological_Dataset/tasmax_step1_latlon.nc\")\n",
    "print(tasmax)"
   ]
  },
  {
   "cell_type": "code",
   "execution_count": null,
   "id": "915a6faf",
   "metadata": {},
   "outputs": [],
   "source": []
  }
 ],
 "metadata": {
  "kernelspec": {
   "display_name": "Python 3",
   "language": "python",
   "name": "python3"
  },
  "language_info": {
   "codemirror_mode": {
    "name": "ipython",
    "version": 3
   },
   "file_extension": ".py",
   "mimetype": "text/x-python",
   "name": "python",
   "nbconvert_exporter": "python",
   "pygments_lexer": "ipython3",
   "version": "3.10.17"
  }
 },
 "nbformat": 4,
 "nbformat_minor": 5
}
