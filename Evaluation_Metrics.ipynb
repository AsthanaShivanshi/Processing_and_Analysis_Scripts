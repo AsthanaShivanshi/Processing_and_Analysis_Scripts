{
 "cells": [
  {
   "cell_type": "code",
   "execution_count": 1,
   "id": "de056f8e",
   "metadata": {},
   "outputs": [],
   "source": [
    "import xarray as xr\n",
    "import numpy as np\n",
    "import matplotlib.pyplot as plt\n",
    "import cartopy.crs as ccrs\n",
    "import cartopy.feature as cfeature"
   ]
  },
  {
   "cell_type": "code",
   "execution_count": 6,
   "id": "e7e70d47",
   "metadata": {},
   "outputs": [],
   "source": [
    "import sys\n",
    "sys.path.append(\"Functions\")"
   ]
  },
  {
   "cell_type": "code",
   "execution_count": 5,
   "id": "20d367db",
   "metadata": {},
   "outputs": [],
   "source": [
    "from RMSE import gridded_RMSE\n",
    "from RMSE import pooled_RMSE\n",
    "from R_squared import gridded_R_squared\n",
    "from R_squared import pooled_R_squared"
   ]
  },
  {
   "cell_type": "markdown",
   "id": "b2104752",
   "metadata": {},
   "source": [
    "Bilinear_interpolation RMSE"
   ]
  },
  {
   "cell_type": "markdown",
   "id": "c49576cf",
   "metadata": {},
   "source": [
    "Below has to be done for all four variables , train, test and val, for bicubic and bilinear baselines. "
   ]
  },
  {
   "cell_type": "code",
   "execution_count": null,
   "id": "33d8ada7",
   "metadata": {},
   "outputs": [],
   "source": [
    "pred_path = 'Bicubic_data_for_UNet/Features/Split_Data/Val/rhiresd_features_val.nc'\n",
    "truth_path = 'Bicubic_data_for_UNet/Targets/Split_Data/Val/rhiresd_targets_val.nc'\n",
    "var1 = 'RhiresD'\n",
    "var2 = 'RhiresD'\n",
    "\n",
    "rmse_pooled_rhiresd_bicubic = pooled_RMSE(pred_path, truth_path, var1, var2, chunk_size={'time': 50})\n",
    "print(rmse_pooled_rhiresd_bicubic)"
   ]
  },
  {
   "cell_type": "code",
   "execution_count": null,
   "id": "c6531db7",
   "metadata": {},
   "outputs": [],
   "source": [
    "pred_path = 'Bicubic_data_for_UNet/Features/Split_Data/Test/tabsd_features_test.nc'\n",
    "truth_path = 'Bicubic_data_for_UNet/Targets/Split_Data/Test/tabsd_targets_test.nc'\n",
    "var1 = 'TabsD'\n",
    "var2 = 'TabsD'\n",
    "\n",
    "rmse_pooled_tabsd_bilinear = pooled_RMSE(pred_path, truth_path, var1, var2, chunk_size={'time': 50})\n",
    "print(rmse_pooled_tabsd_bilinear)"
   ]
  },
  {
   "cell_type": "code",
   "execution_count": null,
   "id": "bbef52a2",
   "metadata": {},
   "outputs": [],
   "source": [
    "pred_path = 'Bicubic_data_for_UNet/Features/Split_Data/Test/tmin_features_test.nc'\n",
    "truth_path = 'Bicubic_data_for_UNet/Targets/Split_Data/Test/tmin_targets_test.nc'\n",
    "var1 = 'TminD'\n",
    "var2 = 'TminD'\n",
    "\n",
    "rmse_pooled_tmin_bilinear = pooled_RMSE(pred_path, truth_path, var1, var2, chunk_size={'time': 50})\n",
    "print(rmse_pooled_tmin_bilinear)"
   ]
  },
  {
   "cell_type": "code",
   "execution_count": null,
   "id": "3e53cc84",
   "metadata": {},
   "outputs": [],
   "source": [
    "pred_path = 'Bicubic_data_for_UNet/Features/Split_Data/Test/tmax_features_test.nc'\n",
    "truth_path = 'Bicubic_data_for_UNet/Targets/Split_Data/Test/tmax_targets_test.nc'\n",
    "var1 = 'TmaxD'\n",
    "var2 = 'TmaxD'\n",
    "\n",
    "rmse_pooled_tmax_bilinear = pooled_RMSE(pred_path, truth_path, var1, var2, chunk_size={'time': 50})\n",
    "print(rmse_pooled_tmax_bilinear)"
   ]
  },
  {
   "cell_type": "markdown",
   "id": "d1ff4f1c",
   "metadata": {},
   "source": [
    "Use .values else gives xarray data series back in some cases, not all, due to some bugs associated with xarray"
   ]
  },
  {
   "cell_type": "markdown",
   "id": "0d42cd0a",
   "metadata": {},
   "source": [
    "xxxxxxxxxxxxxxxxxxxxxxxxxxxxxxxxCoefficient of Determination xxxxxxxxxxxxxxxxxxxxxxxxxx"
   ]
  },
  {
   "cell_type": "markdown",
   "id": "c5725a18",
   "metadata": {},
   "source": [
    "COEFFICIENT OF DETERMINATION (R squared, pooled but gridded also possible)"
   ]
  },
  {
   "cell_type": "code",
   "execution_count": 23,
   "id": "3a8bb5f5",
   "metadata": {},
   "outputs": [],
   "source": [
    "from R_squared import gridded_R_squared\n",
    "from R_squared import pooled_R_squared"
   ]
  },
  {
   "cell_type": "markdown",
   "id": "777a38d1",
   "metadata": {},
   "source": [
    "Has to be done for bilinear and bicubic, for four variables"
   ]
  },
  {
   "cell_type": "code",
   "execution_count": null,
   "id": "1c8e41a5",
   "metadata": {},
   "outputs": [],
   "source": [
    "pred_path = 'Bicubic_data_for_UNet/Features/Split_Data/Test/rhiresd_features_test.nc'\n",
    "truth_path = 'Bicubic_data_for_UNet/Targets/Split_Data/Test/rhiresd_targets_test.nc'\n",
    "var1 = 'RhiresD'\n",
    "var2 = 'RhiresD'\n",
    "\n",
    "R_grid_rhiresd_bicubic = pooled_R_squared(pred_path, truth_path, var1, var2, chunk_size={'time': 50})\n",
    "\n",
    "print(R_grid_rhiresd_bicubic.values)"
   ]
  },
  {
   "cell_type": "code",
   "execution_count": null,
   "id": "11cfb763",
   "metadata": {},
   "outputs": [],
   "source": [
    "pred_path = 'Bicubic_data_for_UNet/Features/Split_Data/Val/tabsd_features_val.nc'\n",
    "truth_path = 'Bicubic_data_for_UNet/Targets/Split_Data/Val/tabsd_targets_val.nc'\n",
    "var1 = 'TabsD'\n",
    "var2 = 'TabsD'\n",
    "\n",
    "R_tabsd_bicubic = pooled_R_squared(pred_path, truth_path, var1, var2, chunk_size={'time': 50})\n",
    "\n",
    "print(R_tabsd_bicubic.values)"
   ]
  },
  {
   "cell_type": "code",
   "execution_count": null,
   "id": "8ccc9048",
   "metadata": {},
   "outputs": [],
   "source": [
    "pred_path = 'Bicubic_data_for_UNet/Features/Split_Data/Test/tmin_features_test.nc'\n",
    "truth_path = \"Bicubic_data_for_UNet/Features/Split_Data/Test/tmin_targets_test.nc\"\n",
    "var1 = 'TminD'\n",
    "var2 = 'TminD'\n",
    "\n",
    "R_tmin_bicubic = pooled_R_squared(pred_path, truth_path, var1, var2, chunk_size={'time': 50})\n",
    "\n",
    "print(R_tmin_bicubic.values)"
   ]
  },
  {
   "cell_type": "code",
   "execution_count": 57,
   "id": "59134293",
   "metadata": {},
   "outputs": [
    {
     "name": "stdout",
     "output_type": "stream",
     "text": [
      "0.937301\n"
     ]
    }
   ],
   "source": [
    "pred_path = 'Bicubic_data_for_UNet/Features/Split_Data/Test/tmax_features_test.nc'\n",
    "truth_path = \"Bicubic_data_for_UNet/Targets/Split_Data/Test/tmax_targets_test.nc\"\n",
    "var1 = 'TmaxD'\n",
    "var2 = 'TmaxD'\n",
    "\n",
    "R_tmax_bicubic = pooled_R_squared(pred_path, truth_path, var1, var2, chunk_size={'time': 50})\n",
    "\n",
    "print(R_tmax_bicubic.values)"
   ]
  }
 ],
 "metadata": {
  "kernelspec": {
   "display_name": "Python 3",
   "language": "python",
   "name": "python3"
  },
  "language_info": {
   "codemirror_mode": {
    "name": "ipython",
    "version": 3
   },
   "file_extension": ".py",
   "mimetype": "text/x-python",
   "name": "python",
   "nbconvert_exporter": "python",
   "pygments_lexer": "ipython3",
   "version": "3.10.17"
  }
 },
 "nbformat": 4,
 "nbformat_minor": 5
}
