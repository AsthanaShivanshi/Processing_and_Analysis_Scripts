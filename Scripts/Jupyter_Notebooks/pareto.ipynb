{
 "cells": [
  {
   "cell_type": "code",
   "execution_count": 1,
   "id": "ce43305b",
   "metadata": {},
   "outputs": [],
   "source": [
    "import pandas as pd\n",
    "import matplotlib.pyplot as plt\n",
    "import numpy as np"
   ]
  },
  {
   "cell_type": "code",
   "execution_count": 6,
   "id": "3a704b6b",
   "metadata": {},
   "outputs": [],
   "source": [
    "trials_data= pd.read_csv('trials_training_data.csv')"
   ]
  },
  {
   "cell_type": "code",
   "execution_count": 4,
   "id": "82963948",
   "metadata": {},
   "outputs": [
    {
     "data": {
      "text/plain": [
       "Index(['Name', 'State', 'Notes', 'User', 'Tags', 'Created', 'Runtime', 'Sweep',\n",
       "       'base_lr', 'epochs', 'loss', 'loss_weights', 'max_lr', 'mode',\n",
       "       'optimizer', 'optuna_trial', 'scheduler', 'RhiresD/train',\n",
       "       'RhiresD/val', 'TabsD/train', 'TabsD/val', 'TmaxD/train', 'TmaxD/val',\n",
       "       'TminD/train', 'TminD/val', 'best_val_loss',\n",
       "       'best_val_loss_per_channel', 'epoch', 'epoch_time', 'loss/train',\n",
       "       'loss/val', 'lr', 'precip_val_loss', 'temp_val_loss', 'tmax_val_loss',\n",
       "       'tmin_val_loss', 'total_val_loss', 'trial', 'weights'],\n",
       "      dtype='object')"
      ]
     },
     "execution_count": 4,
     "metadata": {},
     "output_type": "execute_result"
    }
   ],
   "source": [
    "trials_data.columns"
   ]
  },
  {
   "cell_type": "code",
   "execution_count": null,
   "id": "f23eeb8f",
   "metadata": {},
   "outputs": [],
   "source": [
    "x = trials_data['RhiresD/val'].values\n",
    "y = trials_data['best_val_loss'].values\n",
    "\n",
    "def pareto_front_2d(x, y):\n",
    "    # Sort by x (first objective)\n",
    "    idx_sorted = np.argsort(x)\n",
    "    pareto_idx = []\n",
    "    min_y = np.inf\n",
    "    for idx in idx_sorted:\n",
    "        if y[idx] < min_y:\n",
    "            pareto_idx.append(idx)\n",
    "            min_y = y[idx]\n",
    "    pareto_points = np.array(list(zip(x[pareto_idx], y[pareto_idx])))\n",
    "    return pareto_points, np.array(pareto_idx)\n",
    "\n",
    "pareto_points, pareto_idx = pareto_front_2d(x, y)\n",
    "\n",
    "plt.figure(figsize=(12, 8))\n",
    "plt.scatter(x, y, label='Trials (15)', color='blue', alpha=0.5, s=10)\n",
    "plt.plot(pareto_points[:,0], pareto_points[:,1], color='red', linewidth=3, label='Pareto Front')\n",
    "\n",
    "# Find Pareto point closest to origin\n",
    "pareto_distances = np.sqrt(pareto_points[:,0]**2 + pareto_points[:,1]**2)\n",
    "elbow_idx = np.argmin(pareto_distances)\n",
    "elbow_x, elbow_y = pareto_points[elbow_idx]\n",
    "elbow_trial_idx = pareto_idx[elbow_idx]\n",
    "elbow_trial_num = trials_data.loc[elbow_trial_idx, 'trial']\n",
    "\n",
    "plt.scatter(elbow_x, elbow_y, marker='*', s=200, color='green', label='Elbow')\n",
    "plt.annotate(f'Trial {elbow_trial_num}', (elbow_x, elbow_y),\n",
    "             textcoords=\"offset points\", xytext=(10,-20), ha='left', color='green', fontsize=10, fontweight='bold')\n",
    "\n",
    "plt.xlabel('Precipitation channel validation loss')\n",
    "plt.ylabel('Best total validation loss')\n",
    "plt.title('Pareto Front: Total validation loss vs Precipitation Val Loss for \"constrained\" trials')\n",
    "plt.legend()\n",
    "plt.grid(False)\n",
    "plt.tight_layout()\n",
    "plt.savefig('pareto_front_plot.png', dpi=500, bbox_inches='tight')\n",
    "plt.show()\n"
   ]
  },
  {
   "cell_type": "code",
   "execution_count": null,
   "id": "090b3439",
   "metadata": {},
   "outputs": [],
   "source": []
  }
 ],
 "metadata": {
  "kernelspec": {
   "display_name": "MyPythonEnvNew",
   "language": "python",
   "name": "python3"
  },
  "language_info": {
   "codemirror_mode": {
    "name": "ipython",
    "version": 3
   },
   "file_extension": ".py",
   "mimetype": "text/x-python",
   "name": "python",
   "nbconvert_exporter": "python",
   "pygments_lexer": "ipython3",
   "version": "3.10.17"
  }
 },
 "nbformat": 4,
 "nbformat_minor": 5
}
