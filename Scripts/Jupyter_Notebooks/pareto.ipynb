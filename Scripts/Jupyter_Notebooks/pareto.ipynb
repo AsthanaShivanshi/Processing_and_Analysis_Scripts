{
 "cells": [
  {
   "cell_type": "code",
   "execution_count": 3,
   "id": "ce43305b",
   "metadata": {},
   "outputs": [],
   "source": [
    "import dependencies\n",
    "import pandas as pd"
   ]
  },
  {
   "cell_type": "code",
   "execution_count": 4,
   "id": "3a704b6b",
   "metadata": {},
   "outputs": [],
   "source": [
    "trials_data= pd.read_csv('trials_training_data.csv')"
   ]
  },
  {
   "cell_type": "code",
   "execution_count": 5,
   "id": "07c46065",
   "metadata": {},
   "outputs": [
    {
     "data": {
      "text/plain": [
       "Index(['Name', 'State', 'Notes', 'User', 'Tags', 'Created', 'Runtime', 'Sweep',\n",
       "       'base_lr', 'epochs', 'loss', 'loss_weights', 'max_lr', 'mode',\n",
       "       'optimizer', 'optuna_trial', 'scheduler', 'RhiresD/train',\n",
       "       'RhiresD/val', 'TabsD/train', 'TabsD/val', 'TmaxD/train', 'TmaxD/val',\n",
       "       'TminD/train', 'TminD/val', 'best_val_loss',\n",
       "       'best_val_loss_per_channel', 'epoch', 'epoch_time', 'loss/train',\n",
       "       'loss/val', 'lr', 'precip_val_loss', 'temp_val_loss', 'tmax_val_loss',\n",
       "       'tmin_val_loss', 'total_val_loss', 'trial', 'weights'],\n",
       "      dtype='object')"
      ]
     },
     "execution_count": 5,
     "metadata": {},
     "output_type": "execute_result"
    }
   ],
   "source": [
    "trials_data.columns"
   ]
  },
  {
   "cell_type": "code",
   "execution_count": null,
   "id": "32d70e8f",
   "metadata": {},
   "outputs": [],
   "source": []
  }
 ],
 "metadata": {
  "kernelspec": {
   "display_name": "MyPythonEnvNew",
   "language": "python",
   "name": "python3"
  },
  "language_info": {
   "codemirror_mode": {
    "name": "ipython",
    "version": 3
   },
   "file_extension": ".py",
   "mimetype": "text/x-python",
   "name": "python",
   "nbconvert_exporter": "python",
   "pygments_lexer": "ipython3",
   "version": "3.10.17"
  }
 },
 "nbformat": 4,
 "nbformat_minor": 5
}
