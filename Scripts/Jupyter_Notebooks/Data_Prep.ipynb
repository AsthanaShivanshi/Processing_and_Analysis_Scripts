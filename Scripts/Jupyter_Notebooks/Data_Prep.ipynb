{
 "cells": [
  {
   "cell_type": "markdown",
   "id": "59cbadfd",
   "metadata": {},
   "source": [
    "!!!!!!!!!!!!!!!!!!!!!!!!!!!!!!!!!This script contains maskign code before standardisation. however standardisation of inputs and targets was performed before the interpoléated baselines were generated via CDO for bilinear and bicubic and then masked so that they only retain the Swiss Domain"
   ]
  },
  {
   "cell_type": "markdown",
   "id": "3f882966",
   "metadata": {},
   "source": [
    "Workflow : Bilinear interpolation, bicubic interpolation, Masking to retain only the swiss domain, splitting into train, test val, gridded RMSE R2, pooled RMSE, R2"
   ]
  },
  {
   "cell_type": "code",
   "execution_count": 2,
   "id": "a0cc5ad9",
   "metadata": {},
   "outputs": [],
   "source": [
    "import sys\n",
    "sys.path.append(\"../../Scripts/Functions\")\n",
    "import xarray as xr\n",
    "import numpy as np"
   ]
  },
  {
   "cell_type": "code",
   "execution_count": 3,
   "id": "974f0555",
   "metadata": {},
   "outputs": [
    {
     "name": "stdout",
     "output_type": "stream",
     "text": [
      "<Client: 'tcp://127.0.0.1:39693' processes=4 threads=4, memory=503.49 GiB>\n"
     ]
    }
   ],
   "source": [
    "from dask.distributed import Client\n",
    "client= Client()\n",
    "print(client)"
   ]
  },
  {
   "cell_type": "markdown",
   "id": "226f3458",
   "metadata": {},
   "source": [
    "installed dask distributed, and used all 4 CPU cores, computing time reduced to 30 seconds per line!!!"
   ]
  },
  {
   "cell_type": "markdown",
   "id": "ea1e2d8e",
   "metadata": {},
   "source": [
    "xxxxxxxxxxxxxxxxxxxxxxxxxxxxxxxxxxxCHECKING SHAPExxxxxxxxxxxxxxxxxxxxxxxxxxxxxxxxxx"
   ]
  },
  {
   "cell_type": "markdown",
   "id": "8a649761",
   "metadata": {},
   "source": [
    "FEATURES : CHECKIGN SHAPES"
   ]
  },
  {
   "cell_type": "code",
   "execution_count": 6,
   "id": "5b6d6b92",
   "metadata": {},
   "outputs": [
    {
     "data": {
      "text/plain": [
       "(19358, 240, 370)"
      ]
     },
     "execution_count": 6,
     "metadata": {},
     "output_type": "execute_result"
    }
   ],
   "source": [
    "features_ds_precip = xr.open_dataset(\"../../Wetday_files/Features/bicubic_rhiresd.nc\")[\"RhiresD\"]\n",
    "features_ds_precip.shape"
   ]
  },
  {
   "cell_type": "code",
   "execution_count": 7,
   "id": "3c0e7da7",
   "metadata": {},
   "outputs": [
    {
     "data": {
      "text/plain": [
       "(19358, 240, 370)"
      ]
     },
     "execution_count": 7,
     "metadata": {},
     "output_type": "execute_result"
    }
   ],
   "source": [
    "features_ds_tabsd= xr.open_dataset(\"../../Wetday_files/Features/bicubic_tabsd.nc\")[\"TabsD\"]\n",
    "features_ds_tabsd.shape"
   ]
  },
  {
   "cell_type": "code",
   "execution_count": 10,
   "id": "1525a3b0",
   "metadata": {},
   "outputs": [
    {
     "data": {
      "text/plain": [
       "(19358, 240, 370)"
      ]
     },
     "execution_count": 10,
     "metadata": {},
     "output_type": "execute_result"
    }
   ],
   "source": [
    "features_ds_tmax= xr.open_dataset(\"../../Wetday_files/Features/bicubic_tmax.nc\")[\"TmaxD\"]\n",
    "features_ds_tmax.shape"
   ]
  },
  {
   "cell_type": "code",
   "execution_count": 12,
   "id": "28c68e7a",
   "metadata": {},
   "outputs": [
    {
     "ename": "FileNotFoundError",
     "evalue": "[Errno 2] No such file or directory: '/work/FAC/FGSE/IDYST/tbeucler/downscaling/sasthana/Downscaling/Processing_and_Analysis_Scripts/Wetday_files/Features/bicubic_tmin.nc'",
     "output_type": "error",
     "traceback": [
      "\u001b[0;31m---------------------------------------------------------------------------\u001b[0m",
      "\u001b[0;31mKeyError\u001b[0m                                  Traceback (most recent call last)",
      "File \u001b[0;32m/work/FAC/FGSE/IDYST/tbeucler/downscaling/sasthana/MyPythonEnvNew/lib/python3.10/site-packages/xarray/backends/file_manager.py:211\u001b[0m, in \u001b[0;36mCachingFileManager._acquire_with_cache_info\u001b[0;34m(self, needs_lock)\u001b[0m\n\u001b[1;32m    210\u001b[0m \u001b[38;5;28;01mtry\u001b[39;00m:\n\u001b[0;32m--> 211\u001b[0m     file \u001b[38;5;241m=\u001b[39m \u001b[38;5;28;43mself\u001b[39;49m\u001b[38;5;241;43m.\u001b[39;49m\u001b[43m_cache\u001b[49m\u001b[43m[\u001b[49m\u001b[38;5;28;43mself\u001b[39;49m\u001b[38;5;241;43m.\u001b[39;49m\u001b[43m_key\u001b[49m\u001b[43m]\u001b[49m\n\u001b[1;32m    212\u001b[0m \u001b[38;5;28;01mexcept\u001b[39;00m \u001b[38;5;167;01mKeyError\u001b[39;00m:\n",
      "File \u001b[0;32m/work/FAC/FGSE/IDYST/tbeucler/downscaling/sasthana/MyPythonEnvNew/lib/python3.10/site-packages/xarray/backends/lru_cache.py:56\u001b[0m, in \u001b[0;36mLRUCache.__getitem__\u001b[0;34m(self, key)\u001b[0m\n\u001b[1;32m     55\u001b[0m \u001b[38;5;28;01mwith\u001b[39;00m \u001b[38;5;28mself\u001b[39m\u001b[38;5;241m.\u001b[39m_lock:\n\u001b[0;32m---> 56\u001b[0m     value \u001b[38;5;241m=\u001b[39m \u001b[38;5;28;43mself\u001b[39;49m\u001b[38;5;241;43m.\u001b[39;49m\u001b[43m_cache\u001b[49m\u001b[43m[\u001b[49m\u001b[43mkey\u001b[49m\u001b[43m]\u001b[49m\n\u001b[1;32m     57\u001b[0m     \u001b[38;5;28mself\u001b[39m\u001b[38;5;241m.\u001b[39m_cache\u001b[38;5;241m.\u001b[39mmove_to_end(key)\n",
      "\u001b[0;31mKeyError\u001b[0m: [<class 'netCDF4._netCDF4.Dataset'>, ('/work/FAC/FGSE/IDYST/tbeucler/downscaling/sasthana/Downscaling/Processing_and_Analysis_Scripts/Wetday_files/Features/bicubic_tmin.nc',), 'r', (('clobber', True), ('diskless', False), ('format', 'NETCDF4'), ('persist', False)), '1e25760e-9df2-4a44-9f1b-608aa14a5cdb']",
      "\nDuring handling of the above exception, another exception occurred:\n",
      "\u001b[0;31mFileNotFoundError\u001b[0m                         Traceback (most recent call last)",
      "Cell \u001b[0;32mIn[12], line 1\u001b[0m\n\u001b[0;32m----> 1\u001b[0m features_ds_tmin\u001b[38;5;241m=\u001b[39m \u001b[43mxr\u001b[49m\u001b[38;5;241;43m.\u001b[39;49m\u001b[43mopen_dataset\u001b[49m\u001b[43m(\u001b[49m\u001b[38;5;124;43m\"\u001b[39;49m\u001b[38;5;124;43m../../Wetday_files/Features/bicubic_tmin.nc\u001b[39;49m\u001b[38;5;124;43m\"\u001b[39;49m\u001b[43m)\u001b[49m[\u001b[38;5;124m\"\u001b[39m\u001b[38;5;124mTminD\u001b[39m\u001b[38;5;124m\"\u001b[39m]\n\u001b[1;32m      2\u001b[0m features_ds_tmin\u001b[38;5;241m.\u001b[39mshape\n",
      "File \u001b[0;32m/work/FAC/FGSE/IDYST/tbeucler/downscaling/sasthana/MyPythonEnvNew/lib/python3.10/site-packages/xarray/backends/api.py:687\u001b[0m, in \u001b[0;36mopen_dataset\u001b[0;34m(filename_or_obj, engine, chunks, cache, decode_cf, mask_and_scale, decode_times, decode_timedelta, use_cftime, concat_characters, decode_coords, drop_variables, inline_array, chunked_array_type, from_array_kwargs, backend_kwargs, **kwargs)\u001b[0m\n\u001b[1;32m    675\u001b[0m decoders \u001b[38;5;241m=\u001b[39m _resolve_decoders_kwargs(\n\u001b[1;32m    676\u001b[0m     decode_cf,\n\u001b[1;32m    677\u001b[0m     open_backend_dataset_parameters\u001b[38;5;241m=\u001b[39mbackend\u001b[38;5;241m.\u001b[39mopen_dataset_parameters,\n\u001b[0;32m   (...)\u001b[0m\n\u001b[1;32m    683\u001b[0m     decode_coords\u001b[38;5;241m=\u001b[39mdecode_coords,\n\u001b[1;32m    684\u001b[0m )\n\u001b[1;32m    686\u001b[0m overwrite_encoded_chunks \u001b[38;5;241m=\u001b[39m kwargs\u001b[38;5;241m.\u001b[39mpop(\u001b[38;5;124m\"\u001b[39m\u001b[38;5;124moverwrite_encoded_chunks\u001b[39m\u001b[38;5;124m\"\u001b[39m, \u001b[38;5;28;01mNone\u001b[39;00m)\n\u001b[0;32m--> 687\u001b[0m backend_ds \u001b[38;5;241m=\u001b[39m \u001b[43mbackend\u001b[49m\u001b[38;5;241;43m.\u001b[39;49m\u001b[43mopen_dataset\u001b[49m\u001b[43m(\u001b[49m\n\u001b[1;32m    688\u001b[0m \u001b[43m    \u001b[49m\u001b[43mfilename_or_obj\u001b[49m\u001b[43m,\u001b[49m\n\u001b[1;32m    689\u001b[0m \u001b[43m    \u001b[49m\u001b[43mdrop_variables\u001b[49m\u001b[38;5;241;43m=\u001b[39;49m\u001b[43mdrop_variables\u001b[49m\u001b[43m,\u001b[49m\n\u001b[1;32m    690\u001b[0m \u001b[43m    \u001b[49m\u001b[38;5;241;43m*\u001b[39;49m\u001b[38;5;241;43m*\u001b[39;49m\u001b[43mdecoders\u001b[49m\u001b[43m,\u001b[49m\n\u001b[1;32m    691\u001b[0m \u001b[43m    \u001b[49m\u001b[38;5;241;43m*\u001b[39;49m\u001b[38;5;241;43m*\u001b[39;49m\u001b[43mkwargs\u001b[49m\u001b[43m,\u001b[49m\n\u001b[1;32m    692\u001b[0m \u001b[43m\u001b[49m\u001b[43m)\u001b[49m\n\u001b[1;32m    693\u001b[0m ds \u001b[38;5;241m=\u001b[39m _dataset_from_backend_dataset(\n\u001b[1;32m    694\u001b[0m     backend_ds,\n\u001b[1;32m    695\u001b[0m     filename_or_obj,\n\u001b[0;32m   (...)\u001b[0m\n\u001b[1;32m    705\u001b[0m     \u001b[38;5;241m*\u001b[39m\u001b[38;5;241m*\u001b[39mkwargs,\n\u001b[1;32m    706\u001b[0m )\n\u001b[1;32m    707\u001b[0m \u001b[38;5;28;01mreturn\u001b[39;00m ds\n",
      "File \u001b[0;32m/work/FAC/FGSE/IDYST/tbeucler/downscaling/sasthana/MyPythonEnvNew/lib/python3.10/site-packages/xarray/backends/netCDF4_.py:666\u001b[0m, in \u001b[0;36mNetCDF4BackendEntrypoint.open_dataset\u001b[0;34m(self, filename_or_obj, mask_and_scale, decode_times, concat_characters, decode_coords, drop_variables, use_cftime, decode_timedelta, group, mode, format, clobber, diskless, persist, auto_complex, lock, autoclose)\u001b[0m\n\u001b[1;32m    644\u001b[0m \u001b[38;5;28;01mdef\u001b[39;00m\u001b[38;5;250m \u001b[39m\u001b[38;5;21mopen_dataset\u001b[39m(\n\u001b[1;32m    645\u001b[0m     \u001b[38;5;28mself\u001b[39m,\n\u001b[1;32m    646\u001b[0m     filename_or_obj: \u001b[38;5;28mstr\u001b[39m \u001b[38;5;241m|\u001b[39m os\u001b[38;5;241m.\u001b[39mPathLike[Any] \u001b[38;5;241m|\u001b[39m ReadBuffer \u001b[38;5;241m|\u001b[39m AbstractDataStore,\n\u001b[0;32m   (...)\u001b[0m\n\u001b[1;32m    663\u001b[0m     autoclose\u001b[38;5;241m=\u001b[39m\u001b[38;5;28;01mFalse\u001b[39;00m,\n\u001b[1;32m    664\u001b[0m ) \u001b[38;5;241m-\u001b[39m\u001b[38;5;241m>\u001b[39m Dataset:\n\u001b[1;32m    665\u001b[0m     filename_or_obj \u001b[38;5;241m=\u001b[39m _normalize_path(filename_or_obj)\n\u001b[0;32m--> 666\u001b[0m     store \u001b[38;5;241m=\u001b[39m \u001b[43mNetCDF4DataStore\u001b[49m\u001b[38;5;241;43m.\u001b[39;49m\u001b[43mopen\u001b[49m\u001b[43m(\u001b[49m\n\u001b[1;32m    667\u001b[0m \u001b[43m        \u001b[49m\u001b[43mfilename_or_obj\u001b[49m\u001b[43m,\u001b[49m\n\u001b[1;32m    668\u001b[0m \u001b[43m        \u001b[49m\u001b[43mmode\u001b[49m\u001b[38;5;241;43m=\u001b[39;49m\u001b[43mmode\u001b[49m\u001b[43m,\u001b[49m\n\u001b[1;32m    669\u001b[0m \u001b[43m        \u001b[49m\u001b[38;5;28;43mformat\u001b[39;49m\u001b[38;5;241;43m=\u001b[39;49m\u001b[38;5;28;43mformat\u001b[39;49m\u001b[43m,\u001b[49m\n\u001b[1;32m    670\u001b[0m \u001b[43m        \u001b[49m\u001b[43mgroup\u001b[49m\u001b[38;5;241;43m=\u001b[39;49m\u001b[43mgroup\u001b[49m\u001b[43m,\u001b[49m\n\u001b[1;32m    671\u001b[0m \u001b[43m        \u001b[49m\u001b[43mclobber\u001b[49m\u001b[38;5;241;43m=\u001b[39;49m\u001b[43mclobber\u001b[49m\u001b[43m,\u001b[49m\n\u001b[1;32m    672\u001b[0m \u001b[43m        \u001b[49m\u001b[43mdiskless\u001b[49m\u001b[38;5;241;43m=\u001b[39;49m\u001b[43mdiskless\u001b[49m\u001b[43m,\u001b[49m\n\u001b[1;32m    673\u001b[0m \u001b[43m        \u001b[49m\u001b[43mpersist\u001b[49m\u001b[38;5;241;43m=\u001b[39;49m\u001b[43mpersist\u001b[49m\u001b[43m,\u001b[49m\n\u001b[1;32m    674\u001b[0m \u001b[43m        \u001b[49m\u001b[43mauto_complex\u001b[49m\u001b[38;5;241;43m=\u001b[39;49m\u001b[43mauto_complex\u001b[49m\u001b[43m,\u001b[49m\n\u001b[1;32m    675\u001b[0m \u001b[43m        \u001b[49m\u001b[43mlock\u001b[49m\u001b[38;5;241;43m=\u001b[39;49m\u001b[43mlock\u001b[49m\u001b[43m,\u001b[49m\n\u001b[1;32m    676\u001b[0m \u001b[43m        \u001b[49m\u001b[43mautoclose\u001b[49m\u001b[38;5;241;43m=\u001b[39;49m\u001b[43mautoclose\u001b[49m\u001b[43m,\u001b[49m\n\u001b[1;32m    677\u001b[0m \u001b[43m    \u001b[49m\u001b[43m)\u001b[49m\n\u001b[1;32m    679\u001b[0m     store_entrypoint \u001b[38;5;241m=\u001b[39m StoreBackendEntrypoint()\n\u001b[1;32m    680\u001b[0m     \u001b[38;5;28;01mwith\u001b[39;00m close_on_error(store):\n",
      "File \u001b[0;32m/work/FAC/FGSE/IDYST/tbeucler/downscaling/sasthana/MyPythonEnvNew/lib/python3.10/site-packages/xarray/backends/netCDF4_.py:452\u001b[0m, in \u001b[0;36mNetCDF4DataStore.open\u001b[0;34m(cls, filename, mode, format, group, clobber, diskless, persist, auto_complex, lock, lock_maker, autoclose)\u001b[0m\n\u001b[1;32m    448\u001b[0m     kwargs[\u001b[38;5;124m\"\u001b[39m\u001b[38;5;124mauto_complex\u001b[39m\u001b[38;5;124m\"\u001b[39m] \u001b[38;5;241m=\u001b[39m auto_complex\n\u001b[1;32m    449\u001b[0m manager \u001b[38;5;241m=\u001b[39m CachingFileManager(\n\u001b[1;32m    450\u001b[0m     netCDF4\u001b[38;5;241m.\u001b[39mDataset, filename, mode\u001b[38;5;241m=\u001b[39mmode, kwargs\u001b[38;5;241m=\u001b[39mkwargs\n\u001b[1;32m    451\u001b[0m )\n\u001b[0;32m--> 452\u001b[0m \u001b[38;5;28;01mreturn\u001b[39;00m \u001b[38;5;28;43mcls\u001b[39;49m\u001b[43m(\u001b[49m\u001b[43mmanager\u001b[49m\u001b[43m,\u001b[49m\u001b[43m \u001b[49m\u001b[43mgroup\u001b[49m\u001b[38;5;241;43m=\u001b[39;49m\u001b[43mgroup\u001b[49m\u001b[43m,\u001b[49m\u001b[43m \u001b[49m\u001b[43mmode\u001b[49m\u001b[38;5;241;43m=\u001b[39;49m\u001b[43mmode\u001b[49m\u001b[43m,\u001b[49m\u001b[43m \u001b[49m\u001b[43mlock\u001b[49m\u001b[38;5;241;43m=\u001b[39;49m\u001b[43mlock\u001b[49m\u001b[43m,\u001b[49m\u001b[43m \u001b[49m\u001b[43mautoclose\u001b[49m\u001b[38;5;241;43m=\u001b[39;49m\u001b[43mautoclose\u001b[49m\u001b[43m)\u001b[49m\n",
      "File \u001b[0;32m/work/FAC/FGSE/IDYST/tbeucler/downscaling/sasthana/MyPythonEnvNew/lib/python3.10/site-packages/xarray/backends/netCDF4_.py:393\u001b[0m, in \u001b[0;36mNetCDF4DataStore.__init__\u001b[0;34m(self, manager, group, mode, lock, autoclose)\u001b[0m\n\u001b[1;32m    391\u001b[0m \u001b[38;5;28mself\u001b[39m\u001b[38;5;241m.\u001b[39m_group \u001b[38;5;241m=\u001b[39m group\n\u001b[1;32m    392\u001b[0m \u001b[38;5;28mself\u001b[39m\u001b[38;5;241m.\u001b[39m_mode \u001b[38;5;241m=\u001b[39m mode\n\u001b[0;32m--> 393\u001b[0m \u001b[38;5;28mself\u001b[39m\u001b[38;5;241m.\u001b[39mformat \u001b[38;5;241m=\u001b[39m \u001b[38;5;28;43mself\u001b[39;49m\u001b[38;5;241;43m.\u001b[39;49m\u001b[43mds\u001b[49m\u001b[38;5;241m.\u001b[39mdata_model\n\u001b[1;32m    394\u001b[0m \u001b[38;5;28mself\u001b[39m\u001b[38;5;241m.\u001b[39m_filename \u001b[38;5;241m=\u001b[39m \u001b[38;5;28mself\u001b[39m\u001b[38;5;241m.\u001b[39mds\u001b[38;5;241m.\u001b[39mfilepath()\n\u001b[1;32m    395\u001b[0m \u001b[38;5;28mself\u001b[39m\u001b[38;5;241m.\u001b[39mis_remote \u001b[38;5;241m=\u001b[39m is_remote_uri(\u001b[38;5;28mself\u001b[39m\u001b[38;5;241m.\u001b[39m_filename)\n",
      "File \u001b[0;32m/work/FAC/FGSE/IDYST/tbeucler/downscaling/sasthana/MyPythonEnvNew/lib/python3.10/site-packages/xarray/backends/netCDF4_.py:461\u001b[0m, in \u001b[0;36mNetCDF4DataStore.ds\u001b[0;34m(self)\u001b[0m\n\u001b[1;32m    459\u001b[0m \u001b[38;5;129m@property\u001b[39m\n\u001b[1;32m    460\u001b[0m \u001b[38;5;28;01mdef\u001b[39;00m\u001b[38;5;250m \u001b[39m\u001b[38;5;21mds\u001b[39m(\u001b[38;5;28mself\u001b[39m):\n\u001b[0;32m--> 461\u001b[0m     \u001b[38;5;28;01mreturn\u001b[39;00m \u001b[38;5;28;43mself\u001b[39;49m\u001b[38;5;241;43m.\u001b[39;49m\u001b[43m_acquire\u001b[49m\u001b[43m(\u001b[49m\u001b[43m)\u001b[49m\n",
      "File \u001b[0;32m/work/FAC/FGSE/IDYST/tbeucler/downscaling/sasthana/MyPythonEnvNew/lib/python3.10/site-packages/xarray/backends/netCDF4_.py:455\u001b[0m, in \u001b[0;36mNetCDF4DataStore._acquire\u001b[0;34m(self, needs_lock)\u001b[0m\n\u001b[1;32m    454\u001b[0m \u001b[38;5;28;01mdef\u001b[39;00m\u001b[38;5;250m \u001b[39m\u001b[38;5;21m_acquire\u001b[39m(\u001b[38;5;28mself\u001b[39m, needs_lock\u001b[38;5;241m=\u001b[39m\u001b[38;5;28;01mTrue\u001b[39;00m):\n\u001b[0;32m--> 455\u001b[0m     \u001b[38;5;28;01mwith\u001b[39;00m \u001b[38;5;28mself\u001b[39m\u001b[38;5;241m.\u001b[39m_manager\u001b[38;5;241m.\u001b[39macquire_context(needs_lock) \u001b[38;5;28;01mas\u001b[39;00m root:\n\u001b[1;32m    456\u001b[0m         ds \u001b[38;5;241m=\u001b[39m _nc4_require_group(root, \u001b[38;5;28mself\u001b[39m\u001b[38;5;241m.\u001b[39m_group, \u001b[38;5;28mself\u001b[39m\u001b[38;5;241m.\u001b[39m_mode)\n\u001b[1;32m    457\u001b[0m     \u001b[38;5;28;01mreturn\u001b[39;00m ds\n",
      "File \u001b[0;32m/work/FAC/FGSE/IDYST/tbeucler/downscaling/sasthana/MyPythonEnvNew/lib/python3.10/contextlib.py:135\u001b[0m, in \u001b[0;36m_GeneratorContextManager.__enter__\u001b[0;34m(self)\u001b[0m\n\u001b[1;32m    133\u001b[0m \u001b[38;5;28;01mdel\u001b[39;00m \u001b[38;5;28mself\u001b[39m\u001b[38;5;241m.\u001b[39margs, \u001b[38;5;28mself\u001b[39m\u001b[38;5;241m.\u001b[39mkwds, \u001b[38;5;28mself\u001b[39m\u001b[38;5;241m.\u001b[39mfunc\n\u001b[1;32m    134\u001b[0m \u001b[38;5;28;01mtry\u001b[39;00m:\n\u001b[0;32m--> 135\u001b[0m     \u001b[38;5;28;01mreturn\u001b[39;00m \u001b[38;5;28;43mnext\u001b[39;49m\u001b[43m(\u001b[49m\u001b[38;5;28;43mself\u001b[39;49m\u001b[38;5;241;43m.\u001b[39;49m\u001b[43mgen\u001b[49m\u001b[43m)\u001b[49m\n\u001b[1;32m    136\u001b[0m \u001b[38;5;28;01mexcept\u001b[39;00m \u001b[38;5;167;01mStopIteration\u001b[39;00m:\n\u001b[1;32m    137\u001b[0m     \u001b[38;5;28;01mraise\u001b[39;00m \u001b[38;5;167;01mRuntimeError\u001b[39;00m(\u001b[38;5;124m\"\u001b[39m\u001b[38;5;124mgenerator didn\u001b[39m\u001b[38;5;124m'\u001b[39m\u001b[38;5;124mt yield\u001b[39m\u001b[38;5;124m\"\u001b[39m) \u001b[38;5;28;01mfrom\u001b[39;00m\u001b[38;5;250m \u001b[39m\u001b[38;5;28;01mNone\u001b[39;00m\n",
      "File \u001b[0;32m/work/FAC/FGSE/IDYST/tbeucler/downscaling/sasthana/MyPythonEnvNew/lib/python3.10/site-packages/xarray/backends/file_manager.py:199\u001b[0m, in \u001b[0;36mCachingFileManager.acquire_context\u001b[0;34m(self, needs_lock)\u001b[0m\n\u001b[1;32m    196\u001b[0m \u001b[38;5;129m@contextlib\u001b[39m\u001b[38;5;241m.\u001b[39mcontextmanager\n\u001b[1;32m    197\u001b[0m \u001b[38;5;28;01mdef\u001b[39;00m\u001b[38;5;250m \u001b[39m\u001b[38;5;21macquire_context\u001b[39m(\u001b[38;5;28mself\u001b[39m, needs_lock\u001b[38;5;241m=\u001b[39m\u001b[38;5;28;01mTrue\u001b[39;00m):\n\u001b[1;32m    198\u001b[0m \u001b[38;5;250m    \u001b[39m\u001b[38;5;124;03m\"\"\"Context manager for acquiring a file.\"\"\"\u001b[39;00m\n\u001b[0;32m--> 199\u001b[0m     file, cached \u001b[38;5;241m=\u001b[39m \u001b[38;5;28;43mself\u001b[39;49m\u001b[38;5;241;43m.\u001b[39;49m\u001b[43m_acquire_with_cache_info\u001b[49m\u001b[43m(\u001b[49m\u001b[43mneeds_lock\u001b[49m\u001b[43m)\u001b[49m\n\u001b[1;32m    200\u001b[0m     \u001b[38;5;28;01mtry\u001b[39;00m:\n\u001b[1;32m    201\u001b[0m         \u001b[38;5;28;01myield\u001b[39;00m file\n",
      "File \u001b[0;32m/work/FAC/FGSE/IDYST/tbeucler/downscaling/sasthana/MyPythonEnvNew/lib/python3.10/site-packages/xarray/backends/file_manager.py:217\u001b[0m, in \u001b[0;36mCachingFileManager._acquire_with_cache_info\u001b[0;34m(self, needs_lock)\u001b[0m\n\u001b[1;32m    215\u001b[0m     kwargs \u001b[38;5;241m=\u001b[39m kwargs\u001b[38;5;241m.\u001b[39mcopy()\n\u001b[1;32m    216\u001b[0m     kwargs[\u001b[38;5;124m\"\u001b[39m\u001b[38;5;124mmode\u001b[39m\u001b[38;5;124m\"\u001b[39m] \u001b[38;5;241m=\u001b[39m \u001b[38;5;28mself\u001b[39m\u001b[38;5;241m.\u001b[39m_mode\n\u001b[0;32m--> 217\u001b[0m file \u001b[38;5;241m=\u001b[39m \u001b[38;5;28;43mself\u001b[39;49m\u001b[38;5;241;43m.\u001b[39;49m\u001b[43m_opener\u001b[49m\u001b[43m(\u001b[49m\u001b[38;5;241;43m*\u001b[39;49m\u001b[38;5;28;43mself\u001b[39;49m\u001b[38;5;241;43m.\u001b[39;49m\u001b[43m_args\u001b[49m\u001b[43m,\u001b[49m\u001b[43m \u001b[49m\u001b[38;5;241;43m*\u001b[39;49m\u001b[38;5;241;43m*\u001b[39;49m\u001b[43mkwargs\u001b[49m\u001b[43m)\u001b[49m\n\u001b[1;32m    218\u001b[0m \u001b[38;5;28;01mif\u001b[39;00m \u001b[38;5;28mself\u001b[39m\u001b[38;5;241m.\u001b[39m_mode \u001b[38;5;241m==\u001b[39m \u001b[38;5;124m\"\u001b[39m\u001b[38;5;124mw\u001b[39m\u001b[38;5;124m\"\u001b[39m:\n\u001b[1;32m    219\u001b[0m     \u001b[38;5;66;03m# ensure file doesn't get overridden when opened again\u001b[39;00m\n\u001b[1;32m    220\u001b[0m     \u001b[38;5;28mself\u001b[39m\u001b[38;5;241m.\u001b[39m_mode \u001b[38;5;241m=\u001b[39m \u001b[38;5;124m\"\u001b[39m\u001b[38;5;124ma\u001b[39m\u001b[38;5;124m\"\u001b[39m\n",
      "File \u001b[0;32msrc/netCDF4/_netCDF4.pyx:2521\u001b[0m, in \u001b[0;36mnetCDF4._netCDF4.Dataset.__init__\u001b[0;34m()\u001b[0m\n",
      "File \u001b[0;32msrc/netCDF4/_netCDF4.pyx:2158\u001b[0m, in \u001b[0;36mnetCDF4._netCDF4._ensure_nc_success\u001b[0;34m()\u001b[0m\n",
      "\u001b[0;31mFileNotFoundError\u001b[0m: [Errno 2] No such file or directory: '/work/FAC/FGSE/IDYST/tbeucler/downscaling/sasthana/Downscaling/Processing_and_Analysis_Scripts/Wetday_files/Features/bicubic_tmin.nc'"
     ]
    }
   ],
   "source": [
    "features_ds_tmin= xr.open_dataset(\"../../Wetday_files/Features/bicubic_tmin.nc\")[\"TminD\"]\n",
    "features_ds_tmin.shape"
   ]
  },
  {
   "cell_type": "markdown",
   "id": "b60fefea",
   "metadata": {},
   "source": [
    "CHECKING SHAPES OF TARGETS"
   ]
  },
  {
   "cell_type": "code",
   "execution_count": 13,
   "id": "71bec8d7",
   "metadata": {},
   "outputs": [
    {
     "data": {
      "text/plain": [
       "(19358, 240, 370)"
      ]
     },
     "execution_count": 13,
     "metadata": {},
     "output_type": "execute_result"
    }
   ],
   "source": [
    "targets_ds_precip = xr.open_dataset(\"../../Wetday_files/Targets/RhiresD_wet_1971_2023.nc\")[\"RhiresD\"]\n",
    "targets_ds_precip.shape"
   ]
  },
  {
   "cell_type": "code",
   "execution_count": 14,
   "id": "5cbfd39f",
   "metadata": {},
   "outputs": [
    {
     "data": {
      "text/plain": [
       "(19358, 240, 370)"
      ]
     },
     "execution_count": 14,
     "metadata": {},
     "output_type": "execute_result"
    }
   ],
   "source": [
    "targets_ds_tabsd= xr.open_dataset(\"../../Wetday_files/Targets/TabsD_wet_1971_2023.nc\")[\"TabsD\"]\n",
    "targets_ds_tabsd.shape"
   ]
  },
  {
   "cell_type": "code",
   "execution_count": 16,
   "id": "b2ef4a3a",
   "metadata": {},
   "outputs": [
    {
     "data": {
      "text/plain": [
       "(19358, 240, 370)"
      ]
     },
     "execution_count": 16,
     "metadata": {},
     "output_type": "execute_result"
    }
   ],
   "source": [
    "targets_ds_tmax= xr.open_dataset(\"../../Wetday_files/Targets/TmaxD_wet_1971_2023.nc\")[\"TmaxD\"]\n",
    "targets_ds_tmax.shape"
   ]
  },
  {
   "cell_type": "code",
   "execution_count": 17,
   "id": "3e904347",
   "metadata": {},
   "outputs": [
    {
     "data": {
      "text/plain": [
       "(19358, 240, 370)"
      ]
     },
     "execution_count": 17,
     "metadata": {},
     "output_type": "execute_result"
    }
   ],
   "source": [
    "targets_ds_tmin= xr.open_dataset(\"../../Wetday_files/Targets/TminD_wet_1971_2023.nc\")[\"TminD\"]\n",
    "targets_ds_tmin.shape"
   ]
  },
  {
   "cell_type": "markdown",
   "id": "fce5d13c",
   "metadata": {},
   "source": [
    "SHAPES MATCH!!!!!!"
   ]
  },
  {
   "cell_type": "markdown",
   "id": "89cff50f",
   "metadata": {},
   "source": [
    "The entire dataset will be divided into tain, test val for both bilinear and bicubic interpolation for calculating standardisation metric etc\n"
   ]
  },
  {
   "cell_type": "markdown",
   "id": "e68d02eb",
   "metadata": {},
   "source": [
    "All splits performed according to the function written in Functions/Train_Test_Val.py"
   ]
  },
  {
   "cell_type": "code",
   "execution_count": 18,
   "id": "fb711f70",
   "metadata": {},
   "outputs": [],
   "source": [
    "from Train_Test_Val import split_by_decade"
   ]
  },
  {
   "cell_type": "markdown",
   "id": "83041aff",
   "metadata": {},
   "source": [
    "Splitting features"
   ]
  },
  {
   "cell_type": "markdown",
   "id": "dbf99a05",
   "metadata": {},
   "source": [
    "RhiresD, TabsD, Tmin, Tmax"
   ]
  },
  {
   "cell_type": "markdown",
   "id": "6e35fa5b",
   "metadata": {},
   "source": [
    "Example Usage"
   ]
  },
  {
   "cell_type": "code",
   "execution_count": null,
   "id": "1714fc53",
   "metadata": {},
   "outputs": [],
   "source": [
    "\n",
    "train, val, test = split_by_decade(\n",
    "    features_ds_precip,\n",
    "    \"../../data/Features/Split_Data\",\n",
    "    \"rhiresd_features\"\n",
    ")\n"
   ]
  },
  {
   "cell_type": "markdown",
   "id": "9547908a",
   "metadata": {},
   "source": [
    "Splitting targets along the same lines"
   ]
  },
  {
   "cell_type": "markdown",
   "id": "48d88195",
   "metadata": {},
   "source": [
    "Example Usage"
   ]
  },
  {
   "cell_type": "code",
   "execution_count": null,
   "id": "67e28ed3",
   "metadata": {},
   "outputs": [],
   "source": [
    "targets_ds_tmax = xr.open_dataset(\n",
    "    \"../../data/Targets/files/TmaxD_wet_1971_2023.nc\",\n",
    "    chunks={\"time\": 365})[\"TmaxD\"]\n",
    "\n",
    "train, val, test = split_by_decade(\n",
    "    targets_ds_tmax,\n",
    "    \"../../data/Features/Split_Data\",\n",
    "    \"tmax_targets\"\n",
    ")"
   ]
  },
  {
   "cell_type": "markdown",
   "id": "168f33e5",
   "metadata": {},
   "source": [
    "Also splittign the targets along the very same lines usign the reproducible split"
   ]
  },
  {
   "cell_type": "markdown",
   "id": "4e6c5dfe",
   "metadata": {},
   "source": [
    "xxxxxxxxxxxxxxxxxxxxxxxxxxxxxxxDoing the same train test val split for bilinear nterpolation xxxxxxxxx"
   ]
  },
  {
   "cell_type": "markdown",
   "id": "bb88d631",
   "metadata": {},
   "source": [
    "Standardisation code"
   ]
  },
  {
   "cell_type": "markdown",
   "id": "baf3811d",
   "metadata": {},
   "source": [
    "Standardisation has to be performed avoiding data leakage. Hence, the train -test contamination has to be avoided. \n",
    "\n",
    "Can be done using statistics only for the training set"
   ]
  },
  {
   "cell_type": "markdown",
   "id": "517db7f7",
   "metadata": {},
   "source": [
    "The mean, std, min, max and range of the training set will then be used to perform scaling for the test set as well. "
   ]
  },
  {
   "cell_type": "markdown",
   "id": "05e76000",
   "metadata": {},
   "source": [
    "xxxxxxxxxxxxPerforming standardisation for the training set for both precip and temperaturexxxxx. Training will be performed on the bicubically interpolated dataset for now"
   ]
  },
  {
   "cell_type": "code",
   "execution_count": 5,
   "id": "3a128293",
   "metadata": {},
   "outputs": [],
   "source": [
    "from Standardise import standardise"
   ]
  },
  {
   "cell_type": "markdown",
   "id": "aa588f4c",
   "metadata": {},
   "source": [
    "Standardisation proceeds in the following steps"
   ]
  },
  {
   "cell_type": "markdown",
   "id": "a9f4f4b9",
   "metadata": {},
   "source": [
    "1. Features : \n",
    "Precipitation\n",
    "TabsD\n",
    "TminD\n",
    "TmaxD\n",
    "\n",
    "2. Targets:\n",
    "Precipitation\n",
    "TabsD\n",
    "TminD\n",
    "TmaxD"
   ]
  },
  {
   "cell_type": "markdown",
   "id": "c6ef65a6",
   "metadata": {},
   "source": [
    "Precip is scaled using min-max scaling, while temperatures of all kinds are scaled using their empirical mean and std (of the training set in both cases to prevent data leakage)"
   ]
  },
  {
   "cell_type": "markdown",
   "id": "da440466",
   "metadata": {},
   "source": [
    "1. Features"
   ]
  },
  {
   "cell_type": "markdown",
   "id": "426c670f",
   "metadata": {},
   "source": [
    "Precipitation train set\n"
   ]
  },
  {
   "cell_type": "code",
   "execution_count": 9,
   "id": "1551486b",
   "metadata": {},
   "outputs": [
    {
     "name": "stdout",
     "output_type": "stream",
     "text": [
      "Normalised/scaled variable saved to ../../data/Features/Split_Data_Normalised/SCALED_rhiresd_features_train.nc\n"
     ]
    }
   ],
   "source": [
    "input_path=\"../../data/Features/Split_Data/Train/rhiresd_features_train.nc\"\n",
    "output_path = \"../../data/Features/Split_Data_Normalised/SCALED_rhiresd_features_train.nc\"\n",
    "var = \"RhiresD\"\n",
    "precip_min, precip_max = standardise(input_path, output_path, var)"
   ]
  },
  {
   "cell_type": "markdown",
   "id": "4bcc5831",
   "metadata": {},
   "source": [
    "TabsD train set"
   ]
  },
  {
   "cell_type": "code",
   "execution_count": null,
   "id": "da622f56",
   "metadata": {},
   "outputs": [],
   "source": [
    "tabsd_mean, tabsd_std = standardise(\n",
    "    input_path=\"../../data/Features/Split_Data/Train/tabsd_features_train.nc\",\n",
    "    output_path=\"../../data/Features/Split_Data_Normalised/SCALED_tabsd_features_train.nc\",\n",
    "    var=\"TabsD\"\n",
    ")"
   ]
  },
  {
   "cell_type": "markdown",
   "id": "be45449d",
   "metadata": {},
   "source": [
    "Tmax train set"
   ]
  },
  {
   "cell_type": "code",
   "execution_count": 11,
   "id": "0229d971",
   "metadata": {},
   "outputs": [
    {
     "name": "stdout",
     "output_type": "stream",
     "text": [
      "Normalised/scaled variable saved to ../../data/Features/Split_Data_Normalised/SCALED_tmax_features_train.nc\n"
     ]
    }
   ],
   "source": [
    "tmax_mean, tmax_std = standardise(\n",
    "    input_path=\"../../data/Features/Split_Data/Train/tmax_features_train.nc\",\n",
    "    output_path=\"../../data/Features/Split_Data_Normalised/SCALED_tmax_features_train.nc\",\n",
    "    var=\"TmaxD\"\n",
    ")"
   ]
  },
  {
   "cell_type": "markdown",
   "id": "8079df67",
   "metadata": {},
   "source": [
    "Tmin train set"
   ]
  },
  {
   "cell_type": "code",
   "execution_count": 12,
   "id": "fb5c9ad3",
   "metadata": {},
   "outputs": [
    {
     "name": "stdout",
     "output_type": "stream",
     "text": [
      "Normalised/scaled variable saved to ../../data/Features/Split_Data_Normalised/SCALED_tmin_features_train.nc\n"
     ]
    }
   ],
   "source": [
    "tmin_mean, tmin_std = standardise(\n",
    "    input_path=\"../../data/Features/Split_Data/Train/tmin_features_train.nc\",\n",
    "    output_path=\"../../data/Features/Split_Data_Normalised/SCALED_tmin_features_train.nc\",\n",
    "    var=\"TminD\"\n",
    ")"
   ]
  },
  {
   "cell_type": "markdown",
   "id": "502bccff",
   "metadata": {},
   "source": [
    "Using above mean, max, std and min from temp and precip to standardise the vcalidation and testing data to avoid data leakage"
   ]
  },
  {
   "cell_type": "markdown",
   "id": "eb527d30",
   "metadata": {},
   "source": [
    "xxxxxxxxxxxxxxxxxxxxxxxxxxxxxxxxxxxxPRECIPITATIONxxxxxxxxxxxxxxxxxxxxxxxxxxxxxxxx"
   ]
  },
  {
   "cell_type": "markdown",
   "id": "f9a6cf91",
   "metadata": {},
   "source": [
    "Validation set : Precip, TabsD, TmaxD and TminD, (IN THAT ORDER)"
   ]
  },
  {
   "cell_type": "code",
   "execution_count": null,
   "id": "980425b0",
   "metadata": {},
   "outputs": [],
   "source": [
    "# Validation features :Precip\n",
    "input_path = \"../../data/Features/Split_Data/Val/rhiresd_features_val.nc\"\n",
    "output_path = \"../../data/Features/Split_Data_Normalised/Val/SCALED_rhiresd_features_val.nc\"\n",
    "var = \"RhiresD\"\n",
    "standardise(input_path, output_path, var, min=precip_min, max=precip_max)"
   ]
  },
  {
   "cell_type": "code",
   "execution_count": null,
   "id": "ae8c65d9",
   "metadata": {},
   "outputs": [],
   "source": [
    "input_path = \"../../data/Features/Split_Data/Val/tabsd_features_val.nc\"\n",
    "output_path = \"../../data/Features/Split_Data_Normalised/Val/SCALED_tabsd_features_val.nc\"\n",
    "var = \"TabsD\"\n",
    "standardise(input_path, output_path, var, mean=tabsd_mean, std=tabsd_std)"
   ]
  },
  {
   "cell_type": "code",
   "execution_count": null,
   "id": "18da8e58",
   "metadata": {},
   "outputs": [],
   "source": [
    "input_path = \"../../data/Features/Split_Data/Val/tmin_features_val.nc\"\n",
    "output_path = \"../../data/Features/Split_Data_Normalised/Val/SCALED_tmin_features_val.nc\"\n",
    "var = \"TminD\"\n",
    "standardise(input_path, output_path, var, mean=tmin_mean, std=tmin_std)"
   ]
  },
  {
   "cell_type": "code",
   "execution_count": null,
   "id": "afb48ce5",
   "metadata": {},
   "outputs": [],
   "source": [
    "input_path = \"../../data/Features/Split_Data/Val/tmax_features_val.nc\"\n",
    "output_path = \"../../data/Features/Split_Data_Normalised/Val/SCALED_tmax_features_val.nc\"\n",
    "var = \"TmaxD\"\n",
    "standardise(input_path, output_path, var, mean=tmax_mean, std=tmax_std)"
   ]
  },
  {
   "cell_type": "markdown",
   "id": "ba5246a6",
   "metadata": {},
   "source": [
    "TEST SET : Precip,TabsD, TminD, TmaxD (in that order )"
   ]
  },
  {
   "cell_type": "code",
   "execution_count": null,
   "id": "acb1296b",
   "metadata": {},
   "outputs": [],
   "source": [
    "input_path = \"../../data/Features/Split_Data/Test/rhiresd_features_test.nc\"\n",
    "output_path = \"../../data/Features/Split_Data_Normalised/Test/SCALED_rhiresd_features_test.nc\"\n",
    "var = \"RhiresD\"\n",
    "standardise(input_path, output_path, var, min=precip_min, max=precip_max)"
   ]
  },
  {
   "cell_type": "code",
   "execution_count": null,
   "id": "38781476",
   "metadata": {},
   "outputs": [],
   "source": [
    "input_path = \"../../data/Features/Split_Data/Test/tabsd_features_test.nc\"\n",
    "output_path = \"../../data/Features/Split_Data_Normalised/Test/SCALED_tabsd_features_test.nc\"\n",
    "var = \"TabsD\"\n",
    "standardise(input_path, output_path, var, mean=tabsd_mean, std=tabsd_std)"
   ]
  },
  {
   "cell_type": "code",
   "execution_count": null,
   "id": "310f980b",
   "metadata": {},
   "outputs": [],
   "source": [
    "input_path = \"../../data/Features/Split_Data/Test/tmin_features_test.nc\"\n",
    "output_path = \"../../data/Features/Split_Data_Normalised/Test/SCALED_tmin_features_test.nc\"\n",
    "var = \"TminD\"\n",
    "standardise(input_path, output_path, var, mean=tmin_mean, std=tmin_std)"
   ]
  },
  {
   "cell_type": "code",
   "execution_count": null,
   "id": "ce590dd6",
   "metadata": {},
   "outputs": [],
   "source": [
    "input_path = \"../../data/Features/Split_Data/Test/tmax_features_test.nc\"\n",
    "output_path = \"../../data/Features/Split_Data_Normalised/Test/SCALED_tmax_features_test.nc\"\n",
    "var = \"TmaxD\"\n",
    "standardise(input_path, output_path, var, mean=tmax_mean, std=tmax_std)"
   ]
  },
  {
   "cell_type": "markdown",
   "id": "8dce3ead",
   "metadata": {},
   "source": [
    "NORMALISING THE TARGETS USING THE SAME SCHEMA OUTLINED ABOVE "
   ]
  },
  {
   "cell_type": "code",
   "execution_count": 22,
   "id": "799a0855",
   "metadata": {},
   "outputs": [
    {
     "name": "stdout",
     "output_type": "stream",
     "text": [
      "Normalised/scaled variable saved to ../../data/Targets/Split_Data_Normalised/Train/SCALED_rhiresd_targets_train.nc\n"
     ]
    }
   ],
   "source": [
    "target_precip_min, target_precip_max = standardise(\n",
    "    input_path=\"../../data/Targets/Split_Data/Train/rhiresd_targets_train.nc\",\n",
    "    output_path=\"../../data/Targets/Split_Data_Normalised/Train/SCALED_rhiresd_targets_train.nc\",\n",
    "    var=\"RhiresD\"\n",
    ")"
   ]
  },
  {
   "cell_type": "code",
   "execution_count": null,
   "id": "deb2d94f",
   "metadata": {},
   "outputs": [],
   "source": [
    "target_tabsd_mean, target_tabsd_std = standardise(\n",
    "    input_path=\"../../data/Targets/Split_Data/Train/tabsd_targets_train.nc\",\n",
    "    output_path=\"../../data/Targets/Split_Data_Normalised/Train/SCALED_tabsd_targets_train.nc\",\n",
    "    var=\"TabsD\"\n",
    ")"
   ]
  },
  {
   "cell_type": "code",
   "execution_count": 24,
   "id": "32a5c919",
   "metadata": {},
   "outputs": [
    {
     "name": "stdout",
     "output_type": "stream",
     "text": [
      "Normalised/scaled variable saved to ../../data/Targets/Split_Data_Normalised/Train/SCALED_tmin_targets_train.nc\n"
     ]
    }
   ],
   "source": [
    "target_tmin_mean, target_tmin_std = standardise(\n",
    "    input_path=\"../../data/Targets/Split_Data/Train/tmin_targets_train.nc\",\n",
    "    output_path=\"../../data/Targets/Split_Data_Normalised/Train/SCALED_tmin_targets_train.nc\",\n",
    "    var=\"TminD\"\n",
    ")"
   ]
  },
  {
   "cell_type": "code",
   "execution_count": 25,
   "id": "a69a9981",
   "metadata": {},
   "outputs": [
    {
     "name": "stdout",
     "output_type": "stream",
     "text": [
      "Normalised/scaled variable saved to ../../data/Targets/Split_Data_Normalised/Train/SCALED_tmax_targets_train.nc\n"
     ]
    }
   ],
   "source": [
    "target_tmax_mean, target_tmax_std = standardise(\n",
    "    input_path=\"../../data/Targets/Split_Data/Train/tmax_targets_train.nc\",\n",
    "    output_path=\"../../data/Targets/Split_Data_Normalised/Train/SCALED_tmax_targets_train.nc\",\n",
    "    var=\"TmaxD\"\n",
    ")"
   ]
  },
  {
   "cell_type": "markdown",
   "id": "825cff94",
   "metadata": {},
   "source": [
    "Standardising the Val set of the features "
   ]
  },
  {
   "cell_type": "code",
   "execution_count": null,
   "id": "aa7a11e7",
   "metadata": {},
   "outputs": [],
   "source": [
    "input_path = \"../../data/Targets/Split_Data/Val/rhiresd_targets_val.nc\"\n",
    "output_path = \"../../data/Targets/Split_Data_Normalised/Val/SCALED_rhiresd_targets_val.nc\"\n",
    "var = \"RhiresD\"\n",
    "standardise(input_path, output_path, var, min=target_precip_min, max=target_precip_max)"
   ]
  },
  {
   "cell_type": "code",
   "execution_count": null,
   "id": "fa7e40ec",
   "metadata": {},
   "outputs": [],
   "source": [
    "input_path = \"../../data/Targets/Split_Data/Val/tabsd_targets_val.nc\"\n",
    "output_path = \"../../data/Targets/Split_Data_Normalised/Val/SCALED_tabsd_targets_val.nc\"\n",
    "var = \"TabsD\"\n",
    "standardise(input_path, output_path, var, mean=target_tabsd_mean, max=target_tabsd_std)"
   ]
  },
  {
   "cell_type": "code",
   "execution_count": null,
   "id": "f02a6a0e",
   "metadata": {},
   "outputs": [],
   "source": [
    "input_path = \"../../data/Targets/Split_Data/Val/tmin_targets_val.nc\"\n",
    "output_path = \"../../data/Targets/Split_Data_Normalised/Val/SCALED_tmin_targets_val.nc\"\n",
    "var = \"TminD\"\n",
    "standardise(input_path, output_path, var, mean=target_tmin_mean, max=target_tmin_std)"
   ]
  },
  {
   "cell_type": "code",
   "execution_count": null,
   "id": "67ebe888",
   "metadata": {},
   "outputs": [],
   "source": [
    "input_path = \"../../data/Targets/Split_Data/Val/tmax_targets_val.nc\"\n",
    "output_path = \"../../data/Targets/Split_Data_Normalised/Val/SCALED_tmax_targets_val.nc\"\n",
    "var = \"TmaxD\"\n",
    "standardise(input_path, output_path, var, mean=target_tmax_mean, max=target_tmax_std)"
   ]
  },
  {
   "cell_type": "markdown",
   "id": "3e91f29d",
   "metadata": {},
   "source": [
    "TEST SET standardisation for targets"
   ]
  },
  {
   "cell_type": "code",
   "execution_count": null,
   "id": "9a2860d5",
   "metadata": {},
   "outputs": [],
   "source": [
    "input_path = \"../../data/Targets/Split_Data/Test/rhiresd_targets_test.nc\"\n",
    "output_path = \"../../data/Targets/Split_Data_Normalised/Test/SCALED_rhiresd_targets_test.nc\"\n",
    "var = \"RhiresD\"\n",
    "standardise(input_path, output_path, var, min=target_precip_min, max=target_precip_max)"
   ]
  },
  {
   "cell_type": "code",
   "execution_count": null,
   "id": "bc8143e4",
   "metadata": {},
   "outputs": [],
   "source": [
    "input_path = \"../../data/Targets/Split_Data/Test/tabsd_targets_test.nc\"\n",
    "output_path = \"../../data/Targets/Split_Data_Normalised/Test/SCALED_tabsd_targets_test.nc\"\n",
    "var = \"TabsD\"\n",
    "standardise(input_path, output_path, var, mean=target_tabsd_mean, std=target_tabsd_std)"
   ]
  },
  {
   "cell_type": "code",
   "execution_count": null,
   "id": "26046e05",
   "metadata": {},
   "outputs": [],
   "source": [
    "input_path = \"../../data/Targets/Split_Data/Test/tmin_targets_test.nc\"\n",
    "output_path = \"../../data/Targets/Split_Data_Normalised/Test/SCALED_tmin_targets_test.nc\"\n",
    "var = \"TminD\"\n",
    "standardise(input_path, output_path, var, mean=target_tmin_mean, std=target_tmin_std)"
   ]
  },
  {
   "cell_type": "code",
   "execution_count": null,
   "id": "60031606",
   "metadata": {},
   "outputs": [],
   "source": [
    "input_path = \"../../data/Targets/Split_Data/Test/tmax_targets_test.nc\"\n",
    "output_path = \"../../data/Targets/Split_Data_Normalised/Test/SCALED_tmax_targets_test.nc\"\n",
    "var = \"TmaxD\"\n",
    "standardise(input_path, output_path, var, mean=target_tmax_mean, std=target_tmax_std)"
   ]
  }
 ],
 "metadata": {
  "kernelspec": {
   "display_name": "Python 3",
   "language": "python",
   "name": "python3"
  },
  "language_info": {
   "codemirror_mode": {
    "name": "ipython",
    "version": 3
   },
   "file_extension": ".py",
   "mimetype": "text/x-python",
   "name": "python",
   "nbconvert_exporter": "python",
   "pygments_lexer": "ipython3",
   "version": "3.10.17"
  }
 },
 "nbformat": 4,
 "nbformat_minor": 5
}
