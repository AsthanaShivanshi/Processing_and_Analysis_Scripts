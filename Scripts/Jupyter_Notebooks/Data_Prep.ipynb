{
 "cells": [
  {
   "cell_type": "markdown",
   "id": "59cbadfd",
   "metadata": {},
   "source": [
    "!!!!!!!!!!!!!!!!!!!!!!!!!!!!!!!!!This script contains maskign code before standardisation. however standardisation of inputs and targets was performed before the interpoléated baselines were generated via CDO for bilinear and bicubic and then masked so that they only retain the Swiss Domain"
   ]
  },
  {
   "cell_type": "markdown",
   "id": "3f882966",
   "metadata": {},
   "source": [
    "Workflow : Bilinear interpolation, bicubic interpolation, Masking to retain only the swiss domain, splitting into train, test val, gridded RMSE R2, pooled RMSE, R2"
   ]
  },
  {
   "cell_type": "code",
   "execution_count": 2,
   "id": "a0cc5ad9",
   "metadata": {},
   "outputs": [],
   "source": [
    "import sys\n",
    "sys.path.append(\"../../Scripts/Functions\")\n",
    "import xarray as xr\n",
    "import numpy as np"
   ]
  },
  {
   "cell_type": "code",
   "execution_count": 3,
   "id": "974f0555",
   "metadata": {},
   "outputs": [
    {
     "name": "stdout",
     "output_type": "stream",
     "text": [
      "<Client: 'tcp://127.0.0.1:44725' processes=4 threads=4, memory=503.49 GiB>\n"
     ]
    }
   ],
   "source": [
    "from dask.distributed import Client\n",
    "client= Client()\n",
    "print(client)"
   ]
  },
  {
   "cell_type": "markdown",
   "id": "226f3458",
   "metadata": {},
   "source": [
    "installed dask distributed, and used all 4 CPU cores, computing time reduced to 30 seconds per line!!!"
   ]
  },
  {
   "cell_type": "markdown",
   "id": "ea1e2d8e",
   "metadata": {},
   "source": [
    "xxxxxxxxxxxxxxxxxxxxxxxxxxxxxxxxxxxCHECKING SHAPExxxxxxxxxxxxxxxxxxxxxxxxxxxxxxxxxx"
   ]
  },
  {
   "cell_type": "markdown",
   "id": "8a649761",
   "metadata": {},
   "source": [
    "FEATURES : CHECKIGN SHAPES"
   ]
  },
  {
   "cell_type": "code",
   "execution_count": 4,
   "id": "5b6d6b92",
   "metadata": {},
   "outputs": [
    {
     "data": {
      "text/plain": [
       "(19358, 240, 370)"
      ]
     },
     "execution_count": 4,
     "metadata": {},
     "output_type": "execute_result"
    }
   ],
   "source": [
    "\n",
    "features_ds_precip = xr.open_dataset(\"../../data/Features/files/bicubic_rhiresd.nc\")[\"RhiresD\"]\n",
    "features_ds_precip.shape"
   ]
  },
  {
   "cell_type": "code",
   "execution_count": 5,
   "id": "3c0e7da7",
   "metadata": {},
   "outputs": [
    {
     "data": {
      "text/plain": [
       "(19358, 240, 370)"
      ]
     },
     "execution_count": 5,
     "metadata": {},
     "output_type": "execute_result"
    }
   ],
   "source": [
    "features_ds_tabsd= xr.open_dataset(\"../../data/Features/files/bicubic_tabsd.nc\")[\"TabsD\"]\n",
    "features_ds_tabsd.shape"
   ]
  },
  {
   "cell_type": "code",
   "execution_count": 6,
   "id": "1525a3b0",
   "metadata": {},
   "outputs": [
    {
     "data": {
      "text/plain": [
       "(19358, 240, 370)"
      ]
     },
     "execution_count": 6,
     "metadata": {},
     "output_type": "execute_result"
    }
   ],
   "source": [
    "features_ds_tmax= xr.open_dataset(\"../../data/Features/files/bicubic_tmax.nc\")[\"TmaxD\"]\n",
    "features_ds_tmax.shape"
   ]
  },
  {
   "cell_type": "code",
   "execution_count": null,
   "id": "28c68e7a",
   "metadata": {},
   "outputs": [
    {
     "data": {
      "text/plain": [
       "(19358, 240, 370)"
      ]
     },
     "execution_count": 7,
     "metadata": {},
     "output_type": "execute_result"
    }
   ],
   "source": [
    "features_ds_tmin= xr.open_dataset(\"../../data/Features/files/bicubic_tmin.nc\")[\"TminD\"]\n",
    "features_ds_tmin.shape"
   ]
  },
  {
   "cell_type": "markdown",
   "id": "b60fefea",
   "metadata": {},
   "source": [
    "CHECKING SHAPES OF TARGETS"
   ]
  },
  {
   "cell_type": "code",
   "execution_count": 7,
   "id": "71bec8d7",
   "metadata": {},
   "outputs": [
    {
     "data": {
      "text/plain": [
       "(19358, 240, 370)"
      ]
     },
     "execution_count": 7,
     "metadata": {},
     "output_type": "execute_result"
    }
   ],
   "source": [
    "targets_ds_precip = xr.open_dataset(\"../../data/Targets/files/RhiresD_wet_1971_2023.nc\")[\"RhiresD\"]\n",
    "targets_ds_precip.shape"
   ]
  },
  {
   "cell_type": "code",
   "execution_count": null,
   "id": "5cbfd39f",
   "metadata": {},
   "outputs": [
    {
     "data": {
      "text/plain": [
       "(19358, 240, 370)"
      ]
     },
     "execution_count": 7,
     "metadata": {},
     "output_type": "execute_result"
    }
   ],
   "source": [
    "targets_ds_tabsd= xr.open_dataset(\"../../data/Targets/files/TabsD_wet_1971_2023.nc\")[\"TabsD\"]\n",
    "targets_ds_tabsd.shape"
   ]
  },
  {
   "cell_type": "code",
   "execution_count": null,
   "id": "b2ef4a3a",
   "metadata": {},
   "outputs": [],
   "source": [
    "targets_ds_tmax= xr.open_dataset(\"../../data/Targets/files/TmaxD_wet_1971_2023.nc\")[\"TmaxD\"]"
   ]
  },
  {
   "cell_type": "code",
   "execution_count": null,
   "id": "3e904347",
   "metadata": {},
   "outputs": [
    {
     "data": {
      "text/plain": [
       "(19358, 240, 370)"
      ]
     },
     "execution_count": 9,
     "metadata": {},
     "output_type": "execute_result"
    }
   ],
   "source": [
    "targets_ds_tmin= xr.open_dataset(\"../../data/Targets/files/TminD_wet_1971_2023.nc\")[\"TminD\"]\n",
    "targets_ds_tmin.shape"
   ]
  },
  {
   "cell_type": "markdown",
   "id": "fce5d13c",
   "metadata": {},
   "source": [
    "SHAPES MATCH!!!!!!"
   ]
  },
  {
   "cell_type": "markdown",
   "id": "89cff50f",
   "metadata": {},
   "source": [
    "The entire dataset will be divided into tain, test val for both bilinear and bicubic interpolation for calculating standardisation metric etc\n"
   ]
  },
  {
   "cell_type": "markdown",
   "id": "e68d02eb",
   "metadata": {},
   "source": [
    "All splits performed according to the function written in Functions/Train_Test_Val.py"
   ]
  },
  {
   "cell_type": "code",
   "execution_count": 4,
   "id": "fb711f70",
   "metadata": {},
   "outputs": [],
   "source": [
    "from Train_Test_Val import split_by_decade"
   ]
  },
  {
   "cell_type": "markdown",
   "id": "83041aff",
   "metadata": {},
   "source": [
    "Splitting features"
   ]
  },
  {
   "cell_type": "markdown",
   "id": "dbf99a05",
   "metadata": {},
   "source": [
    "RhiresD, TabsD, Tmin, Tmax"
   ]
  },
  {
   "cell_type": "markdown",
   "id": "6e35fa5b",
   "metadata": {},
   "source": [
    "Example Usage"
   ]
  },
  {
   "cell_type": "code",
   "execution_count": null,
   "id": "1714fc53",
   "metadata": {},
   "outputs": [],
   "source": [
    "\n",
    "train, val, test = split_by_decade(\n",
    "    features_ds_precip,\n",
    "    \"../../data/Features/Split_Data\",\n",
    "    \"rhiresd_features\"\n",
    ")\n"
   ]
  },
  {
   "cell_type": "markdown",
   "id": "9547908a",
   "metadata": {},
   "source": [
    "Splitting targets along the same lines"
   ]
  },
  {
   "cell_type": "markdown",
   "id": "48d88195",
   "metadata": {},
   "source": [
    "Example Usage"
   ]
  },
  {
   "cell_type": "code",
   "execution_count": null,
   "id": "67e28ed3",
   "metadata": {},
   "outputs": [],
   "source": [
    "targets_ds_tmax = xr.open_dataset(\n",
    "    \"../../data/Targets/files/TmaxD_wet_1971_2023.nc\",\n",
    "    chunks={\"time\": 365})[\"TmaxD\"]\n",
    "\n",
    "train, val, test = split_by_decade(\n",
    "    targets_ds_tmax,\n",
    "    \"../../data/Features/Split_Data\",\n",
    "    \"tmax_targets\"\n",
    ")"
   ]
  },
  {
   "cell_type": "markdown",
   "id": "168f33e5",
   "metadata": {},
   "source": [
    "Also splittign the targets along the very same lines usign the reproducible split"
   ]
  },
  {
   "cell_type": "markdown",
   "id": "4e6c5dfe",
   "metadata": {},
   "source": [
    "xxxxxxxxxxxxxxxxxxxxxxxxxxxxxxxDoing the same train test val split for bilinear nterpolation xxxxxxxxx"
   ]
  },
  {
   "cell_type": "markdown",
   "id": "bb88d631",
   "metadata": {},
   "source": [
    "Standardisation code"
   ]
  },
  {
   "cell_type": "markdown",
   "id": "baf3811d",
   "metadata": {},
   "source": [
    "Standardisation has to be performed avoiding data leakage. Hence, the train -test contamination has to be avoided. \n",
    "\n",
    "Can be done using statistics only for the training set"
   ]
  },
  {
   "cell_type": "markdown",
   "id": "517db7f7",
   "metadata": {},
   "source": [
    "The mean, std, min, max and range of the training set will then be used to perform scaling for the test set as well. "
   ]
  },
  {
   "cell_type": "markdown",
   "id": "05e76000",
   "metadata": {},
   "source": [
    "xxxxxxxxxxxxPerforming standardisation for the training set for both precip and temperaturexxxxx. Training will be performed on the bicubically interpolated dataset for now"
   ]
  },
  {
   "cell_type": "code",
   "execution_count": 5,
   "id": "3a128293",
   "metadata": {},
   "outputs": [],
   "source": [
    "from Standardise import standardise"
   ]
  },
  {
   "cell_type": "markdown",
   "id": "aa588f4c",
   "metadata": {},
   "source": [
    "Standardisation proceeds in the following steps"
   ]
  },
  {
   "cell_type": "markdown",
   "id": "a9f4f4b9",
   "metadata": {},
   "source": [
    "1. Features : \n",
    "Precipitation\n",
    "TabsD\n",
    "TminD\n",
    "TmaxD\n",
    "\n",
    "2. Targets:\n",
    "Precipitation\n",
    "TabsD\n",
    "TminD\n",
    "TmaxD"
   ]
  },
  {
   "cell_type": "markdown",
   "id": "c6ef65a6",
   "metadata": {},
   "source": [
    "Precip is scaled using min-max scaling, while temperatures of all kinds are scaled using their empirical mean and std (of the training set in both cases to prevent data leakage)"
   ]
  },
  {
   "cell_type": "markdown",
   "id": "da440466",
   "metadata": {},
   "source": [
    "1. Features"
   ]
  },
  {
   "cell_type": "markdown",
   "id": "426c670f",
   "metadata": {},
   "source": [
    "Precipitation train set\n"
   ]
  },
  {
   "cell_type": "code",
   "execution_count": 9,
   "id": "1551486b",
   "metadata": {},
   "outputs": [
    {
     "name": "stdout",
     "output_type": "stream",
     "text": [
      "Normalised/scaled variable saved to ../../data/Features/Split_Data_Normalised/SCALED_rhiresd_features_train.nc\n"
     ]
    }
   ],
   "source": [
    "input_path=\"../../data/Features/Split_Data/Train/rhiresd_features_train.nc\"\n",
    "output_path = \"../../data/Features/Split_Data_Normalised/SCALED_rhiresd_features_train.nc\"\n",
    "var = \"RhiresD\"\n",
    "precip_min, precip_max = standardise(input_path, output_path, var)"
   ]
  },
  {
   "cell_type": "markdown",
   "id": "4bcc5831",
   "metadata": {},
   "source": [
    "TabsD train set"
   ]
  },
  {
   "cell_type": "code",
   "execution_count": null,
   "id": "da622f56",
   "metadata": {},
   "outputs": [],
   "source": [
    "tabsd_mean, tabsd_std = standardise(\n",
    "    input_path=\"../../data/Features/Split_Data/Train/tabsd_features_train.nc\",\n",
    "    output_path=\"../../data/Features/Split_Data_Normalised/SCALED_tabsd_features_train.nc\",\n",
    "    var=\"TabsD\"\n",
    ")"
   ]
  },
  {
   "cell_type": "markdown",
   "id": "be45449d",
   "metadata": {},
   "source": [
    "Tmax train set"
   ]
  },
  {
   "cell_type": "code",
   "execution_count": 11,
   "id": "0229d971",
   "metadata": {},
   "outputs": [
    {
     "name": "stdout",
     "output_type": "stream",
     "text": [
      "Normalised/scaled variable saved to ../../data/Features/Split_Data_Normalised/SCALED_tmax_features_train.nc\n"
     ]
    }
   ],
   "source": [
    "tmax_mean, tmax_std = standardise(\n",
    "    input_path=\"../../data/Features/Split_Data/Train/tmax_features_train.nc\",\n",
    "    output_path=\"../../data/Features/Split_Data_Normalised/SCALED_tmax_features_train.nc\",\n",
    "    var=\"TmaxD\"\n",
    ")"
   ]
  },
  {
   "cell_type": "markdown",
   "id": "8079df67",
   "metadata": {},
   "source": [
    "Tmin train set"
   ]
  },
  {
   "cell_type": "code",
   "execution_count": 12,
   "id": "fb5c9ad3",
   "metadata": {},
   "outputs": [
    {
     "name": "stdout",
     "output_type": "stream",
     "text": [
      "Normalised/scaled variable saved to ../../data/Features/Split_Data_Normalised/SCALED_tmin_features_train.nc\n"
     ]
    }
   ],
   "source": [
    "tmin_mean, tmin_std = standardise(\n",
    "    input_path=\"../../data/Features/Split_Data/Train/tmin_features_train.nc\",\n",
    "    output_path=\"../../data/Features/Split_Data_Normalised/SCALED_tmin_features_train.nc\",\n",
    "    var=\"TminD\"\n",
    ")"
   ]
  },
  {
   "cell_type": "markdown",
   "id": "502bccff",
   "metadata": {},
   "source": [
    "Using above mean, max, std and min from temp and precip to standardise the vcalidation and testing data to avoid data leakage"
   ]
  },
  {
   "cell_type": "markdown",
   "id": "eb527d30",
   "metadata": {},
   "source": [
    "xxxxxxxxxxxxxxxxxxxxxxxxxxxxxxxxxxxxPRECIPITATIONxxxxxxxxxxxxxxxxxxxxxxxxxxxxxxxx"
   ]
  },
  {
   "cell_type": "markdown",
   "id": "f9a6cf91",
   "metadata": {},
   "source": [
    "Validation set : Precip, TabsD, TmaxD and TminD, (IN THAT ORDER)"
   ]
  },
  {
   "cell_type": "code",
   "execution_count": null,
   "id": "980425b0",
   "metadata": {},
   "outputs": [],
   "source": [
    "# Validation features :Precip\n",
    "input_path = \"../../data/Features/Split_Data/Val/rhiresd_features_val.nc\"\n",
    "output_path = \"../../data/Features/Split_Data_Normalised/Val/SCALED_rhiresd_features_val.nc\"\n",
    "var = \"RhiresD\"\n",
    "standardise(input_path, output_path, var, min=precip_min, max=precip_max)"
   ]
  },
  {
   "cell_type": "code",
   "execution_count": null,
   "id": "ae8c65d9",
   "metadata": {},
   "outputs": [],
   "source": [
    "input_path = \"../../data/Features/Split_Data/Val/tabsd_features_val.nc\"\n",
    "output_path = \"../../data/Features/Split_Data_Normalised/Val/SCALED_tabsd_features_val.nc\"\n",
    "var = \"TabsD\"\n",
    "standardise(input_path, output_path, var, mean=tabsd_mean, std=tabsd_std)"
   ]
  },
  {
   "cell_type": "code",
   "execution_count": null,
   "id": "18da8e58",
   "metadata": {},
   "outputs": [],
   "source": [
    "input_path = \"../../data/Features/Split_Data/Val/tmin_features_val.nc\"\n",
    "output_path = \"../../data/Features/Split_Data_Normalised/Val/SCALED_tmin_features_val.nc\"\n",
    "var = \"TminD\"\n",
    "standardise(input_path, output_path, var, mean=tmin_mean, std=tmin_std)"
   ]
  },
  {
   "cell_type": "code",
   "execution_count": null,
   "id": "afb48ce5",
   "metadata": {},
   "outputs": [],
   "source": [
    "input_path = \"../../data/Features/Split_Data/Val/tmax_features_val.nc\"\n",
    "output_path = \"../../data/Features/Split_Data_Normalised/Val/SCALED_tmax_features_val.nc\"\n",
    "var = \"TmaxD\"\n",
    "standardise(input_path, output_path, var, mean=tmax_mean, std=tmax_std)"
   ]
  },
  {
   "cell_type": "markdown",
   "id": "ba5246a6",
   "metadata": {},
   "source": [
    "TEST SET : Precip,TabsD, TminD, TmaxD (in that order )"
   ]
  },
  {
   "cell_type": "code",
   "execution_count": null,
   "id": "acb1296b",
   "metadata": {},
   "outputs": [],
   "source": [
    "input_path = \"../../data/Features/Split_Data/Test/rhiresd_features_test.nc\"\n",
    "output_path = \"../../data/Features/Split_Data_Normalised/Test/SCALED_rhiresd_features_test.nc\"\n",
    "var = \"RhiresD\"\n",
    "standardise(input_path, output_path, var, min=precip_min, max=precip_max)"
   ]
  },
  {
   "cell_type": "code",
   "execution_count": null,
   "id": "38781476",
   "metadata": {},
   "outputs": [],
   "source": [
    "input_path = \"../../data/Features/Split_Data/Test/tabsd_features_test.nc\"\n",
    "output_path = \"../../data/Features/Split_Data_Normalised/Test/SCALED_tabsd_features_test.nc\"\n",
    "var = \"TabsD\"\n",
    "standardise(input_path, output_path, var, mean=tabsd_mean, std=tabsd_std)"
   ]
  },
  {
   "cell_type": "code",
   "execution_count": null,
   "id": "310f980b",
   "metadata": {},
   "outputs": [],
   "source": [
    "input_path = \"../../data/Features/Split_Data/Test/tmin_features_test.nc\"\n",
    "output_path = \"../../data/Features/Split_Data_Normalised/Test/SCALED_tmin_features_test.nc\"\n",
    "var = \"TminD\"\n",
    "standardise(input_path, output_path, var, mean=tmin_mean, std=tmin_std)"
   ]
  },
  {
   "cell_type": "code",
   "execution_count": null,
   "id": "ce590dd6",
   "metadata": {},
   "outputs": [],
   "source": [
    "input_path = \"../../data/Features/Split_Data/Test/tmax_features_test.nc\"\n",
    "output_path = \"../../data/Features/Split_Data_Normalised/Test/SCALED_tmax_features_test.nc\"\n",
    "var = \"TmaxD\"\n",
    "standardise(input_path, output_path, var, mean=tmax_mean, std=tmax_std)"
   ]
  },
  {
   "cell_type": "markdown",
   "id": "8dce3ead",
   "metadata": {},
   "source": [
    "NORMALISING THE TARGETS USING THE SAME SCHEMA OUTLINED ABOVE "
   ]
  },
  {
   "cell_type": "code",
   "execution_count": 22,
   "id": "799a0855",
   "metadata": {},
   "outputs": [
    {
     "name": "stdout",
     "output_type": "stream",
     "text": [
      "Normalised/scaled variable saved to ../../data/Targets/Split_Data_Normalised/Train/SCALED_rhiresd_targets_train.nc\n"
     ]
    }
   ],
   "source": [
    "target_precip_min, target_precip_max = standardise(\n",
    "    input_path=\"../../data/Targets/Split_Data/Train/rhiresd_targets_train.nc\",\n",
    "    output_path=\"../../data/Targets/Split_Data_Normalised/Train/SCALED_rhiresd_targets_train.nc\",\n",
    "    var=\"RhiresD\"\n",
    ")"
   ]
  },
  {
   "cell_type": "code",
   "execution_count": null,
   "id": "deb2d94f",
   "metadata": {},
   "outputs": [],
   "source": [
    "target_tabsd_mean, target_tabsd_std = standardise(\n",
    "    input_path=\"../../data/Targets/Split_Data/Train/tabsd_targets_train.nc\",\n",
    "    output_path=\"../../data/Targets/Split_Data_Normalised/Train/SCALED_tabsd_targets_train.nc\",\n",
    "    var=\"TabsD\"\n",
    ")"
   ]
  },
  {
   "cell_type": "code",
   "execution_count": 24,
   "id": "32a5c919",
   "metadata": {},
   "outputs": [
    {
     "name": "stdout",
     "output_type": "stream",
     "text": [
      "Normalised/scaled variable saved to ../../data/Targets/Split_Data_Normalised/Train/SCALED_tmin_targets_train.nc\n"
     ]
    }
   ],
   "source": [
    "target_tmin_mean, target_tmin_std = standardise(\n",
    "    input_path=\"../../data/Targets/Split_Data/Train/tmin_targets_train.nc\",\n",
    "    output_path=\"../../data/Targets/Split_Data_Normalised/Train/SCALED_tmin_targets_train.nc\",\n",
    "    var=\"TminD\"\n",
    ")"
   ]
  },
  {
   "cell_type": "code",
   "execution_count": 25,
   "id": "a69a9981",
   "metadata": {},
   "outputs": [
    {
     "name": "stdout",
     "output_type": "stream",
     "text": [
      "Normalised/scaled variable saved to ../../data/Targets/Split_Data_Normalised/Train/SCALED_tmax_targets_train.nc\n"
     ]
    }
   ],
   "source": [
    "target_tmax_mean, target_tmax_std = standardise(\n",
    "    input_path=\"../../data/Targets/Split_Data/Train/tmax_targets_train.nc\",\n",
    "    output_path=\"../../data/Targets/Split_Data_Normalised/Train/SCALED_tmax_targets_train.nc\",\n",
    "    var=\"TmaxD\"\n",
    ")"
   ]
  },
  {
   "cell_type": "markdown",
   "id": "825cff94",
   "metadata": {},
   "source": [
    "Standardising the Val set of the features "
   ]
  },
  {
   "cell_type": "code",
   "execution_count": null,
   "id": "aa7a11e7",
   "metadata": {},
   "outputs": [],
   "source": [
    "input_path = \"../../data/Targets/Split_Data/Val/rhiresd_targets_val.nc\"\n",
    "output_path = \"../../data/Targets/Split_Data_Normalised/Val/SCALED_rhiresd_targets_val.nc\"\n",
    "var = \"RhiresD\"\n",
    "standardise(input_path, output_path, var, min=target_precip_min, max=target_precip_max)"
   ]
  },
  {
   "cell_type": "code",
   "execution_count": null,
   "id": "fa7e40ec",
   "metadata": {},
   "outputs": [],
   "source": [
    "input_path = \"../../data/Targets/Split_Data/Val/tabsd_targets_val.nc\"\n",
    "output_path = \"../../data/Targets/Split_Data_Normalised/Val/SCALED_tabsd_targets_val.nc\"\n",
    "var = \"TabsD\"\n",
    "standardise(input_path, output_path, var, mean=target_tabsd_mean, max=target_tabsd_std)"
   ]
  },
  {
   "cell_type": "code",
   "execution_count": null,
   "id": "f02a6a0e",
   "metadata": {},
   "outputs": [],
   "source": [
    "input_path = \"../../data/Targets/Split_Data/Val/tmin_targets_val.nc\"\n",
    "output_path = \"../../data/Targets/Split_Data_Normalised/Val/SCALED_tmin_targets_val.nc\"\n",
    "var = \"TminD\"\n",
    "standardise(input_path, output_path, var, mean=target_tmin_mean, max=target_tmin_std)"
   ]
  },
  {
   "cell_type": "code",
   "execution_count": null,
   "id": "67ebe888",
   "metadata": {},
   "outputs": [],
   "source": [
    "input_path = \"../../data/Targets/Split_Data/Val/tmax_targets_val.nc\"\n",
    "output_path = \"../../data/Targets/Split_Data_Normalised/Val/SCALED_tmax_targets_val.nc\"\n",
    "var = \"TmaxD\"\n",
    "standardise(input_path, output_path, var, mean=target_tmax_mean, max=target_tmax_std)"
   ]
  },
  {
   "cell_type": "markdown",
   "id": "3e91f29d",
   "metadata": {},
   "source": [
    "TEST SET standardisation for targets"
   ]
  },
  {
   "cell_type": "code",
   "execution_count": null,
   "id": "9a2860d5",
   "metadata": {},
   "outputs": [],
   "source": [
    "input_path = \"../../data/Targets/Split_Data/Test/rhiresd_targets_test.nc\"\n",
    "output_path = \"../../data/Targets/Split_Data_Normalised/Test/SCALED_rhiresd_targets_test.nc\"\n",
    "var = \"RhiresD\"\n",
    "standardise(input_path, output_path, var, min=target_precip_min, max=target_precip_max)"
   ]
  },
  {
   "cell_type": "code",
   "execution_count": null,
   "id": "bc8143e4",
   "metadata": {},
   "outputs": [],
   "source": [
    "input_path = \"../../data/Targets/Split_Data/Test/tabsd_targets_test.nc\"\n",
    "output_path = \"../../data/Targets/Split_Data_Normalised/Test/SCALED_tabsd_targets_test.nc\"\n",
    "var = \"TabsD\"\n",
    "standardise(input_path, output_path, var, mean=target_tabsd_mean, std=target_tabsd_std)"
   ]
  },
  {
   "cell_type": "code",
   "execution_count": null,
   "id": "26046e05",
   "metadata": {},
   "outputs": [],
   "source": [
    "input_path = \"../../data/Targets/Split_Data/Test/tmin_targets_test.nc\"\n",
    "output_path = \"../../data/Targets/Split_Data_Normalised/Test/SCALED_tmin_targets_test.nc\"\n",
    "var = \"TminD\"\n",
    "standardise(input_path, output_path, var, mean=target_tmin_mean, std=target_tmin_std)"
   ]
  },
  {
   "cell_type": "code",
   "execution_count": null,
   "id": "60031606",
   "metadata": {},
   "outputs": [],
   "source": [
    "input_path = \"../../data/Targets/Split_Data/Test/tmax_targets_test.nc\"\n",
    "output_path = \"../../data/Targets/Split_Data_Normalised/Test/SCALED_tmax_targets_test.nc\"\n",
    "var = \"TmaxD\"\n",
    "standardise(input_path, output_path, var, mean=target_tmax_mean, std=target_tmax_std)"
   ]
  }
 ],
 "metadata": {
  "kernelspec": {
   "display_name": "Python 3",
   "language": "python",
   "name": "python3"
  },
  "language_info": {
   "codemirror_mode": {
    "name": "ipython",
    "version": 3
   },
   "file_extension": ".py",
   "mimetype": "text/x-python",
   "name": "python",
   "nbconvert_exporter": "python",
   "pygments_lexer": "ipython3",
   "version": "3.10.17"
  }
 },
 "nbformat": 4,
 "nbformat_minor": 5
}
