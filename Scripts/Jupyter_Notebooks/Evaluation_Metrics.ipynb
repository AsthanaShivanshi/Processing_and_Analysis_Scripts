{
 "cells": [
  {
   "cell_type": "code",
   "execution_count": 8,
   "id": "de056f8e",
   "metadata": {},
   "outputs": [],
   "source": [
    "import xarray as xr\n",
    "import numpy as np\n",
    "import matplotlib.pyplot as plt\n",
    "import cartopy.crs as ccrs\n",
    "import cartopy.feature as cfeature"
   ]
  },
  {
   "cell_type": "code",
   "execution_count": null,
   "id": "47a318b0",
   "metadata": {},
   "outputs": [],
   "source": [
    "import numpy as np\n",
    "import pandas as pd\n",
    "import matplotlib.pyplot as plt\n",
    "import seaborn as sns"
   ]
  },
  {
   "cell_type": "code",
   "execution_count": null,
   "id": "e8e24511",
   "metadata": {},
   "outputs": [],
   "source": [
    "trials = [\n",
    "    {\"trial\": 2, \"weights\": [0.37088430795661265, 0.28739142870873263, 0.1259842388026553, 0.21574002453199936], \"precip_loss\": 4.2721067075035535e-06, \"total_loss\": 4.5791308366460726e-05},\n",
    "    {\"trial\": 4, \"weights\": [0.3409522975456359, 0.21091156982278578, 0.15300760078635586, 0.2951285318452225], \"precip_loss\": None, \"total_loss\": None},\n",
    "    {\"trial\": 5, \"weights\": [0.3179368825705688, 0.20421553385680483, 0.21765754822529756, 0.2601900353473288], \"precip_loss\": None, \"total_loss\": None},\n",
    "    {\"trial\": 7, \"weights\": [0.2968621555115908, 0.16010304693475252, 0.3762780731676935, 0.16675672438596328], \"precip_loss\": 4.15163958678022e-06, \"total_loss\": 5.686550911100905e-05},\n",
    "    {\"trial\": 9, \"weights\": [0.46364526483510865, 0.17527617762629688, 0.16111772141098732, 0.1999608361276072], \"precip_loss\": 4.593957328324905e-06, \"total_loss\": 4.5216192254725766e-05},\n",
    "    {\"trial\": 13, \"weights\": [0.2854267084603501, 0.12342704922962436, 0.26504839333371744, 0.32609784897630817], \"precip_loss\": None, \"total_loss\": None},\n",
    "    {\"trial\": 14, \"weights\": [0.276658797361721, 0.2614184843151571, 0.18710930198999046, 0.27481341633313155], \"precip_loss\": None, \"total_loss\": None},\n",
    "    {\"trial\": 15, \"weights\": [0.2892200902768383, 0.27428757495593675, 0.24992464307343903, 0.18656769169378587], \"precip_loss\": None, \"total_loss\": None}\n",
    "]\n",
    "\n",
    "df = pd.DataFrame(trials)\n",
    "df = df.dropna(subset=[\"precip_loss\", \"total_loss\"])\n",
    "\n",
    "df[\"distance\"] = np.sqrt(df[\"precip_loss\"]**2 + df[\"total_loss\"]**2)\n",
    "elbow_idx = df[\"distance\"].idxmin()\n",
    "elbow_trial = df.loc[elbow_idx]\n",
    "\n",
    "plt.figure(figsize=(8,6))\n",
    "sns.scatterplot(data=df, x=\"precip_loss\", y=\"total_loss\", s=80, label=\"Trials\")\n",
    "plt.plot(df[\"precip_loss\"], df[\"total_loss\"], color=\"gray\", alpha=0.3, zorder=0)\n",
    "\n",
    "plt.scatter(elbow_trial[\"precip_loss\"], elbow_trial[\"total_loss\"], \n",
    "            marker=\"*\", s=300, color=\"red\", label=f\"Elbow (Trial {elbow_trial['trial']})\")\n",
    "\n",
    "plt.annotate(\n",
    "    f\"Trial {elbow_trial['trial']}\\n({elbow_trial['precip_loss']:.2e}, {elbow_trial['total_loss']:.2e})\",\n",
    "    (elbow_trial[\"precip_loss\"], elbow_trial[\"total_loss\"]),\n",
    "    textcoords=\"offset points\", xytext=(30,-30), ha='center', fontsize=12, color=\"red\",\n",
    "    arrowprops=dict(arrowstyle=\"->\", color=\"red\")\n",
    ")\n",
    "\n",
    "plt.xlabel(\"Precip Channel Loss\")\n",
    "plt.ylabel(\"Total Loss\")\n",
    "plt.title(\"Pareto Front: Precip vs Total Loss (All Trials)\")\n",
    "plt.legend()\n",
    "plt.grid(True)\n",
    "plt.tight_layout()\n",
    "\n",
    "# Set axis limits to show all points clearly\n",
    "plt.xlim(df[\"precip_loss\"].min()*0.8, df[\"precip_loss\"].max()*1.2)\n",
    "plt.ylim(df[\"total_loss\"].min()*0.8, df[\"total_loss\"].max()*1.2)\n",
    "\n",
    "plt.show()"
   ]
  },
  {
   "cell_type": "markdown",
   "id": "b0d67aa7",
   "metadata": {},
   "source": []
  },
  {
   "cell_type": "markdown",
   "id": "99a18b6f",
   "metadata": {},
   "source": []
  },
  {
   "cell_type": "markdown",
   "id": "98726fe6",
   "metadata": {},
   "source": []
  },
  {
   "cell_type": "markdown",
   "id": "70eda45b",
   "metadata": {},
   "source": []
  },
  {
   "cell_type": "markdown",
   "id": "1e931876",
   "metadata": {},
   "source": []
  },
  {
   "cell_type": "markdown",
   "id": "1f44eaaf",
   "metadata": {},
   "source": []
  },
  {
   "cell_type": "markdown",
   "metadata": {},
   "source": []
  },
  {
   "cell_type": "code",
   "execution_count": 9,
   "id": "046da96e",
   "metadata": {},
   "outputs": [],
   "source": [
    "import sys\n",
    "sys.path.append(\"/work/FAC/FGSE/IDYST/tbeucler/downscaling/sasthana/Downscaling/Downscaling_Models/Combined_Chronological_Dataset\")"
   ]
  },
  {
   "cell_type": "code",
   "execution_count": 10,
   "id": "0110daa4",
   "metadata": {},
   "outputs": [],
   "source": [
    "pr_merged= xr.open_dataset(\"/work/FAC/FGSE/IDYST/tbeucler/downscaling/sasthana/Downscaling/Downscaling_Models/Combined_Chronological_Dataset/pr_step1_latlon.nc\")[\"pr\"]\n",
    "tas_merged= xr.open_dataset(\"/work/FAC/FGSE/IDYST/tbeucler/downscaling/sasthana/Downscaling/Downscaling_Models/Combined_Chronological_Dataset/tas_step1_latlon.nc\")[\"tas\"]\n",
    "tasmax_merged= xr.open_dataset(\"/work/FAC/FGSE/IDYST/tbeucler/downscaling/sasthana/Downscaling/Downscaling_Models/Combined_Chronological_Dataset/tasmax_step1_latlon.nc\")[\"tasmax\"]\n",
    "tasmin_merged= xr.open_dataset(\"/work/FAC/FGSE/IDYST/tbeucler/downscaling/sasthana/Downscaling/Downscaling_Models/Combined_Chronological_Dataset/tasmin_step1_latlon.nc\")[\"tasmin\"]\n",
    "\n"
   ]
  },
  {
   "cell_type": "code",
   "execution_count": 11,
   "id": "f071db58",
   "metadata": {},
   "outputs": [
    {
     "name": "stdout",
     "output_type": "stream",
     "text": [
      "Dimensions of pr_merged: <xarray.DataArray 'pr' (time: 113591, N: 265, E: 370)> Size: 89GB\n",
      "[11137597550 values with dtype=float64]\n",
      "Coordinates:\n",
      "    lon      (time, N, E) float32 45GB ...\n",
      "    lat      (time, N, E) float32 45GB ...\n",
      "  * time     (time) datetime64[ns] 909kB 1763-01-01 1763-01-02 ... 2023-12-31\n",
      "  * E        (E) float64 3kB 2.474e+06 2.476e+06 ... 2.842e+06 2.844e+06\n",
      "  * N        (N) float64 2kB 1.06e+06 1.06e+06 1.062e+06 ... 1.322e+06 1.324e+06\n",
      "Dimensions of tas_merged: <xarray.DataArray 'tas' (time: 113591, N: 240, E: 370)> Size: 40GB\n",
      "[10086880800 values with dtype=float32]\n",
      "Coordinates:\n",
      "    lon      (time, N, E) float32 40GB ...\n",
      "    lat      (time, N, E) float32 40GB ...\n",
      "  * time     (time) datetime64[ns] 909kB 1763-01-01 1763-01-02 ... 2023-12-31\n",
      "  * E        (E) float64 3kB 2.474e+06 2.476e+06 ... 2.842e+06 2.844e+06\n",
      "  * N        (N) float64 2kB 1.064e+06 1.066e+06 ... 1.302e+06 1.304e+06\n",
      "Attributes:\n",
      "    long_name:     daily mean temperature\n",
      "    units:         degC\n",
      "    grid_mapping:  swiss_lv95_coordinates\n",
      "    grid_name:     ch01r.swiss.lv95\n",
      "    prod_date:     2023-02-21\n",
      "    version:       v1.1\n",
      "Dimensions of tasmax_merged: <xarray.DataArray 'tasmax' (time: 113591, N: 240, E: 370)> Size: 40GB\n",
      "[10086880800 values with dtype=float32]\n",
      "Coordinates:\n",
      "    lon      (time, N, E) float32 40GB ...\n",
      "    lat      (time, N, E) float32 40GB ...\n",
      "  * time     (time) datetime64[ns] 909kB 1763-01-01 1763-01-02 ... 2023-12-31\n",
      "  * E        (E) float64 3kB 2.474e+06 2.476e+06 ... 2.842e+06 2.844e+06\n",
      "  * N        (N) float64 2kB 1.064e+06 1.066e+06 ... 1.302e+06 1.304e+06\n",
      "Attributes:\n",
      "    long_name:     Daily maximum temperature\n",
      "    units:         Celsius\n",
      "    grid_mapping:  swiss_lv95_coordinates\n",
      "    grid_name:     ch01r.swiss.lv95\n",
      "    prod_date:     2025-02-18\n",
      "    version:       v1.1\n",
      "Dimensions of tasmin_merged: <xarray.DataArray 'tasmin' (time: 113591, N: 240, E: 370)> Size: 40GB\n",
      "[10086880800 values with dtype=float32]\n",
      "Coordinates:\n",
      "    lon      (time, N, E) float32 40GB ...\n",
      "    lat      (time, N, E) float32 40GB ...\n",
      "  * time     (time) datetime64[ns] 909kB 1763-01-01 1763-01-02 ... 2023-12-31\n",
      "  * E        (E) float64 3kB 2.474e+06 2.476e+06 ... 2.842e+06 2.844e+06\n",
      "  * N        (N) float64 2kB 1.064e+06 1.066e+06 ... 1.302e+06 1.304e+06\n",
      "Attributes:\n",
      "    long_name:     Daily minimum temperature\n",
      "    units:         Celsius\n",
      "    grid_mapping:  swiss_lv95_coordinates\n",
      "    grid_name:     ch01r.swiss.lv95\n",
      "    prod_date:     2025-02-18\n",
      "    version:       v1.1\n"
     ]
    }
   ],
   "source": [
    "print(f\"Dimensions of pr_merged: {pr_merged}\")\n",
    "print(f\"Dimensions of tas_merged: {tas_merged}\")\n",
    "print(f\"Dimensions of tasmax_merged: {tasmax_merged}\")\n",
    "print(f\"Dimensions of tasmin_merged: {tasmin_merged}\")"
   ]
  },
  {
   "cell_type": "code",
   "execution_count": 9,
   "id": "c84387e9",
   "metadata": {},
   "outputs": [
    {
     "name": "stdout",
     "output_type": "stream",
     "text": [
      "Coordinates:\n",
      "  * time     (time) datetime64[ns] 909kB 1763-01-01 1763-01-02 ... 2023-12-31\n",
      "  * E        (E) float64 3kB 2.474e+06 2.476e+06 ... 2.842e+06 2.844e+06\n",
      "  * N        (N) float64 2kB 1.06e+06 1.06e+06 1.062e+06 ... 1.322e+06 1.324e+06\n",
      "Coordinates:\n",
      "  * time     (time) datetime64[ns] 909kB 1763-01-01 1763-01-02 ... 2023-12-31\n",
      "  * E        (E) float64 3kB 2.474e+06 2.476e+06 ... 2.842e+06 2.844e+06\n",
      "  * N        (N) float64 2kB 1.064e+06 1.066e+06 ... 1.302e+06 1.304e+06\n",
      "Coordinates:\n",
      "  * time     (time) datetime64[ns] 909kB 1763-01-01 1763-01-02 ... 2023-12-31\n",
      "  * E        (E) float64 3kB 2.474e+06 2.476e+06 ... 2.842e+06 2.844e+06\n",
      "  * N        (N) float64 2kB 1.064e+06 1.066e+06 ... 1.302e+06 1.304e+06\n",
      "Coordinates:\n",
      "  * time     (time) datetime64[ns] 909kB 1763-01-01 1763-01-02 ... 2023-12-31\n",
      "  * E        (E) float64 3kB 2.474e+06 2.476e+06 ... 2.842e+06 2.844e+06\n",
      "  * N        (N) float64 2kB 1.064e+06 1.066e+06 ... 1.302e+06 1.304e+06\n"
     ]
    }
   ],
   "source": [
    "\n",
    "print(pr_merged.coords)\n",
    "print(tas_merged.coords)\n",
    "print(tasmax_merged.coords)\n",
    "print(tasmin_merged.coords)"
   ]
  },
  {
   "cell_type": "code",
   "execution_count": 4,
   "id": "ae444a39",
   "metadata": {},
   "outputs": [],
   "source": [
    "import sys\n",
    "sys.path.append(\"../../Scripts/Functions/Metrics\")"
   ]
  },
  {
   "cell_type": "code",
   "execution_count": 6,
   "id": "20d367db",
   "metadata": {},
   "outputs": [],
   "source": [
    "from RMSE_R_squared import pooled_RMSE"
   ]
  },
  {
   "cell_type": "markdown",
   "id": "b2104752",
   "metadata": {},
   "source": [
    "BICUBIC BASELINES for train, test and val for all four variables "
   ]
  },
  {
   "cell_type": "markdown",
   "id": "cc9f9531",
   "metadata": {},
   "source": [
    "RMSE"
   ]
  },
  {
   "cell_type": "markdown",
   "id": "f422f164",
   "metadata": {},
   "source": [
    "Precipitation"
   ]
  },
  {
   "cell_type": "code",
   "execution_count": null,
   "id": "33d8ada7",
   "metadata": {},
   "outputs": [],
   "source": [
    "pred_path = 'data/Features/Split_Data/Test/rhiresd_features_test.nc'\n",
    "truth_path = ''\n",
    "var1 = 'RhiresD'\n",
    "var2 = 'RhiresD'\n",
    "\n",
    "rmse_grid_rhiresd_bicubic = gridded_RMSE(pred_path, truth_path, var1, var2, chunk_size={'time': 50})\n",
    "\n",
    "print(rmse_grid_rhiresd_bicubic)"
   ]
  },
  {
   "cell_type": "code",
   "execution_count": null,
   "id": "609825f2",
   "metadata": {},
   "outputs": [],
   "source": [
    "pred_path = ''\n",
    "truth_path = ''\n",
    "var1 = 'TabsD'\n",
    "var2 = 'TabsD'\n",
    "\n",
    "rmse_grid_tabsd_bicubic = gridded_RMSE(pred_path, truth_path, var1, var2, chunk_size={'time': 50})\n",
    "\n",
    "print(rmse_grid_tabsd_bicubic)"
   ]
  },
  {
   "cell_type": "code",
   "execution_count": null,
   "id": "111bdcf4",
   "metadata": {},
   "outputs": [],
   "source": [
    "pred_path = ''\n",
    "truth_path = ''\n",
    "var1 = 'TminD'\n",
    "var2 = 'TminD'\n",
    "\n",
    "rmse_grid_tmin_bicubic = gridded_RMSE(pred_path, truth_path, var1, var2, chunk_size={'time': 50})\n",
    "\n",
    "print(rmse_grid_tmin_bicubic)"
   ]
  },
  {
   "cell_type": "code",
   "execution_count": null,
   "id": "a2b54d86",
   "metadata": {},
   "outputs": [],
   "source": [
    "pred_path = ''\n",
    "truth_path = ''\n",
    "var1 = 'TmaxD'\n",
    "var2 = 'TmaxD'\n",
    "\n",
    "rmse_grid_tmax_bicubic = gridded_RMSE(pred_path, truth_path, var1, var2, chunk_size={'time': 50})\n",
    "\n",
    "print(rmse_grid_tmax_bicubic)"
   ]
  },
  {
   "cell_type": "code",
   "execution_count": 31,
   "id": "74f19460",
   "metadata": {},
   "outputs": [
    {
     "name": "stdout",
     "output_type": "stream",
     "text": [
      "<xarray.DataArray ()> Size: 4B\n",
      "array(2.0581782, dtype=float32)\n"
     ]
    }
   ],
   "source": [
    "rmse_pooled_tabsd_bilinear= pooled_RMSE(pred_path, truth_path, var1, var2, chunk_size={'time': 50})\n",
    "print(rmse_pooled_tabsd_bilinear.compute())"
   ]
  },
  {
   "cell_type": "markdown",
   "id": "4e8461b4",
   "metadata": {},
   "source": [
    "PRECIPITATION BILINEAR BASELINE\n"
   ]
  },
  {
   "cell_type": "code",
   "execution_count": null,
   "id": "4e5e6c04",
   "metadata": {},
   "outputs": [],
   "source": [
    "pred_path = 'Test/features_precip_masked_bilinear_test.nc'\n",
    "truth_path = 'Test/targets_precip_masked_test.nc'\n",
    "var1 = 'pr'\n",
    "var2 = 'RhiresD'\n",
    "\n",
    "rmse_grid_precip_bilinear = gridded_RMSE(pred_path, truth_path, var1, var2, chunk_size={'time': 50})\n",
    "\n",
    "print(rmse_grid_precip_bilinear)"
   ]
  },
  {
   "cell_type": "code",
   "execution_count": null,
   "id": "3540fb84",
   "metadata": {},
   "outputs": [],
   "source": [
    "rmse_pooled_precip_bilinear= pooled_RMSE(pred_path, truth_path, var1, var2, chunk_size={'time': 50})\n",
    "print(rmse_pooled_precip_bilinear.compute())"
   ]
  },
  {
   "cell_type": "markdown",
   "id": "6f9f3c53",
   "metadata": {},
   "source": [
    "xxxxxxxxxxxxxxxxxxxxxxxxxxxxxxxxxxxxxxxxxxxxxxxxxxxxxxxxxxxxxxx"
   ]
  },
  {
   "cell_type": "markdown",
   "id": "5bb6b6a4",
   "metadata": {},
   "source": [
    "BICUBIC BASELINES "
   ]
  },
  {
   "cell_type": "markdown",
   "id": "dff879b4",
   "metadata": {},
   "source": [
    "RhiresD and TabsD, pooled and gridded RMSE"
   ]
  },
  {
   "cell_type": "markdown",
   "id": "263b0929",
   "metadata": {},
   "source": [
    "TabsD gridded and pooled RMSE : only calculated for the testing set chosen using the splitting scheme from train test val.py and processed in Data_prep.ipynb"
   ]
  },
  {
   "cell_type": "code",
   "execution_count": null,
   "id": "77056ac8",
   "metadata": {},
   "outputs": [],
   "source": [
    "pred_path = '/Test/features_tas_masked_bicubic_test.nc'\n",
    "truth_path = 'Test/targets_tas_masked_test.nc'\n",
    "var1 = 'tas'\n",
    "var2 = 'TabsD'\n",
    "\n",
    "rmse_grid_tabsd_bicubic = gridded_RMSE(pred_path, truth_path, var1, var2, chunk_size={'time': 50})\n",
    "\n",
    "print(rmse_grid_tabsd_bicubic)"
   ]
  },
  {
   "cell_type": "code",
   "execution_count": 18,
   "id": "b12e23b0",
   "metadata": {},
   "outputs": [
    {
     "name": "stdout",
     "output_type": "stream",
     "text": [
      "<xarray.DataArray ()> Size: 4B\n",
      "array(1.9994707, dtype=float32)\n"
     ]
    }
   ],
   "source": [
    "rmse_pooled_tabsd_bicubic= pooled_RMSE(pred_path, truth_path, var1, var2, chunk_size={'time': 50})\n",
    "print(rmse_pooled_tabsd_bicubic.compute())"
   ]
  },
  {
   "cell_type": "code",
   "execution_count": 19,
   "id": "c583e9b1",
   "metadata": {},
   "outputs": [],
   "source": [
    "#Plotting the RMSE on a gridded map of switrzerland "
   ]
  },
  {
   "cell_type": "markdown",
   "id": "d5cf6da7",
   "metadata": {},
   "source": [
    "For precipitation "
   ]
  },
  {
   "cell_type": "code",
   "execution_count": null,
   "id": "78e1c3f9",
   "metadata": {},
   "outputs": [],
   "source": [
    "pred_path = 'Test/features_precip_masked_bicubic_test.nc'\n",
    "truth_path = 'Test/targets_precip_masked_test.nc'\n",
    "var1 = 'pr'\n",
    "var2 = 'RhiresD'\n",
    "\n",
    "rmse_grid_precip_bicubic = gridded_RMSE(pred_path, truth_path, var1, var2, chunk_size={'time': 50})\n",
    "\n",
    "print(rmse_grid_precip_bicubic)"
   ]
  },
  {
   "cell_type": "code",
   "execution_count": null,
   "id": "0b1fbf4f",
   "metadata": {},
   "outputs": [],
   "source": [
    "rmse_pooled_precip_bicubic= pooled_RMSE(pred_path, truth_path, var1, var2, chunk_size={'time': 50})\n",
    "print(rmse_pooled_precip_bicubic.compute())"
   ]
  },
  {
   "cell_type": "markdown",
   "id": "0d42cd0a",
   "metadata": {},
   "source": [
    "xxxxxxxxxxxxxxxxxxxxxxxxxxxxxxxxCoefficient of Determination xxxxxxxxxxxxxxxxxxxxxxxxxx"
   ]
  },
  {
   "cell_type": "markdown",
   "id": "c5725a18",
   "metadata": {},
   "source": [
    "COEFFICIENT OF DETERMINATION (R squared)"
   ]
  },
  {
   "cell_type": "code",
   "execution_count": 5,
   "id": "3a8bb5f5",
   "metadata": {},
   "outputs": [],
   "source": [
    "from R_squared import gridded_R_squared\n",
    "from R_squared import pooled_R_squared"
   ]
  },
  {
   "cell_type": "markdown",
   "id": "777a38d1",
   "metadata": {},
   "source": [
    "TEMPERATURE (BILINEAR BASELINE)"
   ]
  },
  {
   "cell_type": "code",
   "execution_count": null,
   "id": "1c8e41a5",
   "metadata": {},
   "outputs": [],
   "source": [
    "pred_path = 'Test/features_tas_masked_bilinear_test.nc'\n",
    "truth_path = 'Test/targets_tas_masked_test.nc'\n",
    "var1 = 'tas'\n",
    "var2 = 'TabsD'\n",
    "\n",
    "R_grid_tabsd_bilinear = gridded_R_squared(pred_path, truth_path, var1, var2, chunk_size={'time': 50})\n",
    "\n",
    "print(R_grid_tabsd_bilinear)"
   ]
  },
  {
   "cell_type": "code",
   "execution_count": 19,
   "id": "e396761c",
   "metadata": {},
   "outputs": [],
   "source": [
    "#Pooled R^2 for bilinearly interpolated temperature"
   ]
  },
  {
   "cell_type": "code",
   "execution_count": null,
   "id": "0b533fd3",
   "metadata": {},
   "outputs": [],
   "source": [
    "r2_bilinear_tabsd = pooled_R_squared(\n",
    "    pred_path=pred_path, \n",
    "    truth_path=truth_path, \n",
    "    var1=\"tas\", \n",
    "    var2=\"TabsD\",\n",
    "    chunk_size={'time': 100}  \n",
    ")\n",
    "\n",
    "print(f\"{r2_bilinear_tabsd.values}\")\n"
   ]
  },
  {
   "cell_type": "markdown",
   "id": "166f1bbd",
   "metadata": {},
   "source": [
    "PRECIPITATION \n"
   ]
  },
  {
   "cell_type": "code",
   "execution_count": null,
   "id": "c6032468",
   "metadata": {},
   "outputs": [],
   "source": [
    "pred_path = 'Test/features_precip_masked_bilinear_test.nc'\n",
    "truth_path = 'Bilinear/Test/targets_precip_masked_test.nc'\n",
    "var1 = 'pr'\n",
    "var2 = 'RhiresD'\n",
    "\n",
    "R_grid_rhiresd_bilinear = gridded_R_squared(pred_path, truth_path, var1, var2, chunk_size={'time': 50})\n",
    "\n",
    "print(R_grid_rhiresd_bilinear)"
   ]
  },
  {
   "cell_type": "code",
   "execution_count": 12,
   "id": "92fcfdf8",
   "metadata": {},
   "outputs": [],
   "source": [
    "#Pooled R squared for precip : bilinearly interpolated "
   ]
  },
  {
   "cell_type": "code",
   "execution_count": null,
   "id": "546feaac",
   "metadata": {},
   "outputs": [],
   "source": [
    "r2_bilinear_rhiresd = pooled_R_squared(\n",
    "    pred_path=pred_path, \n",
    "    truth_path=truth_path, \n",
    "    var1=\"pr\", \n",
    "    var2=\"RhiresD\",\n",
    "    chunk_size={'time': 100}  \n",
    ")\n",
    "\n",
    "print(f\"{r2_bilinear_rhiresd.values}\")"
   ]
  },
  {
   "cell_type": "markdown",
   "id": "58b8292c",
   "metadata": {},
   "source": [
    "BICUBIC INTERPOLATION : COEFFICIENT OF DETERMINATION"
   ]
  },
  {
   "cell_type": "code",
   "execution_count": null,
   "id": "41d7458c",
   "metadata": {},
   "outputs": [],
   "source": [
    "pred_path = 'Bicubic/Test/features_tas_masked_bicubic_test.nc'\n",
    "truth_path = 'Bicubic/Test/targets_tas_masked_test.nc'\n",
    "var1 = 'tas'\n",
    "var2 = 'TabsD'\n",
    "\n",
    "R_grid_tabsd_bicubic = gridded_R_squared(pred_path, truth_path, var1, var2, chunk_size={'time': 50})\n",
    "\n",
    "print(R_grid_tabsd_bicubic)"
   ]
  },
  {
   "cell_type": "markdown",
   "id": "f22cc228",
   "metadata": {},
   "source": [
    "Bicubically inteproilated tabsd : pooled R^2"
   ]
  },
  {
   "cell_type": "code",
   "execution_count": null,
   "id": "1492e05f",
   "metadata": {},
   "outputs": [],
   "source": [
    "r2_bicubic_tabsd = pooled_R_squared(\n",
    "    pred_path=pred_path, \n",
    "    truth_path=truth_path, \n",
    "    var1=\"tas\", \n",
    "    var2=\"TabsD\",\n",
    "    chunk_size={'time': 100}  \n",
    ")\n",
    "\n",
    "print(f\"{r2_bicubic_tabsd.values}\")"
   ]
  },
  {
   "cell_type": "markdown",
   "id": "89429e13",
   "metadata": {},
   "source": [
    "PRECIPITATION BICUBIC COEFF of DETERMINATION"
   ]
  },
  {
   "cell_type": "code",
   "execution_count": null,
   "id": "63476f83",
   "metadata": {},
   "outputs": [],
   "source": [
    "pred_path = 'Bicubic/Test/features_precip_masked_bicubic_test.nc'\n",
    "truth_path = 'Bicubic/Test/targets_precip_masked_test.nc'\n",
    "var1 = 'pr'\n",
    "var2 = 'RhiresD'\n",
    "\n",
    "R_grid_rhiresd_bicubic = gridded_R_squared(pred_path, truth_path, var1, var2, chunk_size={'time': 50})\n",
    "\n",
    "print(R_grid_rhiresd_bicubic)"
   ]
  },
  {
   "cell_type": "markdown",
   "id": "b4707693",
   "metadata": {},
   "source": [
    "Bicubic precipitation : coeff of determination"
   ]
  },
  {
   "cell_type": "code",
   "execution_count": null,
   "id": "ab2b189f",
   "metadata": {},
   "outputs": [],
   "source": [
    "r2_bicubic_rhiresd = pooled_R_squared(\n",
    "    pred_path=pred_path, \n",
    "    truth_path=truth_path, \n",
    "    var1=\"pr\", \n",
    "    var2=\"RhiresD\",\n",
    "    chunk_size={'time': 100}  \n",
    ")\n",
    "\n",
    "print(f\"{r2_bicubic_rhiresd.values}\")"
   ]
  }
 ],
 "metadata": {
  "kernelspec": {
   "display_name": "MyPythonEnvNew",
   "language": "python",
   "name": "python3"
  },
  "language_info": {
   "codemirror_mode": {
    "name": "ipython",
    "version": 3
   },
   "file_extension": ".py",
   "mimetype": "text/x-python",
   "name": "python",
   "nbconvert_exporter": "python",
   "pygments_lexer": "ipython3",
   "version": "3.10.17"
  }
 },
 "nbformat": 4,
 "nbformat_minor": 5
}
