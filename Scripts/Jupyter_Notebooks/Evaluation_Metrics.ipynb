{
 "cells": [
  {
   "cell_type": "code",
   "execution_count": 8,
   "id": "de056f8e",
   "metadata": {},
   "outputs": [],
   "source": [
    "import xarray as xr\n",
    "import numpy as np\n",
    "import matplotlib.pyplot as plt\n",
    "import cartopy.crs as ccrs\n",
    "import cartopy.feature as cfeature"
   ]
  },
  {
   "cell_type": "code",
   "execution_count": 9,
   "id": "046da96e",
   "metadata": {},
   "outputs": [],
   "source": [
    "import sys\n",
    "sys.path.append(\"/work/FAC/FGSE/IDYST/tbeucler/downscaling/sasthana/Downscaling/Downscaling_Models/Combined_Chronological_Dataset\")"
   ]
  },
  {
   "cell_type": "code",
   "execution_count": 10,
   "id": "0110daa4",
   "metadata": {},
   "outputs": [],
   "source": [
    "pr_merged= xr.open_dataset(\"/work/FAC/FGSE/IDYST/tbeucler/downscaling/sasthana/Downscaling/Downscaling_Models/Combined_Chronological_Dataset/pr_step1_latlon.nc\")[\"pr\"]\n",
    "tas_merged= xr.open_dataset(\"/work/FAC/FGSE/IDYST/tbeucler/downscaling/sasthana/Downscaling/Downscaling_Models/Combined_Chronological_Dataset/tas_step1_latlon.nc\")[\"tas\"]\n",
    "tasmax_merged= xr.open_dataset(\"/work/FAC/FGSE/IDYST/tbeucler/downscaling/sasthana/Downscaling/Downscaling_Models/Combined_Chronological_Dataset/tasmax_step1_latlon.nc\")[\"tasmax\"]\n",
    "tasmin_merged= xr.open_dataset(\"/work/FAC/FGSE/IDYST/tbeucler/downscaling/sasthana/Downscaling/Downscaling_Models/Combined_Chronological_Dataset/tasmin_step1_latlon.nc\")[\"tasmin\"]\n",
    "\n"
   ]
  },
  {
   "cell_type": "code",
   "execution_count": 11,
   "id": "f071db58",
   "metadata": {},
   "outputs": [
    {
     "name": "stdout",
     "output_type": "stream",
     "text": [
      "Dimensions of pr_merged: <xarray.DataArray 'pr' (time: 113591, N: 265, E: 370)> Size: 89GB\n",
      "[11137597550 values with dtype=float64]\n",
      "Coordinates:\n",
      "    lon      (time, N, E) float32 45GB ...\n",
      "    lat      (time, N, E) float32 45GB ...\n",
      "  * time     (time) datetime64[ns] 909kB 1763-01-01 1763-01-02 ... 2023-12-31\n",
      "  * E        (E) float64 3kB 2.474e+06 2.476e+06 ... 2.842e+06 2.844e+06\n",
      "  * N        (N) float64 2kB 1.06e+06 1.06e+06 1.062e+06 ... 1.322e+06 1.324e+06\n",
      "Dimensions of tas_merged: <xarray.DataArray 'tas' (time: 113591, N: 240, E: 370)> Size: 40GB\n",
      "[10086880800 values with dtype=float32]\n",
      "Coordinates:\n",
      "    lon      (time, N, E) float32 40GB ...\n",
      "    lat      (time, N, E) float32 40GB ...\n",
      "  * time     (time) datetime64[ns] 909kB 1763-01-01 1763-01-02 ... 2023-12-31\n",
      "  * E        (E) float64 3kB 2.474e+06 2.476e+06 ... 2.842e+06 2.844e+06\n",
      "  * N        (N) float64 2kB 1.064e+06 1.066e+06 ... 1.302e+06 1.304e+06\n",
      "Attributes:\n",
      "    long_name:     daily mean temperature\n",
      "    units:         degC\n",
      "    grid_mapping:  swiss_lv95_coordinates\n",
      "    grid_name:     ch01r.swiss.lv95\n",
      "    prod_date:     2023-02-21\n",
      "    version:       v1.1\n",
      "Dimensions of tasmax_merged: <xarray.DataArray 'tasmax' (time: 113591, N: 240, E: 370)> Size: 40GB\n",
      "[10086880800 values with dtype=float32]\n",
      "Coordinates:\n",
      "    lon      (time, N, E) float32 40GB ...\n",
      "    lat      (time, N, E) float32 40GB ...\n",
      "  * time     (time) datetime64[ns] 909kB 1763-01-01 1763-01-02 ... 2023-12-31\n",
      "  * E        (E) float64 3kB 2.474e+06 2.476e+06 ... 2.842e+06 2.844e+06\n",
      "  * N        (N) float64 2kB 1.064e+06 1.066e+06 ... 1.302e+06 1.304e+06\n",
      "Attributes:\n",
      "    long_name:     Daily maximum temperature\n",
      "    units:         Celsius\n",
      "    grid_mapping:  swiss_lv95_coordinates\n",
      "    grid_name:     ch01r.swiss.lv95\n",
      "    prod_date:     2025-02-18\n",
      "    version:       v1.1\n",
      "Dimensions of tasmin_merged: <xarray.DataArray 'tasmin' (time: 113591, N: 240, E: 370)> Size: 40GB\n",
      "[10086880800 values with dtype=float32]\n",
      "Coordinates:\n",
      "    lon      (time, N, E) float32 40GB ...\n",
      "    lat      (time, N, E) float32 40GB ...\n",
      "  * time     (time) datetime64[ns] 909kB 1763-01-01 1763-01-02 ... 2023-12-31\n",
      "  * E        (E) float64 3kB 2.474e+06 2.476e+06 ... 2.842e+06 2.844e+06\n",
      "  * N        (N) float64 2kB 1.064e+06 1.066e+06 ... 1.302e+06 1.304e+06\n",
      "Attributes:\n",
      "    long_name:     Daily minimum temperature\n",
      "    units:         Celsius\n",
      "    grid_mapping:  swiss_lv95_coordinates\n",
      "    grid_name:     ch01r.swiss.lv95\n",
      "    prod_date:     2025-02-18\n",
      "    version:       v1.1\n"
     ]
    }
   ],
   "source": [
    "print(f\"Dimensions of pr_merged: {pr_merged}\")\n",
    "print(f\"Dimensions of tas_merged: {tas_merged}\")\n",
    "print(f\"Dimensions of tasmax_merged: {tasmax_merged}\")\n",
    "print(f\"Dimensions of tasmin_merged: {tasmin_merged}\")"
   ]
  },
  {
   "cell_type": "code",
   "execution_count": 9,
   "id": "c84387e9",
   "metadata": {},
   "outputs": [
    {
     "name": "stdout",
     "output_type": "stream",
     "text": [
      "Coordinates:\n",
      "  * time     (time) datetime64[ns] 909kB 1763-01-01 1763-01-02 ... 2023-12-31\n",
      "  * E        (E) float64 3kB 2.474e+06 2.476e+06 ... 2.842e+06 2.844e+06\n",
      "  * N        (N) float64 2kB 1.06e+06 1.06e+06 1.062e+06 ... 1.322e+06 1.324e+06\n",
      "Coordinates:\n",
      "  * time     (time) datetime64[ns] 909kB 1763-01-01 1763-01-02 ... 2023-12-31\n",
      "  * E        (E) float64 3kB 2.474e+06 2.476e+06 ... 2.842e+06 2.844e+06\n",
      "  * N        (N) float64 2kB 1.064e+06 1.066e+06 ... 1.302e+06 1.304e+06\n",
      "Coordinates:\n",
      "  * time     (time) datetime64[ns] 909kB 1763-01-01 1763-01-02 ... 2023-12-31\n",
      "  * E        (E) float64 3kB 2.474e+06 2.476e+06 ... 2.842e+06 2.844e+06\n",
      "  * N        (N) float64 2kB 1.064e+06 1.066e+06 ... 1.302e+06 1.304e+06\n",
      "Coordinates:\n",
      "  * time     (time) datetime64[ns] 909kB 1763-01-01 1763-01-02 ... 2023-12-31\n",
      "  * E        (E) float64 3kB 2.474e+06 2.476e+06 ... 2.842e+06 2.844e+06\n",
      "  * N        (N) float64 2kB 1.064e+06 1.066e+06 ... 1.302e+06 1.304e+06\n"
     ]
    }
   ],
   "source": [
    "\n",
    "print(pr_merged.coords)\n",
    "print(tas_merged.coords)\n",
    "print(tasmax_merged.coords)\n",
    "print(tasmin_merged.coords)"
   ]
  },
  {
   "cell_type": "code",
   "execution_count": 4,
   "id": "ae444a39",
   "metadata": {},
   "outputs": [],
   "source": [
    "import sys\n",
    "sys.path.append(\"../../Scripts/Functions/Metrics\")"
   ]
  },
  {
   "cell_type": "code",
   "execution_count": 6,
   "id": "20d367db",
   "metadata": {},
   "outputs": [],
   "source": [
    "from RMSE_R_squared import pooled_RMSE"
   ]
  },
  {
   "cell_type": "markdown",
   "id": "b2104752",
   "metadata": {},
   "source": [
    "BICUBIC BASELINES for train, test and val for all four variables "
   ]
  },
  {
   "cell_type": "markdown",
   "id": "cc9f9531",
   "metadata": {},
   "source": [
    "RMSE"
   ]
  },
  {
   "cell_type": "markdown",
   "id": "f422f164",
   "metadata": {},
   "source": [
    "Precipitation"
   ]
  },
  {
   "cell_type": "code",
   "execution_count": null,
   "id": "33d8ada7",
   "metadata": {},
   "outputs": [],
   "source": [
    "pred_path = 'data/Features/Split_Data/Test/rhiresd_features_test.nc'\n",
    "truth_path = ''\n",
    "var1 = 'RhiresD'\n",
    "var2 = 'RhiresD'\n",
    "\n",
    "rmse_grid_rhiresd_bicubic = gridded_RMSE(pred_path, truth_path, var1, var2, chunk_size={'time': 50})\n",
    "\n",
    "print(rmse_grid_rhiresd_bicubic)"
   ]
  },
  {
   "cell_type": "code",
   "execution_count": null,
   "id": "609825f2",
   "metadata": {},
   "outputs": [],
   "source": [
    "pred_path = ''\n",
    "truth_path = ''\n",
    "var1 = 'TabsD'\n",
    "var2 = 'TabsD'\n",
    "\n",
    "rmse_grid_tabsd_bicubic = gridded_RMSE(pred_path, truth_path, var1, var2, chunk_size={'time': 50})\n",
    "\n",
    "print(rmse_grid_tabsd_bicubic)"
   ]
  },
  {
   "cell_type": "code",
   "execution_count": null,
   "id": "111bdcf4",
   "metadata": {},
   "outputs": [],
   "source": [
    "pred_path = ''\n",
    "truth_path = ''\n",
    "var1 = 'TminD'\n",
    "var2 = 'TminD'\n",
    "\n",
    "rmse_grid_tmin_bicubic = gridded_RMSE(pred_path, truth_path, var1, var2, chunk_size={'time': 50})\n",
    "\n",
    "print(rmse_grid_tmin_bicubic)"
   ]
  },
  {
   "cell_type": "code",
   "execution_count": null,
   "id": "a2b54d86",
   "metadata": {},
   "outputs": [],
   "source": [
    "pred_path = ''\n",
    "truth_path = ''\n",
    "var1 = 'TmaxD'\n",
    "var2 = 'TmaxD'\n",
    "\n",
    "rmse_grid_tmax_bicubic = gridded_RMSE(pred_path, truth_path, var1, var2, chunk_size={'time': 50})\n",
    "\n",
    "print(rmse_grid_tmax_bicubic)"
   ]
  },
  {
   "cell_type": "code",
   "execution_count": 31,
   "id": "74f19460",
   "metadata": {},
   "outputs": [
    {
     "name": "stdout",
     "output_type": "stream",
     "text": [
      "<xarray.DataArray ()> Size: 4B\n",
      "array(2.0581782, dtype=float32)\n"
     ]
    }
   ],
   "source": [
    "rmse_pooled_tabsd_bilinear= pooled_RMSE(pred_path, truth_path, var1, var2, chunk_size={'time': 50})\n",
    "print(rmse_pooled_tabsd_bilinear.compute())"
   ]
  },
  {
   "cell_type": "markdown",
   "id": "4e8461b4",
   "metadata": {},
   "source": [
    "PRECIPITATION BILINEAR BASELINE\n"
   ]
  },
  {
   "cell_type": "code",
   "execution_count": null,
   "id": "4e5e6c04",
   "metadata": {},
   "outputs": [],
   "source": [
    "pred_path = 'Test/features_precip_masked_bilinear_test.nc'\n",
    "truth_path = 'Test/targets_precip_masked_test.nc'\n",
    "var1 = 'pr'\n",
    "var2 = 'RhiresD'\n",
    "\n",
    "rmse_grid_precip_bilinear = gridded_RMSE(pred_path, truth_path, var1, var2, chunk_size={'time': 50})\n",
    "\n",
    "print(rmse_grid_precip_bilinear)"
   ]
  },
  {
   "cell_type": "code",
   "execution_count": null,
   "id": "3540fb84",
   "metadata": {},
   "outputs": [],
   "source": [
    "rmse_pooled_precip_bilinear= pooled_RMSE(pred_path, truth_path, var1, var2, chunk_size={'time': 50})\n",
    "print(rmse_pooled_precip_bilinear.compute())"
   ]
  },
  {
   "cell_type": "markdown",
   "id": "6f9f3c53",
   "metadata": {},
   "source": [
    "xxxxxxxxxxxxxxxxxxxxxxxxxxxxxxxxxxxxxxxxxxxxxxxxxxxxxxxxxxxxxxx"
   ]
  },
  {
   "cell_type": "markdown",
   "id": "5bb6b6a4",
   "metadata": {},
   "source": [
    "BICUBIC BASELINES "
   ]
  },
  {
   "cell_type": "markdown",
   "id": "dff879b4",
   "metadata": {},
   "source": [
    "RhiresD and TabsD, pooled and gridded RMSE"
   ]
  },
  {
   "cell_type": "markdown",
   "id": "263b0929",
   "metadata": {},
   "source": [
    "TabsD gridded and pooled RMSE : only calculated for the testing set chosen using the splitting scheme from train test val.py and processed in Data_prep.ipynb"
   ]
  },
  {
   "cell_type": "code",
   "execution_count": null,
   "id": "77056ac8",
   "metadata": {},
   "outputs": [],
   "source": [
    "pred_path = '/Test/features_tas_masked_bicubic_test.nc'\n",
    "truth_path = 'Test/targets_tas_masked_test.nc'\n",
    "var1 = 'tas'\n",
    "var2 = 'TabsD'\n",
    "\n",
    "rmse_grid_tabsd_bicubic = gridded_RMSE(pred_path, truth_path, var1, var2, chunk_size={'time': 50})\n",
    "\n",
    "print(rmse_grid_tabsd_bicubic)"
   ]
  },
  {
   "cell_type": "code",
   "execution_count": 18,
   "id": "b12e23b0",
   "metadata": {},
   "outputs": [
    {
     "name": "stdout",
     "output_type": "stream",
     "text": [
      "<xarray.DataArray ()> Size: 4B\n",
      "array(1.9994707, dtype=float32)\n"
     ]
    }
   ],
   "source": [
    "rmse_pooled_tabsd_bicubic= pooled_RMSE(pred_path, truth_path, var1, var2, chunk_size={'time': 50})\n",
    "print(rmse_pooled_tabsd_bicubic.compute())"
   ]
  },
  {
   "cell_type": "code",
   "execution_count": 19,
   "id": "c583e9b1",
   "metadata": {},
   "outputs": [],
   "source": [
    "#Plotting the RMSE on a gridded map of switrzerland "
   ]
  },
  {
   "cell_type": "markdown",
   "id": "d5cf6da7",
   "metadata": {},
   "source": [
    "For precipitation "
   ]
  },
  {
   "cell_type": "code",
   "execution_count": null,
   "id": "78e1c3f9",
   "metadata": {},
   "outputs": [],
   "source": [
    "pred_path = 'Test/features_precip_masked_bicubic_test.nc'\n",
    "truth_path = 'Test/targets_precip_masked_test.nc'\n",
    "var1 = 'pr'\n",
    "var2 = 'RhiresD'\n",
    "\n",
    "rmse_grid_precip_bicubic = gridded_RMSE(pred_path, truth_path, var1, var2, chunk_size={'time': 50})\n",
    "\n",
    "print(rmse_grid_precip_bicubic)"
   ]
  },
  {
   "cell_type": "code",
   "execution_count": null,
   "id": "0b1fbf4f",
   "metadata": {},
   "outputs": [],
   "source": [
    "rmse_pooled_precip_bicubic= pooled_RMSE(pred_path, truth_path, var1, var2, chunk_size={'time': 50})\n",
    "print(rmse_pooled_precip_bicubic.compute())"
   ]
  },
  {
   "cell_type": "markdown",
   "id": "0d42cd0a",
   "metadata": {},
   "source": [
    "xxxxxxxxxxxxxxxxxxxxxxxxxxxxxxxxCoefficient of Determination xxxxxxxxxxxxxxxxxxxxxxxxxx"
   ]
  },
  {
   "cell_type": "markdown",
   "id": "c5725a18",
   "metadata": {},
   "source": [
    "COEFFICIENT OF DETERMINATION (R squared)"
   ]
  },
  {
   "cell_type": "code",
   "execution_count": 5,
   "id": "3a8bb5f5",
   "metadata": {},
   "outputs": [],
   "source": [
    "from R_squared import gridded_R_squared\n",
    "from R_squared import pooled_R_squared"
   ]
  },
  {
   "cell_type": "markdown",
   "id": "777a38d1",
   "metadata": {},
   "source": [
    "TEMPERATURE (BILINEAR BASELINE)"
   ]
  },
  {
   "cell_type": "code",
   "execution_count": null,
   "id": "1c8e41a5",
   "metadata": {},
   "outputs": [],
   "source": [
    "pred_path = 'Test/features_tas_masked_bilinear_test.nc'\n",
    "truth_path = 'Test/targets_tas_masked_test.nc'\n",
    "var1 = 'tas'\n",
    "var2 = 'TabsD'\n",
    "\n",
    "R_grid_tabsd_bilinear = gridded_R_squared(pred_path, truth_path, var1, var2, chunk_size={'time': 50})\n",
    "\n",
    "print(R_grid_tabsd_bilinear)"
   ]
  },
  {
   "cell_type": "code",
   "execution_count": 19,
   "id": "e396761c",
   "metadata": {},
   "outputs": [],
   "source": [
    "#Pooled R^2 for bilinearly interpolated temperature"
   ]
  },
  {
   "cell_type": "code",
   "execution_count": null,
   "id": "0b533fd3",
   "metadata": {},
   "outputs": [],
   "source": [
    "r2_bilinear_tabsd = pooled_R_squared(\n",
    "    pred_path=pred_path, \n",
    "    truth_path=truth_path, \n",
    "    var1=\"tas\", \n",
    "    var2=\"TabsD\",\n",
    "    chunk_size={'time': 100}  \n",
    ")\n",
    "\n",
    "print(f\"{r2_bilinear_tabsd.values}\")\n"
   ]
  },
  {
   "cell_type": "markdown",
   "id": "166f1bbd",
   "metadata": {},
   "source": [
    "PRECIPITATION \n"
   ]
  },
  {
   "cell_type": "code",
   "execution_count": null,
   "id": "c6032468",
   "metadata": {},
   "outputs": [],
   "source": [
    "pred_path = 'Test/features_precip_masked_bilinear_test.nc'\n",
    "truth_path = 'Bilinear/Test/targets_precip_masked_test.nc'\n",
    "var1 = 'pr'\n",
    "var2 = 'RhiresD'\n",
    "\n",
    "R_grid_rhiresd_bilinear = gridded_R_squared(pred_path, truth_path, var1, var2, chunk_size={'time': 50})\n",
    "\n",
    "print(R_grid_rhiresd_bilinear)"
   ]
  },
  {
   "cell_type": "code",
   "execution_count": 12,
   "id": "92fcfdf8",
   "metadata": {},
   "outputs": [],
   "source": [
    "#Pooled R squared for precip : bilinearly interpolated "
   ]
  },
  {
   "cell_type": "code",
   "execution_count": null,
   "id": "546feaac",
   "metadata": {},
   "outputs": [],
   "source": [
    "r2_bilinear_rhiresd = pooled_R_squared(\n",
    "    pred_path=pred_path, \n",
    "    truth_path=truth_path, \n",
    "    var1=\"pr\", \n",
    "    var2=\"RhiresD\",\n",
    "    chunk_size={'time': 100}  \n",
    ")\n",
    "\n",
    "print(f\"{r2_bilinear_rhiresd.values}\")"
   ]
  },
  {
   "cell_type": "markdown",
   "id": "58b8292c",
   "metadata": {},
   "source": [
    "BICUBIC INTERPOLATION : COEFFICIENT OF DETERMINATION"
   ]
  },
  {
   "cell_type": "code",
   "execution_count": null,
   "id": "41d7458c",
   "metadata": {},
   "outputs": [],
   "source": [
    "pred_path = 'Bicubic/Test/features_tas_masked_bicubic_test.nc'\n",
    "truth_path = 'Bicubic/Test/targets_tas_masked_test.nc'\n",
    "var1 = 'tas'\n",
    "var2 = 'TabsD'\n",
    "\n",
    "R_grid_tabsd_bicubic = gridded_R_squared(pred_path, truth_path, var1, var2, chunk_size={'time': 50})\n",
    "\n",
    "print(R_grid_tabsd_bicubic)"
   ]
  },
  {
   "cell_type": "markdown",
   "id": "f22cc228",
   "metadata": {},
   "source": [
    "Bicubically inteproilated tabsd : pooled R^2"
   ]
  },
  {
   "cell_type": "code",
   "execution_count": null,
   "id": "1492e05f",
   "metadata": {},
   "outputs": [],
   "source": [
    "r2_bicubic_tabsd = pooled_R_squared(\n",
    "    pred_path=pred_path, \n",
    "    truth_path=truth_path, \n",
    "    var1=\"tas\", \n",
    "    var2=\"TabsD\",\n",
    "    chunk_size={'time': 100}  \n",
    ")\n",
    "\n",
    "print(f\"{r2_bicubic_tabsd.values}\")"
   ]
  },
  {
   "cell_type": "markdown",
   "id": "89429e13",
   "metadata": {},
   "source": [
    "PRECIPITATION BICUBIC COEFF of DETERMINATION"
   ]
  },
  {
   "cell_type": "code",
   "execution_count": null,
   "id": "63476f83",
   "metadata": {},
   "outputs": [],
   "source": [
    "pred_path = 'Bicubic/Test/features_precip_masked_bicubic_test.nc'\n",
    "truth_path = 'Bicubic/Test/targets_precip_masked_test.nc'\n",
    "var1 = 'pr'\n",
    "var2 = 'RhiresD'\n",
    "\n",
    "R_grid_rhiresd_bicubic = gridded_R_squared(pred_path, truth_path, var1, var2, chunk_size={'time': 50})\n",
    "\n",
    "print(R_grid_rhiresd_bicubic)"
   ]
  },
  {
   "cell_type": "markdown",
   "id": "b4707693",
   "metadata": {},
   "source": [
    "Bicubic precipitation : coeff of determination"
   ]
  },
  {
   "cell_type": "code",
   "execution_count": null,
   "id": "ab2b189f",
   "metadata": {},
   "outputs": [],
   "source": [
    "r2_bicubic_rhiresd = pooled_R_squared(\n",
    "    pred_path=pred_path, \n",
    "    truth_path=truth_path, \n",
    "    var1=\"pr\", \n",
    "    var2=\"RhiresD\",\n",
    "    chunk_size={'time': 100}  \n",
    ")\n",
    "\n",
    "print(f\"{r2_bicubic_rhiresd.values}\")"
   ]
  }
 ],
 "metadata": {
  "kernelspec": {
   "display_name": "Python 3",
   "language": "python",
   "name": "python3"
  },
  "language_info": {
   "codemirror_mode": {
    "name": "ipython",
    "version": 3
   },
   "file_extension": ".py",
   "mimetype": "text/x-python",
   "name": "python",
   "nbconvert_exporter": "python",
   "pygments_lexer": "ipython3",
   "version": "3.10.17"
  }
 },
 "nbformat": 4,
 "nbformat_minor": 5
}
