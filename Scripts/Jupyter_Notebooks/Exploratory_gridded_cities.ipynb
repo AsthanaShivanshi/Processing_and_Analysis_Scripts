{
 "cells": [
  {
   "cell_type": "markdown",
   "id": "8455ea3f",
   "metadata": {},
   "source": [
    "Testing functionalised script"
   ]
  },
  {
   "cell_type": "code",
   "execution_count": 12,
   "id": "a94e7d23",
   "metadata": {},
   "outputs": [
    {
     "name": "stdout",
     "output_type": "stream",
     "text": [
      "None\n"
     ]
    }
   ],
   "source": [
    "import os\n",
    "print(os.environ.get(\"BASE_DIR\"))\n",
    "BASE_DIR = os.environ.get(\"BASE_DIR\", \"/work/FAC/FGSE/IDYST/tbeucler/downscaling/\")\n",
    "import sys\n",
    "import cartopy.crs as ccrs\n",
    "import cartopy.feature as cfeature\n",
    "sys.path.append(\"Scripts/Functions\")\n",
    "from pathlib import Path\n",
    "import matplotlib.pyplot as plt\n",
    "from pyproj import Transformer\n",
    "import xarray as xr\n",
    "import numpy as np"
   ]
  },
  {
   "cell_type": "code",
   "execution_count": 13,
   "id": "7daaabf8",
   "metadata": {},
   "outputs": [],
   "source": [
    "#Loading observations, predictions from two unets, reconstructed\n",
    "#Observations for four variables \n",
    "data_obs_RhiresD= xr.open_dataset(\"../../data_1971_2023/HR_files_full/RhiresD_1971_2023.nc\").sel(time=slice(\"2011-01-01\", \"2020-12-31\"))\n",
    "data_obs_TabsD= xr.open_dataset(\"../../data_1971_2023/HR_files_full/TabsD_1971_2023.nc\").sel(time=slice(\"2011-01-01\", \"2020-12-31\"))\n",
    "data_obs_TminD= xr.open_dataset(\"../../data_1971_2023/HR_files_full/TminD_1971_2023.nc\").sel(time=slice(\"2011-01-01\", \"2020-12-31\"))\n",
    "data_obs_TmaxD= xr.open_dataset(\"../../data_1971_2023/HR_files_full/TmaxD_1971_2023.nc\").sel(time=slice(\"2011-01-01\", \"2020-12-31\"))"
   ]
  },
  {
   "cell_type": "code",
   "execution_count": 14,
   "id": "29a3f26c",
   "metadata": {},
   "outputs": [
    {
     "ename": "TypeError",
     "evalue": "unsupported operand type(s) for /: 'str' and 'str'",
     "output_type": "error",
     "traceback": [
      "\u001b[0;31m---------------------------------------------------------------------------\u001b[0m",
      "\u001b[0;31mTypeError\u001b[0m                                 Traceback (most recent call last)",
      "Cell \u001b[0;32mIn[14], line 2\u001b[0m\n\u001b[1;32m      1\u001b[0m \u001b[38;5;66;03m#reconstructed datasets\u001b[39;00m\n\u001b[0;32m----> 2\u001b[0m data_path_reconstructed_precip \u001b[38;5;241m=\u001b[39m xr\u001b[38;5;241m.\u001b[39mopen_dataset(\u001b[38;5;28mstr\u001b[39m(\u001b[43mBASE_DIR\u001b[49m\u001b[43m \u001b[49m\u001b[38;5;241;43m/\u001b[39;49m\u001b[43m \u001b[49m\u001b[38;5;124;43m\"\u001b[39;49m\u001b[38;5;124;43mraw_data\u001b[39;49m\u001b[38;5;124;43m\"\u001b[39;49m \u001b[38;5;241m/\u001b[39m \u001b[38;5;124m\"\u001b[39m\u001b[38;5;124mReconstruction_UniBern_1763_2020\u001b[39m\u001b[38;5;124m\"\u001b[39m \u001b[38;5;241m/\u001b[39m \u001b[38;5;124m\"\u001b[39m\u001b[38;5;124mprecip_1763_2020.nc\u001b[39m\u001b[38;5;124m\"\u001b[39m))\u001b[38;5;241m.\u001b[39msel(time\u001b[38;5;241m=\u001b[39m\u001b[38;5;28mslice\u001b[39m(\u001b[38;5;124m\"\u001b[39m\u001b[38;5;124m2011-01-01\u001b[39m\u001b[38;5;124m\"\u001b[39m, \u001b[38;5;124m\"\u001b[39m\u001b[38;5;124m2020-12-31\u001b[39m\u001b[38;5;124m\"\u001b[39m))\n\u001b[1;32m      3\u001b[0m data_path_reconstructed_temp \u001b[38;5;241m=\u001b[39m xr\u001b[38;5;241m.\u001b[39mopen_dataset(\u001b[38;5;28mstr\u001b[39m(BASE_DIR \u001b[38;5;241m/\u001b[39m \u001b[38;5;124m\"\u001b[39m\u001b[38;5;124mraw_data\u001b[39m\u001b[38;5;124m\"\u001b[39m \u001b[38;5;241m/\u001b[39m \u001b[38;5;124m\"\u001b[39m\u001b[38;5;124mReconstruction_UniBern_1763_2020\u001b[39m\u001b[38;5;124m\"\u001b[39m \u001b[38;5;241m/\u001b[39m \u001b[38;5;124m\"\u001b[39m\u001b[38;5;124mtemp_1763_2020.nc\u001b[39m\u001b[38;5;124m\"\u001b[39m))\u001b[38;5;241m.\u001b[39msel(time\u001b[38;5;241m=\u001b[39m\u001b[38;5;28mslice\u001b[39m(\u001b[38;5;124m\"\u001b[39m\u001b[38;5;124m2011-01-01\u001b[39m\u001b[38;5;124m\"\u001b[39m, \u001b[38;5;124m\"\u001b[39m\u001b[38;5;124m2020-12-31\u001b[39m\u001b[38;5;124m\"\u001b[39m))\n\u001b[1;32m      4\u001b[0m data_path_reconstructed_tmin \u001b[38;5;241m=\u001b[39m xr\u001b[38;5;241m.\u001b[39mopen_dataset(\n\u001b[1;32m      5\u001b[0m     \u001b[38;5;28mstr\u001b[39m(BASE_DIR \u001b[38;5;241m/\u001b[39m \u001b[38;5;124m\"\u001b[39m\u001b[38;5;124mraw_data\u001b[39m\u001b[38;5;124m\"\u001b[39m \u001b[38;5;241m/\u001b[39m \u001b[38;5;124m\"\u001b[39m\u001b[38;5;124mReconstruction_UniBern_1763_2020\u001b[39m\u001b[38;5;124m\"\u001b[39m \u001b[38;5;241m/\u001b[39m \u001b[38;5;124m\"\u001b[39m\u001b[38;5;124mtmin_1763_2020.nc\u001b[39m\u001b[38;5;124m\"\u001b[39m)\n\u001b[1;32m      6\u001b[0m )\u001b[38;5;241m.\u001b[39msel(time\u001b[38;5;241m=\u001b[39m\u001b[38;5;28mslice\u001b[39m(\u001b[38;5;124m\"\u001b[39m\u001b[38;5;124m2011-01-01\u001b[39m\u001b[38;5;124m\"\u001b[39m, \u001b[38;5;124m\"\u001b[39m\u001b[38;5;124m2020-12-31\u001b[39m\u001b[38;5;124m\"\u001b[39m))\n",
      "\u001b[0;31mTypeError\u001b[0m: unsupported operand type(s) for /: 'str' and 'str'"
     ]
    }
   ],
   "source": [
    "#reconstructed datasets\n",
    "data_path_reconstructed_precip = xr.open_dataset(str(BASE_DIR / \"raw_data\" / \"Reconstruction_UniBern_1763_2020\" / \"precip_1763_2020.nc\")).sel(time=slice(\"2011-01-01\", \"2020-12-31\"))\n",
    "data_path_reconstructed_temp = xr.open_dataset(str(BASE_DIR / \"raw_data\" / \"Reconstruction_UniBern_1763_2020\" / \"temp_1763_2020.nc\")).sel(time=slice(\"2011-01-01\", \"2020-12-31\"))\n",
    "data_path_reconstructed_tmin = xr.open_dataset(\n",
    "    str(BASE_DIR / \"raw_data\" / \"Reconstruction_UniBern_1763_2020\" / \"tmin_1763_2020.nc\")\n",
    ").sel(time=slice(\"2011-01-01\", \"2020-12-31\"))\n",
    "data_path_reconstructed_tmax = xr.open_dataset(\n",
    "    str(BASE_DIR / \"raw_data\" / \"Reconstruction_UniBern_1763_2020\" / \"tmax_1763_2020.nc\")\n",
    ").sel(time=slice(\"2011-01-01\", \"2020-12-31\"))"
   ]
  },
  {
   "cell_type": "code",
   "execution_count": 24,
   "id": "a6071c77",
   "metadata": {},
   "outputs": [],
   "source": [
    "#Predictions from 1971 time series \n",
    "data_path_Unet_1971_RhiresD= xr.open_dataset(str(BASE_DIR/\"sasthana\"/\"Downscaling\"/\"Downscaling_Models\"/\"models_UNet\"/\"UNet_Deterministic_Training_Dataset\"/\"downscaled_predictions_2011_2020_ds.nc\"))[\"RhiresD\"]\n",
    "data_path_Unet_1971_TabsD= xr.open_dataset(str(BASE_DIR/\"sasthana\"/\"Downscaling\"/\"Downscaling_Models\"/\"models_UNet\"/\"UNet_Deterministic_Training_Dataset\"/\"downscaled_predictions_2011_2020_ds.nc\"))[\"TabsD\"]\n",
    "data_path_Unet_1971_TminD= xr.open_dataset(str(BASE_DIR/\"sasthana\"/\"Downscaling\"/\"Downscaling_Models\"/\"models_UNet\"/\"UNet_Deterministic_Training_Dataset\"/\"downscaled_predictions_2011_2020_ds.nc\"))[\"TminD\"]\n",
    "data_path_Unet_1971_TmaxD= xr.open_dataset(str(BASE_DIR/\"sasthana\"/\"Downscaling\"/\"Downscaling_Models\"/\"models_UNet\"/\"UNet_Deterministic_Training_Dataset\"/\"downscaled_predictions_2011_2020_ds.nc\"))[\"TmaxD\"]\n"
   ]
  },
  {
   "cell_type": "code",
   "execution_count": null,
   "id": "95326de7",
   "metadata": {},
   "outputs": [],
   "source": [
    "###data_path_Unet_1771= xr.open_dataset(str(BASE_DIR/\"sasthana\"/\"Downscaling\"/\"Downscaling_Models\"/\"models_UNet\"/\"UNet_Deterministic_Pretraining_Dataset\"/\"downscaled_predictions_1771_2020_ds.nc\"))"
   ]
  },
  {
   "cell_type": "code",
   "execution_count": 26,
   "id": "a86f3e63",
   "metadata": {},
   "outputs": [],
   "source": [
    "city_coords_Zürich = (47.3769, 8.5417)  # Zürich\n",
    "city_coords_Geneva = (46.2044, 6.1432)  # Geneva\n",
    "city_coords_Locarno = (47.5596, 7.5886)  # Locarno"
   ]
  },
  {
   "cell_type": "markdown",
   "id": "f771c41a",
   "metadata": {},
   "source": [
    "For Zürich"
   ]
  },
  {
   "cell_type": "markdown",
   "id": "f6eb940d",
   "metadata": {},
   "source": [
    "for precipitation"
   ]
  },
  {
   "cell_type": "code",
   "execution_count": 30,
   "id": "596aa448",
   "metadata": {},
   "outputs": [],
   "source": [
    "def plot_city_pdf(city_coords, obs, unet, recon, city_name=\"City\"):\n",
    "    lat = obs['lat'].values\n",
    "    lon = obs['lon'].values\n",
    "    lon2d, lat2d = np.meshgrid(lon, lat)\n",
    "    # euclidean distance\n",
    "    dist = np.sqrt((lat2d - city_coords[0])**2 + (lon2d - city_coords[1])**2)\n",
    "    lat_idx, lon_idx = np.unravel_index(np.argmin(dist), dist.shape)\n",
    "    obs_series = obs[:, lat_idx, lon_idx].values.flatten()\n",
    "    unet_series = unet[:, lat_idx, lon_idx].values.flatten()\n",
    "    recon_series = recon[:, lat_idx, lon_idx].values.flatten()\n",
    "\n",
    "    obs_series = obs_series[~np.isnan(obs_series)]\n",
    "    unet_series = unet_series[~np.isnan(unet_series)]\n",
    "    recon_series = recon_series[~np.isnan(recon_series)]\n",
    "\n",
    "    plt.figure(figsize=(7,5))\n",
    "    plt.hist(obs_series, bins=50, density=True, alpha=0.5, label=\"Obs (RhiresD)\")\n",
    "    plt.hist(unet_series, bins=50, density=True, alpha=0.5, label=\"UNet 1971 (RhiresD)\")\n",
    "    plt.hist(recon_series, bins=50, density=True, alpha=0.5, label=\"Recon (precip)\")\n",
    "    plt.title(f\"PDF at {city_name} ({city_coords[0]:.2f}, {city_coords[1]:.2f})\")\n",
    "    plt.xlabel(\"Precipitation\")\n",
    "    plt.ylabel(\"Density\")\n",
    "    plt.legend()\n",
    "    plt.tight_layout()\n",
    "    plt.show()"
   ]
  },
  {
   "cell_type": "markdown",
   "id": "710922da",
   "metadata": {},
   "source": [
    "Usage"
   ]
  },
  {
   "cell_type": "code",
   "execution_count": 31,
   "id": "4b88481e",
   "metadata": {},
   "outputs": [
    {
     "ename": "",
     "evalue": "",
     "output_type": "error",
     "traceback": [
      "\u001b[1;31mThe Kernel crashed while executing code in the current cell or a previous cell. \n",
      "\u001b[1;31mPlease review the code in the cell(s) to identify a possible cause of the failure. \n",
      "\u001b[1;31mClick <a href='https://aka.ms/vscodeJupyterKernelCrash'>here</a> for more info. \n",
      "\u001b[1;31mView Jupyter <a href='command:jupyter.viewOutput'>log</a> for further details."
     ]
    }
   ],
   "source": [
    "\n",
    "city_coords = (47.3769, 8.5417)\n",
    "plot_city_pdf(\n",
    "    city_coords,\n",
    "    data_obs_RhiresD[\"RhiresD\"],\n",
    "    data_path_Unet_1971_RhiresD,\n",
    "    data_path_reconstructed_precip[\"precip\"],\n",
    "    city_name=\"Zürich\"\n",
    ")"
   ]
  },
  {
   "cell_type": "code",
   "execution_count": null,
   "id": "8ee08e81",
   "metadata": {},
   "outputs": [],
   "source": []
  },
  {
   "cell_type": "markdown",
   "id": "cde87bae",
   "metadata": {},
   "source": []
  },
  {
   "cell_type": "code",
   "execution_count": null,
   "id": "2ed44db4",
   "metadata": {},
   "outputs": [],
   "source": []
  },
  {
   "cell_type": "code",
   "execution_count": null,
   "id": "bca843b0",
   "metadata": {},
   "outputs": [],
   "source": []
  }
 ],
 "metadata": {
  "kernelspec": {
   "display_name": "Python 3",
   "language": "python",
   "name": "python3"
  },
  "language_info": {
   "codemirror_mode": {
    "name": "ipython",
    "version": 3
   },
   "file_extension": ".py",
   "mimetype": "text/x-python",
   "name": "python",
   "nbconvert_exporter": "python",
   "pygments_lexer": "ipython3",
   "version": "3.10.17"
  }
 },
 "nbformat": 4,
 "nbformat_minor": 5
}
