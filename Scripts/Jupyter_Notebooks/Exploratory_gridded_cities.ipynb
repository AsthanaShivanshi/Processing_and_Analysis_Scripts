{
 "cells": [
  {
   "cell_type": "markdown",
   "id": "8455ea3f",
   "metadata": {},
   "source": [
    "Testing functionalised script"
   ]
  },
  {
   "cell_type": "code",
   "execution_count": 1,
   "id": "a94e7d23",
   "metadata": {},
   "outputs": [
    {
     "name": "stderr",
     "output_type": "stream",
     "text": [
      "/work/FAC/FGSE/IDYST/tbeucler/downscaling/sasthana/MyPythonEnvNew/lib/python3.10/site-packages/pyproj/network.py:59: UserWarning: pyproj unable to set PROJ database path.\n",
      "  _set_context_ca_bundle_path(ca_bundle_path)\n"
     ]
    }
   ],
   "source": [
    "import os\n",
    "from pathlib import Path\n",
    "BASE_DIR = Path(os.environ.get(\"BASE_DIR\", \"/work/FAC/FGSE/IDYST/tbeucler/downscaling/\"))\n",
    "import sys\n",
    "import cartopy.crs as ccrs\n",
    "import cartopy.feature as cfeature\n",
    "sys.path.append(\"Scripts/Functions\")\n",
    "from pathlib import Path\n",
    "import matplotlib.pyplot as plt\n",
    "from pyproj import Transformer\n",
    "import xarray as xr\n",
    "import numpy as np"
   ]
  },
  {
   "cell_type": "code",
   "execution_count": 3,
   "id": "7daaabf8",
   "metadata": {},
   "outputs": [],
   "source": [
    "#Loading observations, predictions from two unets, reconstructed\n",
    "#Observations for four variables \n",
    "data_obs_RhiresD= xr.open_dataset(\"../../data_1971_2023/HR_files_full/RhiresD_1971_2023.nc\",chunks={\"time\": 100}).sel(time=slice(\"2011-01-01\", \"2020-12-31\"))\n",
    "data_obs_TabsD= xr.open_dataset(\"../../data_1971_2023/HR_files_full/TabsD_1971_2023.nc\",chunks={\"time\": 100}).sel(time=slice(\"2011-01-01\", \"2020-12-31\"))\n",
    "data_obs_TminD= xr.open_dataset(\"../../data_1971_2023/HR_files_full/TminD_1971_2023.nc\",chunks={\"time\": 100}).sel(time=slice(\"2011-01-01\", \"2020-12-31\"))\n",
    "data_obs_TmaxD= xr.open_dataset(\"../../data_1971_2023/HR_files_full/TmaxD_1971_2023.nc\",chunks={\"time\": 100}).sel(time=slice(\"2011-01-01\", \"2020-12-31\"))"
   ]
  },
  {
   "cell_type": "code",
   "execution_count": 4,
   "id": "29a3f26c",
   "metadata": {},
   "outputs": [],
   "source": [
    "#reconstructed datasets\n",
    "data_path_reconstructed_precip = xr.open_dataset(str(BASE_DIR / \"raw_data\" / \"Reconstruction_UniBern_1763_2020\" / \"precip_1763_2020.nc\"),chunks={\"time\": 100}).sel(time=slice(\"2011-01-01\", \"2020-12-31\"))\n",
    "data_path_reconstructed_temp = xr.open_dataset(str(BASE_DIR / \"raw_data\" / \"Reconstruction_UniBern_1763_2020\" / \"temp_1763_2020.nc\"),chunks={\"time\": 100}).sel(time=slice(\"2011-01-01\", \"2020-12-31\"))\n",
    "data_path_reconstructed_tmin = xr.open_dataset(\n",
    "    str(BASE_DIR / \"raw_data\" / \"Reconstruction_UniBern_1763_2020\" / \"tmin_1763_2020.nc\"),chunks={\"time\": 100}\n",
    ").sel(time=slice(\"2011-01-01\", \"2020-12-31\"))\n",
    "data_path_reconstructed_tmax = xr.open_dataset(\n",
    "    str(BASE_DIR / \"raw_data\" / \"Reconstruction_UniBern_1763_2020\" / \"tmax_1763_2020.nc\"),chunks={\"time\": 100}\n",
    ").sel(time=slice(\"2011-01-01\", \"2020-12-31\"))"
   ]
  },
  {
   "cell_type": "code",
   "execution_count": 6,
   "id": "a6071c77",
   "metadata": {},
   "outputs": [],
   "source": [
    "#Predictions from 1971 time series \n",
    "data_path_Unet_1971_RhiresD= xr.open_dataset(str(BASE_DIR/\"sasthana\"/\"Downscaling\"/\"Downscaling_Models\"/\"models_UNet\"/\"UNet_Deterministic_Training_Dataset\"/\"downscaled_predictions_2011_2020_ds.nc\"),chunks={\"time\": 100})[\"RhiresD\"]\n",
    "data_path_Unet_1971_TabsD= xr.open_dataset(str(BASE_DIR/\"sasthana\"/\"Downscaling\"/\"Downscaling_Models\"/\"models_UNet\"/\"UNet_Deterministic_Training_Dataset\"/\"downscaled_predictions_2011_2020_ds.nc\"),chunks={\"time\": 100})[\"TabsD\"]\n",
    "data_path_Unet_1971_TminD= xr.open_dataset(str(BASE_DIR/\"sasthana\"/\"Downscaling\"/\"Downscaling_Models\"/\"models_UNet\"/\"UNet_Deterministic_Training_Dataset\"/\"downscaled_predictions_2011_2020_ds.nc\"),chunks={\"time\": 100})[\"TminD\"]\n",
    "data_path_Unet_1971_TmaxD= xr.open_dataset(str(BASE_DIR/\"sasthana\"/\"Downscaling\"/\"Downscaling_Models\"/\"models_UNet\"/\"UNet_Deterministic_Training_Dataset\"/\"downscaled_predictions_2011_2020_ds.nc\"),chunks={\"time\": 100})[\"TmaxD\"]\n"
   ]
  },
  {
   "cell_type": "code",
   "execution_count": 7,
   "id": "95326de7",
   "metadata": {},
   "outputs": [],
   "source": [
    "###data_path_Unet_1771= xr.open_dataset(str(BASE_DIR/\"sasthana\"/\"Downscaling\"/\"Downscaling_Models\"/\"models_UNet\"/\"UNet_Deterministic_Pretraining_Dataset\"/\"downscaled_predictions_1771_2020_ds.nc\"))"
   ]
  },
  {
   "cell_type": "code",
   "execution_count": 8,
   "id": "a86f3e63",
   "metadata": {},
   "outputs": [],
   "source": [
    "city_coords_Zürich = (47.3769, 8.5417)  # Zürich\n",
    "city_coords_Geneva = (46.2044, 6.1432)  # Geneva\n",
    "city_coords_Locarno = (47.5596, 7.5886)  # Locarno"
   ]
  },
  {
   "cell_type": "markdown",
   "id": "f771c41a",
   "metadata": {},
   "source": [
    "For Zürich"
   ]
  },
  {
   "cell_type": "markdown",
   "id": "f6eb940d",
   "metadata": {},
   "source": [
    "for precipitation"
   ]
  },
  {
   "cell_type": "code",
   "execution_count": 9,
   "id": "596aa448",
   "metadata": {},
   "outputs": [],
   "source": [
    "def plot_city_pdf(city_coords, obs, unet, recon, city_name=\"City\"):\n",
    "    lat = obs['lat'].values\n",
    "    lon = obs['lon'].values\n",
    "    lon2d, lat2d = np.meshgrid(lon, lat)\n",
    "    # euclidean distance\n",
    "    dist = np.sqrt((lat2d - city_coords[0])**2 + (lon2d - city_coords[1])**2)\n",
    "    lat_idx, lon_idx = np.unravel_index(np.argmin(dist), dist.shape)\n",
    "    obs_series = obs[:, lat_idx, lon_idx].values.flatten()\n",
    "    unet_series = unet[:, lat_idx, lon_idx].values.flatten()\n",
    "    recon_series = recon[:, lat_idx, lon_idx].values.flatten()\n",
    "\n",
    "    obs_series = obs_series[~np.isnan(obs_series)]\n",
    "    unet_series = unet_series[~np.isnan(unet_series)]\n",
    "    recon_series = recon_series[~np.isnan(recon_series)]\n",
    "\n",
    "    plt.figure(figsize=(7,5))\n",
    "    plt.hist(obs_series, bins=50, density=True, alpha=0.5, label=\"Obs (RhiresD)\")\n",
    "    plt.hist(unet_series, bins=50, density=True, alpha=0.5, label=\"UNet 1971 (RhiresD)\")\n",
    "    plt.hist(recon_series, bins=50, density=True, alpha=0.5, label=\"Recon (precip)\")\n",
    "    plt.title(f\"PDF at {city_name} ({city_coords[0]:.4f}, {city_coords[1]:.4f})\")\n",
    "    plt.xlabel(\"Precipitation\")\n",
    "    plt.ylabel(\"Density\")\n",
    "    plt.legend()\n",
    "    plt.tight_layout()\n",
    "    plt.show()"
   ]
  },
  {
   "cell_type": "markdown",
   "id": "710922da",
   "metadata": {},
   "source": [
    "Usage"
   ]
  },
  {
   "cell_type": "code",
   "execution_count": 10,
   "id": "4b88481e",
   "metadata": {},
   "outputs": [
    {
     "ename": "",
     "evalue": "",
     "output_type": "error",
     "traceback": [
      "\u001b[1;31mThe Kernel crashed while executing code in the current cell or a previous cell. \n",
      "\u001b[1;31mPlease review the code in the cell(s) to identify a possible cause of the failure. \n",
      "\u001b[1;31mClick <a href='https://aka.ms/vscodeJupyterKernelCrash'>here</a> for more info. \n",
      "\u001b[1;31mView Jupyter <a href='command:jupyter.viewOutput'>log</a> for further details."
     ]
    }
   ],
   "source": [
    "city_coords = (47.3769, 8.5417)\n",
    "plot_city_pdf(\n",
    "    city_coords,\n",
    "    data_obs_RhiresD[\"RhiresD\"],\n",
    "    data_path_Unet_1971_RhiresD,\n",
    "    data_path_reconstructed_precip[\"precip\"],\n",
    "    city_name=\"Zürich\"\n",
    ")"
   ]
  },
  {
   "cell_type": "code",
   "execution_count": null,
   "id": "8ee08e81",
   "metadata": {},
   "outputs": [],
   "source": []
  },
  {
   "cell_type": "markdown",
   "id": "cde87bae",
   "metadata": {},
   "source": []
  },
  {
   "cell_type": "code",
   "execution_count": null,
   "id": "2ed44db4",
   "metadata": {},
   "outputs": [],
   "source": []
  },
  {
   "cell_type": "code",
   "execution_count": null,
   "id": "bca843b0",
   "metadata": {},
   "outputs": [],
   "source": []
  }
 ],
 "metadata": {
  "kernelspec": {
   "display_name": "Python 3",
   "language": "python",
   "name": "python3"
  },
  "language_info": {
   "codemirror_mode": {
    "name": "ipython",
    "version": 3
   },
   "file_extension": ".py",
   "mimetype": "text/x-python",
   "name": "python",
   "nbconvert_exporter": "python",
   "pygments_lexer": "ipython3",
   "version": "3.10.17"
  }
 },
 "nbformat": 4,
 "nbformat_minor": 5
}
