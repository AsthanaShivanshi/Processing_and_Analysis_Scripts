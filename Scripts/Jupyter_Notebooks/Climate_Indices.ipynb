{
 "cells": [
  {
   "cell_type": "code",
   "execution_count": 1,
   "id": "8477aac5",
   "metadata": {},
   "outputs": [],
   "source": [
    "import sys\n",
    "sys.path.append(\"../../Scripts/Functions/Climate_Indices\")\n",
    "import dependencies\n",
    "import xarray as xr"
   ]
  },
  {
   "cell_type": "markdown",
   "id": "3ad1ae9a",
   "metadata": {},
   "source": [
    "Calculating and comparing tropical nights from the test period : 2019-2023 between bicubic baseline and target HR "
   ]
  },
  {
   "cell_type": "code",
   "execution_count": 2,
   "id": "162bfdaf",
   "metadata": {},
   "outputs": [],
   "source": [
    "from hot_days_tropical_nights import hot_days_gridded, tropical_nights_gridded"
   ]
  },
  {
   "cell_type": "code",
   "execution_count": 4,
   "id": "3c1ec60a",
   "metadata": {},
   "outputs": [],
   "source": [
    "test_period = slice('2019-01-01', '2023-12-31')\n",
    "\n",
    "features_path = '../../data/Bicubic_Baseline_Full/Bicubic_TminD_1km.nc'\n",
    "ds_coarse = xr.open_dataset(features_path)\n",
    "ds_coarse = ds_coarse.sel(time=test_period)\n",
    "\n",
    "target_path = '../../data/HR_files_full/TminD_1971_2023.nc'\n",
    "ds_target = xr.open_dataset(target_path)\n",
    "ds_target = ds_target.sel(time=test_period)"
   ]
  },
  {
   "cell_type": "code",
   "execution_count": null,
   "id": "568b5f9c",
   "metadata": {},
   "outputs": [],
   "source": [
    "tropical_nights_gridded(ds_coarse, title=\"Tropical Nights from Bicubically Interpolated Test Set(2019-2023)\",save=True, save_path=\"../../Outputs/Indices_Bicubic_Truth/Tropical_Nights_Bicubic_2019_2023.png\")\n",
    "tropical_nights_gridded(ds_target, title=\"Tropical Nights from Ground Truth Test Set(2019-2023)\", save=True, save_path=\"../../Outputs/Indices_Bicubic_Truth/Tropical_Nights_Ground_Truth_2019_2023.png\")"
   ]
  },
  {
   "cell_type": "markdown",
   "id": "f2da7b11",
   "metadata": {},
   "source": [
    "Comparing hot days from the test period (2019-2023)"
   ]
  },
  {
   "cell_type": "code",
   "execution_count": 3,
   "id": "dbacd2d9",
   "metadata": {},
   "outputs": [],
   "source": [
    "test_period = slice('2019-01-01', '2023-12-31')\n",
    "\n",
    "features_path = '../../data/Bicubic_Baseline_Full/Bicubic_TmaxD_1km.nc'\n",
    "ds_coarse = xr.open_dataset(features_path)\n",
    "ds_coarse = ds_coarse.sel(time=test_period)\n",
    "\n",
    "target_path = '../../data/HR_files_full/TmaxD_1971_2023.nc'\n",
    "ds_target = xr.open_dataset(target_path)\n",
    "ds_target = ds_target.sel(time=test_period)"
   ]
  },
  {
   "cell_type": "code",
   "execution_count": null,
   "id": "5d3ff729",
   "metadata": {},
   "outputs": [],
   "source": [
    "hot_days_gridded(ds_coarse, title=\"Hot Days from Bicubically Interpolated Test Set(2019-2023)\",save=True, save_path=\"../../Outputs/Indices_Bicubic_Truth/Hot_Days_Bicubic_2019_2023.png\")\n",
    "hot_days_gridded(ds_target, title=\"Hot Days from Ground Truth Test Set(2019-2023)\", save=True, save_path=\"../../Outputs/Indices_Bicubic_Truth/Hot_Days_Ground_Truth_2019_2023.png\")"
   ]
  },
  {
   "cell_type": "code",
   "execution_count": 2,
   "id": "a628226d",
   "metadata": {},
   "outputs": [],
   "source": [
    "from DTR_mean import dtr_mean_gridded"
   ]
  },
  {
   "cell_type": "markdown",
   "id": "7d57fe03",
   "metadata": {},
   "source": [
    "Mean Diurnal Range of temperatures for the test period (2019-2023)"
   ]
  },
  {
   "cell_type": "markdown",
   "id": "f86f1454",
   "metadata": {},
   "source": [
    "Bicubically interpolated output"
   ]
  },
  {
   "cell_type": "code",
   "execution_count": null,
   "id": "a0814fc7",
   "metadata": {},
   "outputs": [],
   "source": [
    "dtr_mean_gridded(\n",
    "    tmax_file=\"../../data/Bicubic_Baseline_Full/Bicubic_TmaxD_1km.nc\",\n",
    "    tmin_file=\"../../data/Bicubic_Baseline_Full/Bicubic_TminD_1km.nc\",\n",
    "    output_file=\"../../Outputs/Indices_Bicubic_Truth/Mean_DTR_Bicubic_2019_2023.png\",\n",
    "    save=True,\n",
    "    title_suffix=\"Test Set Mean DTR (2019-2023)\",\n",
    ")"
   ]
  },
  {
   "cell_type": "markdown",
   "id": "69487caa",
   "metadata": {},
   "source": [
    "Ground Truth"
   ]
  },
  {
   "cell_type": "code",
   "execution_count": null,
   "id": "e6366560",
   "metadata": {},
   "outputs": [],
   "source": [
    "dtr_mean_gridded(\n",
    "    tmax_file=\"../../data/HR_files_full/TmaxD_1971_2023.nc\",\n",
    "    tmin_file=\"../../data/HR_files_full/TminD_1971_2023.nc\",\n",
    "    output_file=\"../../Outputs/Indices_Bicubic_Truth/Mean_DTR_Ground_Truth_2019_2023.png\",\n",
    "    save=True,\n",
    "    title_suffix=\"Ground Truth Mean DTR (2019-2023)\",\n",
    ")"
   ]
  }
 ],
 "metadata": {
  "kernelspec": {
   "display_name": "Python 3",
   "language": "python",
   "name": "python3"
  },
  "language_info": {
   "codemirror_mode": {
    "name": "ipython",
    "version": 3
   },
   "file_extension": ".py",
   "mimetype": "text/x-python",
   "name": "python",
   "nbconvert_exporter": "python",
   "pygments_lexer": "ipython3",
   "version": "3.10.17"
  }
 },
 "nbformat": 4,
 "nbformat_minor": 5
}
