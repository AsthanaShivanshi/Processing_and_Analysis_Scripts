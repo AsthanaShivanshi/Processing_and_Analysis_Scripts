{
 "cells": [
  {
   "cell_type": "code",
   "execution_count": 11,
   "id": "8477aac5",
   "metadata": {},
   "outputs": [],
   "source": [
    "import sys\n",
    "sys.path.append(\"../../Scripts/Functions/Climate_Indices\")\n",
    "import dependencies\n",
    "import xarray as xr"
   ]
  },
  {
   "cell_type": "markdown",
   "id": "3ad1ae9a",
   "metadata": {},
   "source": [
    "Calculating and comparing tropical nights from the test period : 2019-2023 between bicubic baseline and target HR "
   ]
  },
  {
   "cell_type": "code",
   "execution_count": 12,
   "id": "162bfdaf",
   "metadata": {},
   "outputs": [],
   "source": [
    "from hot_days_tropical_nights import hot_days_gridded, tropical_nights_gridded"
   ]
  },
  {
   "cell_type": "code",
   "execution_count": 6,
   "id": "3c1ec60a",
   "metadata": {},
   "outputs": [],
   "source": [
    "test_period = slice('2019-01-01', '2023-12-31')\n",
    "\n",
    "features_path = '../../data/Bicubic_Baseline_Full/Bicubic_TminD_1km.nc'\n",
    "ds_coarse = xr.open_dataset(features_path)\n",
    "ds_coarse = ds_coarse.sel(time=test_period)\n",
    "\n",
    "target_path = '../../data/HR_files_full/TminD_1971_2023.nc'\n",
    "ds_target = xr.open_dataset(target_path)\n",
    "ds_target = ds_target.sel(time=test_period)"
   ]
  },
  {
   "cell_type": "code",
   "execution_count": null,
   "id": "568b5f9c",
   "metadata": {},
   "outputs": [],
   "source": [
    "tropical_nights_gridded(ds_coarse, title=\"Tropical Nights from Bicubically Interpolated Test Set(2019-2023)\",save=True, save_path=\"../../Outputs/Indices_Bicubic_Truth/Tropical_Nights_Bicubic_2019_2023.png\")\n",
    "tropical_nights_gridded(ds_target, title=\"Tropical Nights from Ground Truth Test Set(2019-2023)\", save=True, save_path=\"../../Outputs/Indices_Bicubic_Truth/Tropical_Nights_Ground_Truth_2019_2023.png\")"
   ]
  },
  {
   "cell_type": "markdown",
   "id": "f2da7b11",
   "metadata": {},
   "source": [
    "Comparing hot days from the test period (2019-2023)"
   ]
  },
  {
   "cell_type": "code",
   "execution_count": 13,
   "id": "dbacd2d9",
   "metadata": {},
   "outputs": [],
   "source": [
    "test_period = slice('2019-01-01', '2023-12-31')\n",
    "\n",
    "features_path = '../../data/Bicubic_Baseline_Full/Bicubic_TmaxD_1km.nc'\n",
    "ds_coarse = xr.open_dataset(features_path)\n",
    "ds_coarse = ds_coarse.sel(time=test_period)\n",
    "\n",
    "target_path = '../../data/HR_files_full/TmaxD_1971_2023.nc'\n",
    "ds_target = xr.open_dataset(target_path)\n",
    "ds_target = ds_target.sel(time=test_period)"
   ]
  },
  {
   "cell_type": "code",
   "execution_count": null,
   "id": "5d3ff729",
   "metadata": {},
   "outputs": [],
   "source": [
    "hot_days_gridded(ds_coarse, title=\"Hot Days from Bicubically Interpolated Test Set(2019-2023)\",save=True, save_path=\"../../Outputs/Indices_Bicubic_Truth/Hot_Days_Bicubic_2019_2023.png\")\n",
    "hot_days_gridded(ds_target, title=\"Hot Days from Ground Truth Test Set(2019-2023)\", save=True, save_path=\"../../Outputs/Indices_Bicubic_Truth/Hot_Days_Ground_Truth_2019_2023.png\")"
   ]
  },
  {
   "cell_type": "code",
   "execution_count": 15,
   "id": "a628226d",
   "metadata": {},
   "outputs": [],
   "source": [
    "from DTR_mean import dtr_mean_gridded"
   ]
  },
  {
   "cell_type": "markdown",
   "id": "7d57fe03",
   "metadata": {},
   "source": [
    "Mean Diurnal Range of temperatures for the test period (2019-2023)"
   ]
  },
  {
   "cell_type": "markdown",
   "id": "f86f1454",
   "metadata": {},
   "source": [
    "Bicubically interpolated output"
   ]
  },
  {
   "cell_type": "code",
   "execution_count": 25,
   "id": "5c4477fd",
   "metadata": {},
   "outputs": [],
   "source": [
    "ds_tmax_bicubic = xr.open_dataset(\"../../data/Bicubic_Baseline_Full/Bicubic_TmaxD_1km.nc\")\n",
    "ds_tmin_bicubic = xr.open_dataset(\"../../data/Bicubic_Baseline_Full/Bicubic_TminD_1km.nc\")\n",
    "ds_tmax_bicubic_2019_2023 = ds_tmax_bicubic['TmaxD'].sel(time=slice(\"2019-01-01\", \"2023-12-31\"))\n",
    "ds_tmin_bicubic_2019_2023 = ds_tmin_bicubic['TminD'].sel(time=slice(\"2019-01-01\", \"2023-12-31\"))"
   ]
  },
  {
   "cell_type": "code",
   "execution_count": null,
   "id": "209493c3",
   "metadata": {},
   "outputs": [],
   "source": [
    "dtr_mean_gridded(\n",
    "    tmax=ds_tmax_bicubic_2019_2023,\n",
    "    tmin=ds_tmin_bicubic_2019_2023,\n",
    "    output_file=\"../../Outputs/Indices_Bicubic_Truth/Mean_DTR_Bicubic_2019_2023.png\",\n",
    "    save=True,\n",
    "    title_suffix=\"(2019–2023)\"\n",
    ")"
   ]
  },
  {
   "cell_type": "markdown",
   "id": "69487caa",
   "metadata": {},
   "source": [
    "Ground Truth: Mean DTR"
   ]
  },
  {
   "cell_type": "code",
   "execution_count": 27,
   "id": "9d9ad17e",
   "metadata": {},
   "outputs": [],
   "source": [
    "ds_tmax_gt = xr.open_dataset(\"../../data/HR_files_full/TmaxD_1971_2023.nc\")\n",
    "ds_tmin_gt = xr.open_dataset(\"../../data/HR_files_full/TminD_1971_2023.nc\")\n",
    "ds_tmax_gt_2019_2023 = ds_tmax_gt['TmaxD'].sel(time=slice(\"2019-01-01\", \"2023-12-31\"))\n",
    "ds_tmin_gt_2019_2023 = ds_tmin_gt['TminD'].sel(time=slice(\"2019-01-01\", \"2023-12-31\"))"
   ]
  },
  {
   "cell_type": "code",
   "execution_count": null,
   "id": "e6366560",
   "metadata": {},
   "outputs": [],
   "source": [
    "dtr_mean_gridded(\n",
    "    tmax=ds_tmax_gt_2019_2023,\n",
    "    tmin=ds_tmin_gt_2019_2023,\n",
    "    output_file=\"../../Outputs/Indices_Bicubic_Truth/Mean_DTR_Ground_Truth_2019_2023.png\",\n",
    "    save=True,\n",
    "    title_suffix=\"(2019–2023)\"\n",
    ")"
   ]
  },
  {
   "cell_type": "markdown",
   "id": "db300ccb",
   "metadata": {},
   "source": [
    "5th and 95th of the DTR  in the test set"
   ]
  },
  {
   "cell_type": "code",
   "execution_count": 31,
   "id": "2f7f0a25",
   "metadata": {},
   "outputs": [],
   "source": [
    "from Percentiles_DTR import dtr_percentiles_gridded"
   ]
  },
  {
   "cell_type": "code",
   "execution_count": null,
   "id": "159ec026",
   "metadata": {},
   "outputs": [],
   "source": [
    "dtr_percentiles_gridded(\n",
    "    tmax=ds_tmax_bicubic_2019_2023,\n",
    "    tmin=ds_tmin_bicubic_2019_2023,\n",
    "    output_file=\"../../Outputs/Indices_Bicubic_Truth/DTR_percentiles_2019_2023.png\",\n",
    "    save=True,\n",
    "    title_suffix=\"(2019–2023)\"\n",
    ")\n"
   ]
  },
  {
   "cell_type": "code",
   "execution_count": null,
   "id": "fe270c05",
   "metadata": {},
   "outputs": [],
   "source": [
    "dtr_percentiles_gridded(\n",
    "    tmax=ds_tmax_gt_2019_2023,\n",
    "    tmin=ds_tmin_gt_2019_2023,\n",
    "    output_file=\"../../Outputs/Indices_Bicubic_Truth/DTR_percentiles_GT_2019_2023.png\",\n",
    "    save=True,\n",
    "    title_suffix=\"(2019–2023)\"\n",
    ")"
   ]
  },
  {
   "cell_type": "markdown",
   "id": "cbc27562",
   "metadata": {},
   "source": [
    "Growing degree days "
   ]
  },
  {
   "cell_type": "code",
   "execution_count": 34,
   "id": "afd29f4d",
   "metadata": {},
   "outputs": [],
   "source": [
    "from gdd import growing_degree_days_gridded"
   ]
  },
  {
   "cell_type": "code",
   "execution_count": null,
   "id": "d812fb91",
   "metadata": {},
   "outputs": [],
   "source": [
    "ds_tabs = xr.open_dataset(\"../../data/Bicubic_Baseline_Full/Bicubic_TabsD_1km.nc\")\n",
    "tabs_filtered = ds_tabs['TabsD'].sel(time=slice(\"2019-01-01\", \"2023-12-31\"))\n",
    "\n",
    "growing_degree_days_gridded(\n",
    "    data=tabs_filtered,\n",
    "    base_temp=5.0,\n",
    "    season=\"DJF\",  #Summer growing days for example\n",
    "    save=True,\n",
    "    save_path=\"../../Outputs/Indices_Bicubic_Truth/GDD_Bicubic_2019_2023.png\"\n",
    ")\n"
   ]
  },
  {
   "cell_type": "markdown",
   "id": "44a9d830",
   "metadata": {},
   "source": [
    "Ground truth "
   ]
  },
  {
   "cell_type": "code",
   "execution_count": null,
   "id": "5e83239e",
   "metadata": {},
   "outputs": [],
   "source": [
    "ds_tabs = xr.open_dataset(\"../../data/HR_files_full/TabsD_1971_2023.nc\")\n",
    "tabs_filtered = ds_tabs['TabsD'].sel(time=slice(\"2019-01-01\", \"2023-12-31\"))\n",
    "\n",
    "growing_degree_days_gridded(\n",
    "    data=tabs_filtered,\n",
    "    base_temp=5.0,\n",
    "    season=\"DJF\",  #Summer growing days for example\n",
    "    save=True,\n",
    "    save_path=\"../../Outputs/Indices_Bicubic_Truth/GDD_GT_2019_2023.png\"\n",
    ")"
   ]
  }
 ],
 "metadata": {
  "kernelspec": {
   "display_name": "Python 3",
   "language": "python",
   "name": "python3"
  },
  "language_info": {
   "codemirror_mode": {
    "name": "ipython",
    "version": 3
   },
   "file_extension": ".py",
   "mimetype": "text/x-python",
   "name": "python",
   "nbconvert_exporter": "python",
   "pygments_lexer": "ipython3",
   "version": "3.10.17"
  }
 },
 "nbformat": 4,
 "nbformat_minor": 5
}
