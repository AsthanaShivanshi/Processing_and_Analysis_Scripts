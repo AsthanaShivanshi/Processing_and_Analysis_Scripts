{
 "cells": [
  {
   "cell_type": "code",
   "execution_count": 3,
   "id": "ea2b1847",
   "metadata": {},
   "outputs": [],
   "source": [
    "import matplotlib.pyplot as plt\n",
    "import numpy as np\n",
    "import cartopy.crs as ccrs\n",
    "import cartopy.feature as cfeature\n",
    "import xarray as xr"
   ]
  },
  {
   "cell_type": "code",
   "execution_count": 4,
   "id": "f57c154d",
   "metadata": {},
   "outputs": [],
   "source": [
    "coarse = xr.open_dataset('/work/FAC/FGSE/IDYST/tbeucler/downscaling/sasthana/Downscaling/Downscaling_Models/Training_Chronological_Dataset/RhiresD_step2_coarse.nc')[\"RhiresD\"].sel(time='2015-05-25')\n",
    "bicubic = xr.open_dataset('/work/FAC/FGSE/IDYST/tbeucler/downscaling/sasthana/Downscaling/Downscaling_Models/Training_Chronological_Dataset/RhiresD_step3_interp.nc')[\"RhiresD\"].sel(time='2015-05-25')\n",
    "UNet_1971 = xr.open_dataset(\"/work/FAC/FGSE/IDYST/tbeucler/downscaling/sasthana/Downscaling/Downscaling_Models/models_UNet/UNet_Deterministic_Training_Dataset_Optim_Weights/Optim_Training_Downscaled_Predictions_2011_2020.nc\")[\"RhiresD\"].sel(time='2015-05-25')"
   ]
  },
  {
   "cell_type": "code",
   "execution_count": null,
   "id": "6fa53c2a",
   "metadata": {},
   "outputs": [],
   "source": []
  },
  {
   "cell_type": "code",
   "execution_count": 2,
   "id": "8477aac5",
   "metadata": {},
   "outputs": [],
   "source": [
    "import sys\n",
    "sys.path.append(\"../../Scripts/Functions/Climate_Indices\")\n",
    "import dependencies\n",
    "import xarray as xr"
   ]
  },
  {
   "cell_type": "markdown",
   "id": "3ad1ae9a",
   "metadata": {},
   "source": [
    "Calculating and comparing tropical nights from the test period : 2019-2023 between bicubic baseline and target HR "
   ]
  },
  {
   "cell_type": "code",
   "execution_count": 12,
   "id": "162bfdaf",
   "metadata": {},
   "outputs": [],
   "source": [
    "from hot_days_tropical_nights import hot_days_gridded, tropical_nights_gridded"
   ]
  },
  {
   "cell_type": "code",
   "execution_count": 6,
   "id": "3c1ec60a",
   "metadata": {},
   "outputs": [],
   "source": [
    "test_period = slice('2019-01-01', '2023-12-31')\n",
    "\n",
    "features_path = '../../data/Bicubic_Baseline_Full/Bicubic_TminD_1km.nc'\n",
    "ds_coarse = xr.open_dataset(features_path)\n",
    "ds_coarse = ds_coarse.sel(time=test_period)\n",
    "\n",
    "target_path = '../../data/HR_files_full/TminD_1971_2023.nc'\n",
    "ds_target = xr.open_dataset(target_path)\n",
    "ds_target = ds_target.sel(time=test_period)"
   ]
  },
  {
   "cell_type": "code",
   "execution_count": null,
   "id": "568b5f9c",
   "metadata": {},
   "outputs": [],
   "source": [
    "tropical_nights_gridded(ds_coarse, title=\"Tropical Nights from Bicubically Interpolated Test Set(2019-2023)\",save=True, save_path=\"../../Outputs/Indices_Bicubic_Truth/Tropical_Nights_Bicubic_2019_2023.png\")\n",
    "tropical_nights_gridded(ds_target, title=\"Tropical Nights from Ground Truth Test Set(2019-2023)\", save=True, save_path=\"../../Outputs/Indices_Bicubic_Truth/Tropical_Nights_Ground_Truth_2019_2023.png\")"
   ]
  },
  {
   "cell_type": "markdown",
   "id": "f2da7b11",
   "metadata": {},
   "source": [
    "Comparing hot days from the test period (2019-2023)"
   ]
  },
  {
   "cell_type": "code",
   "execution_count": 13,
   "id": "dbacd2d9",
   "metadata": {},
   "outputs": [],
   "source": [
    "test_period = slice('2019-01-01', '2023-12-31')\n",
    "\n",
    "features_path = '../../data/Bicubic_Baseline_Full/Bicubic_TmaxD_1km.nc'\n",
    "ds_coarse = xr.open_dataset(features_path)\n",
    "ds_coarse = ds_coarse.sel(time=test_period)\n",
    "\n",
    "target_path = '../../data/HR_files_full/TmaxD_1971_2023.nc'\n",
    "ds_target = xr.open_dataset(target_path)\n",
    "ds_target = ds_target.sel(time=test_period)"
   ]
  },
  {
   "cell_type": "code",
   "execution_count": null,
   "id": "5d3ff729",
   "metadata": {},
   "outputs": [],
   "source": [
    "hot_days_gridded(ds_coarse, title=\"Hot Days from Bicubically Interpolated Test Set(2019-2023)\",save=True, save_path=\"../../Outputs/Indices_Bicubic_Truth/Hot_Days_Bicubic_2019_2023.png\")\n",
    "hot_days_gridded(ds_target, title=\"Hot Days from Ground Truth Test Set(2019-2023)\", save=True, save_path=\"../../Outputs/Indices_Bicubic_Truth/Hot_Days_Ground_Truth_2019_2023.png\")"
   ]
  },
  {
   "cell_type": "code",
   "execution_count": 15,
   "id": "a628226d",
   "metadata": {},
   "outputs": [],
   "source": [
    "from DTR_mean import dtr_mean_gridded"
   ]
  },
  {
   "cell_type": "markdown",
   "id": "7d57fe03",
   "metadata": {},
   "source": [
    "Mean Diurnal Range of temperatures for the test period (2019-2023)"
   ]
  },
  {
   "cell_type": "markdown",
   "id": "f86f1454",
   "metadata": {},
   "source": [
    "Bicubically interpolated output"
   ]
  },
  {
   "cell_type": "code",
   "execution_count": 3,
   "id": "5c4477fd",
   "metadata": {},
   "outputs": [],
   "source": [
    "ds_tmax_bicubic = xr.open_dataset(\"../../data/Bicubic_Baseline_Full/Bicubic_TmaxD_1km.nc\")\n",
    "ds_tmin_bicubic = xr.open_dataset(\"../../data/Bicubic_Baseline_Full/Bicubic_TminD_1km.nc\")\n",
    "ds_tmax_bicubic_2019_2023 = ds_tmax_bicubic['TmaxD'].sel(time=slice(\"2019-01-01\", \"2023-12-31\"))\n",
    "ds_tmin_bicubic_2019_2023 = ds_tmin_bicubic['TminD'].sel(time=slice(\"2019-01-01\", \"2023-12-31\"))"
   ]
  },
  {
   "cell_type": "code",
   "execution_count": null,
   "id": "209493c3",
   "metadata": {},
   "outputs": [],
   "source": [
    "dtr_mean_gridded(\n",
    "    tmax=ds_tmax_bicubic_2019_2023,\n",
    "    tmin=ds_tmin_bicubic_2019_2023,\n",
    "    output_file=\"../../Outputs/Indices_Bicubic_Truth/Mean_DTR_Bicubic_2019_2023.png\",\n",
    "    save=True,\n",
    "    title_suffix=\"(2019–2023)\"\n",
    ")"
   ]
  },
  {
   "cell_type": "markdown",
   "id": "69487caa",
   "metadata": {},
   "source": [
    "Ground Truth: Mean DTR"
   ]
  },
  {
   "cell_type": "code",
   "execution_count": 4,
   "id": "9d9ad17e",
   "metadata": {},
   "outputs": [],
   "source": [
    "ds_tmax_gt = xr.open_dataset(\"../../data/HR_files_full/TmaxD_1971_2023.nc\")\n",
    "ds_tmin_gt = xr.open_dataset(\"../../data/HR_files_full/TminD_1971_2023.nc\")\n",
    "ds_tmax_gt_2019_2023 = ds_tmax_gt['TmaxD'].sel(time=slice(\"2019-01-01\", \"2023-12-31\"))\n",
    "ds_tmin_gt_2019_2023 = ds_tmin_gt['TminD'].sel(time=slice(\"2019-01-01\", \"2023-12-31\"))"
   ]
  },
  {
   "cell_type": "code",
   "execution_count": null,
   "id": "e6366560",
   "metadata": {},
   "outputs": [],
   "source": [
    "dtr_mean_gridded(\n",
    "    tmax=ds_tmax_gt_2019_2023,\n",
    "    tmin=ds_tmin_gt_2019_2023,\n",
    "    output_file=\"../../Outputs/Indices_Bicubic_Truth/Mean_DTR_Ground_Truth_2019_2023.png\",\n",
    "    save=True,\n",
    "    title_suffix=\"(2019–2023)\"\n",
    ")"
   ]
  },
  {
   "cell_type": "markdown",
   "id": "db300ccb",
   "metadata": {},
   "source": [
    "5th and 95th of the DTR  in the test set"
   ]
  },
  {
   "cell_type": "code",
   "execution_count": 31,
   "id": "2f7f0a25",
   "metadata": {},
   "outputs": [],
   "source": [
    "from Percentiles_DTR import dtr_percentiles_gridded"
   ]
  },
  {
   "cell_type": "code",
   "execution_count": null,
   "id": "159ec026",
   "metadata": {},
   "outputs": [],
   "source": [
    "dtr_percentiles_gridded(\n",
    "    tmax=ds_tmax_bicubic_2019_2023,\n",
    "    tmin=ds_tmin_bicubic_2019_2023,\n",
    "    output_file=\"../../Outputs/Indices_Bicubic_Truth/DTR_percentiles_2019_2023.png\",\n",
    "    save=True,\n",
    "    title_suffix=\"(2019–2023)\"\n",
    ")\n"
   ]
  },
  {
   "cell_type": "code",
   "execution_count": null,
   "id": "fe270c05",
   "metadata": {},
   "outputs": [],
   "source": [
    "dtr_percentiles_gridded(\n",
    "    tmax=ds_tmax_gt_2019_2023,\n",
    "    tmin=ds_tmin_gt_2019_2023,\n",
    "    output_file=\"../../Outputs/Indices_Bicubic_Truth/DTR_percentiles_GT_2019_2023.png\",\n",
    "    save=True,\n",
    "    title_suffix=\"(2019–2023)\"\n",
    ")"
   ]
  },
  {
   "cell_type": "markdown",
   "id": "cbc27562",
   "metadata": {},
   "source": [
    "Growing degree days "
   ]
  },
  {
   "cell_type": "code",
   "execution_count": 3,
   "id": "afd29f4d",
   "metadata": {},
   "outputs": [],
   "source": [
    "from gdd import growing_degree_days_gridded"
   ]
  },
  {
   "cell_type": "code",
   "execution_count": null,
   "id": "d812fb91",
   "metadata": {},
   "outputs": [],
   "source": [
    "ds_tabs = xr.open_dataset(\"../../data/Bicubic_Baseline_Full/Bicubic_TabsD_1km.nc\")\n",
    "tabs_filtered = ds_tabs['TabsD'].sel(time=slice(\"2019-01-01\", \"2023-12-31\"))\n",
    "\n",
    "growing_degree_days_gridded(\n",
    "    data=tabs_filtered,\n",
    "    base_temp=5.0,\n",
    "    season=\"DJF\",   #Winter growing days for example, None if calculated for all years\n",
    "    save=True,\n",
    "    save_path=\"../../Outputs/Indices_Bicubic_Truth/GDD_Bicubic_2019_2023.png\"\n",
    ")\n"
   ]
  },
  {
   "cell_type": "markdown",
   "id": "44a9d830",
   "metadata": {},
   "source": [
    "Ground truth "
   ]
  },
  {
   "cell_type": "code",
   "execution_count": null,
   "id": "5e83239e",
   "metadata": {},
   "outputs": [],
   "source": [
    "ds_tabs = xr.open_dataset(\"../../data/HR_files_full/TabsD_1971_2023.nc\")\n",
    "tabs_filtered = ds_tabs['TabsD'].sel(time=slice(\"2019-01-01\", \"2023-12-31\"))\n",
    "\n",
    "growing_degree_days_gridded(\n",
    "    data=tabs_filtered,\n",
    "    base_temp=5.0,\n",
    "    season=\"DJF\",  #Winter growing days for example, None if calculated for all years\n",
    "    save=True,\n",
    "    save_path=\"../../Outputs/Indices_Bicubic_Truth/GDD_GT_2019_2023.png\"\n",
    ")"
   ]
  },
  {
   "cell_type": "markdown",
   "id": "ef91fe6f",
   "metadata": {},
   "source": [
    "Warm and Wet Days in the test set (2019-2023 bicubically interpolated )"
   ]
  },
  {
   "cell_type": "code",
   "execution_count": 5,
   "id": "15a0a52b",
   "metadata": {},
   "outputs": [],
   "source": [
    "from warm_wet_gridded import warm_wet_gridded"
   ]
  },
  {
   "cell_type": "code",
   "execution_count": null,
   "id": "a1d84ca9",
   "metadata": {},
   "outputs": [],
   "source": [
    "precip_max_bicubic_filtered = xr.open_dataset(\"../../data/Bicubic_Baseline_Full/Bicubic_RhiresD_1km.nc\")['RhiresD'].sel(time=slice(\"2019-01-01\", \"2023-12-31\"))\n",
    "\n",
    "warm_wet_gridded(\n",
    "    tmax=ds_tmax_bicubic_2019_2023,\n",
    "    precip=precip_max_bicubic_filtered,\n",
    "    precip_threshold=10.0,\n",
    "    save=True,\n",
    "    save_path=\"../../Outputs/Indices_Bicubic_Truth/Warm_Wet_Bicubic_2019_2023.png\")\n"
   ]
  },
  {
   "cell_type": "code",
   "execution_count": null,
   "id": "be2a2c4e",
   "metadata": {},
   "outputs": [],
   "source": [
    "precip_max_gt_filtered = xr.open_dataset(\"../../data/HR_files_full/RhiresD_1971_2023.nc\")['RhiresD'].sel(time=slice(\"2019-01-01\", \"2023-12-31\"))\n",
    "\n",
    "warm_wet_gridded(\n",
    "    tmax=ds_tmax_gt_2019_2023,\n",
    "    precip=precip_max_gt_filtered,\n",
    "    precip_threshold=10.0,\n",
    "    save=True,\n",
    "    save_path=\"../../Outputs/Indices_Bicubic_Truth/Warm_Wet_GT_2019_2023.png\")"
   ]
  },
  {
   "cell_type": "markdown",
   "id": "79395f4b",
   "metadata": {},
   "source": [
    "Heatwave days according to the EHF metric"
   ]
  },
  {
   "cell_type": "code",
   "execution_count": 3,
   "id": "c1dbd299",
   "metadata": {},
   "outputs": [],
   "source": [
    "from EHF import ehf_days_gridded"
   ]
  },
  {
   "cell_type": "code",
   "execution_count": 4,
   "id": "7767e5b4",
   "metadata": {},
   "outputs": [
    {
     "ename": "",
     "evalue": "",
     "output_type": "error",
     "traceback": [
      "\u001b[1;31mThe Kernel crashed while executing code in the current cell or a previous cell. \n",
      "\u001b[1;31mPlease review the code in the cell(s) to identify a possible cause of the failure. \n",
      "\u001b[1;31mClick <a href='https://aka.ms/vscodeJupyterKernelCrash'>here</a> for more info. \n",
      "\u001b[1;31mView Jupyter <a href='command:jupyter.viewOutput'>log</a> for further details."
     ]
    }
   ],
   "source": [
    "tabsd_full = xr.open_dataset(\"../../data/Bicubic_Baseline_Full/Bicubic_TabsD_1km.nc\")['TabsD']\n",
    "\n",
    "heatwave_sum = ehf_days_gridded(\n",
    "    tabsd=tabsd_full,\n",
    "    analysis_period=(\"2019-01-01\", \"2023-12-31\"),\n",
    "    save_path=\"../../Outputs/Indices_Bicubic_Truth/EHF_Total_Heatwave_Days_2019_2023.png\"\n",
    ")\n"
   ]
  }
 ],
 "metadata": {
  "kernelspec": {
   "display_name": "MyPythonEnvNew",
   "language": "python",
   "name": "python3"
  },
  "language_info": {
   "codemirror_mode": {
    "name": "ipython",
    "version": 3
   },
   "file_extension": ".py",
   "mimetype": "text/x-python",
   "name": "python",
   "nbconvert_exporter": "python",
   "pygments_lexer": "ipython3",
   "version": "3.10.17"
  }
 },
 "nbformat": 4,
 "nbformat_minor": 5
}
