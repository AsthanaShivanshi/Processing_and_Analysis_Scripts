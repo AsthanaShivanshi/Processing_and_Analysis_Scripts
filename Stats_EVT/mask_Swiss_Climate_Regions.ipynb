{
 "cells": [
  {
   "cell_type": "code",
   "execution_count": 23,
   "id": "3e5cc53b",
   "metadata": {},
   "outputs": [],
   "source": [
    "import os\n",
    "import sys\n",
    "sys.path.append('../Prelim_Stats')\n",
    "import config\n",
    "import numpy as np\n",
    "import xarray as xr\n",
    "import pyproj\n",
    "import matplotlib.pyplot as plt\n",
    "import pandas as pd\n",
    "import seaborn as sns\n",
    "import matplotlib.colors as mcolors\n",
    "from scipy.stats import probplot\n",
    "import cartopy.crs as ccrs\n",
    "import cartopy.feature as cfeature\n",
    "from scipy.stats import multivariate_normal\n",
    "from pyproj import Transformer\n",
    "from statsmodels.graphics.gofplots import qqplot\n",
    "%matplotlib inline\n",
    "import pyproj\n",
    "from pyextremes import get_extremes, get_return_periods\n",
    "from pyextremes.plotting import plot_extremes\n",
    "from closest_grid_cell import select_nearest_grid_cell\n",
    "from pyextremes import EVA\n",
    "import xarray as xr\n",
    "import matplotlib.pyplot as plt"
   ]
  },
  {
   "cell_type": "markdown",
   "id": "6c17ea04",
   "metadata": {},
   "source": [
    "For LR grid"
   ]
  },
  {
   "cell_type": "code",
   "execution_count": 24,
   "id": "688eefb5",
   "metadata": {},
   "outputs": [],
   "source": [
    "regions_sourcefile= xr.open_dataset(\"regions_CH2018_all_EUR-11.nc\")"
   ]
  },
  {
   "cell_type": "code",
   "execution_count": 25,
   "id": "24c2f5cd",
   "metadata": {},
   "outputs": [
    {
     "data": {
      "text/plain": [
       "<matplotlib.collections.QuadMesh at 0x7f36e27a1630>"
      ]
     },
     "execution_count": 25,
     "metadata": {},
     "output_type": "execute_result"
    },
    {
     "data": {
      "image/png": "[encoded data removed]",
      "text/plain": [
       "<Figure size 640x480 with 2 Axes>"
      ]
     },
     "metadata": {},
     "output_type": "display_data"
    }
   ],
   "source": [
    "regions_sourcefile[\"regions\"]. plot()"
   ]
  },
  {
   "cell_type": "code",
   "execution_count": 26,
   "id": "b1624a8e",
   "metadata": {},
   "outputs": [],
   "source": [
    "# Create mask with original region values, others set to nan\n",
    "region_values = regions_sourcefile[\"regions\"].values\n",
    "mask = np.where(np.isin(region_values, [1, 2, 3, 4, 5]), region_values, np.nan)\n",
    "\n"
   ]
  },
  {
   "cell_type": "code",
   "execution_count": 27,
   "id": "f7686838",
   "metadata": {},
   "outputs": [],
   "source": [
    "rotated_pole = regions_sourcefile[\"rotated_pole\"]\n",
    "pole_lon = rotated_pole.grid_north_pole_longitude\n",
    "pole_lat = rotated_pole.grid_north_pole_latitude"
   ]
  },
  {
   "cell_type": "code",
   "execution_count": 28,
   "id": "acc55614",
   "metadata": {},
   "outputs": [],
   "source": [
    "rlon = regions_sourcefile['rlon'].values\n",
    "rlat = regions_sourcefile['rlat'].values\n",
    "rlon_2d, rlat_2d = np.meshgrid(rlon, rlat)\n",
    "\n",
    "rot_pole = ccrs.RotatedPole(pole_longitude=pole_lon, pole_latitude=pole_lat)\n",
    "\n",
    "pc = ccrs.PlateCarree()\n",
    "lon_2d, lat_2d = pc.transform_points(rot_pole, rlon_2d, rlat_2d)[..., :2].T"
   ]
  },
  {
   "cell_type": "code",
   "execution_count": 30,
   "id": "d8f8200c",
   "metadata": {},
   "outputs": [],
   "source": [
    "target_coarse_ds = xr.open_dataset(f\"{config.DATASETS_TRAINING_DIR}/TabsD_step2_coarse.nc\")"
   ]
  },
  {
   "cell_type": "code",
   "execution_count": 32,
   "id": "ffb2ce24",
   "metadata": {},
   "outputs": [],
   "source": [
    "target_lat_coarse = target_coarse_ds['lat'].values\n",
    "target_lon_coarse = target_coarse_ds['lon'].values"
   ]
  },
  {
   "cell_type": "code",
   "execution_count": 33,
   "id": "43a87684",
   "metadata": {},
   "outputs": [],
   "source": [
    "# Create mask with original region values, others set to nan\n",
    "region_values = regions_sourcefile[\"regions\"].values\n",
    "mask = np.where(np.isin(region_values, [1, 2, 3, 4, 5]), region_values, np.nan)\n",
    "\n",
    "# Build mask DataArray with coordinates\n",
    "mask_da = xr.DataArray(\n",
    "    mask,\n",
    "    dims=(\"rlat\", \"rlon\"),\n",
    "    coords={\n",
    "        \"rlat\": (\"rlat\", rlat),\n",
    "        \"rlon\": (\"rlon\", rlon),\n",
    "        \"lat\": ((\"rlat\", \"rlon\"), lat_2d.T),\n",
    "        \"lon\": ((\"rlat\", \"rlon\"), lon_2d.T)\n",
    "    },\n",
    "    name=\"swiss_mask\"\n",
    ")\n",
    "\n",
    "# Transfer mask to Swiss lat/lon domain\n",
    "lat_1d = target_lat_coarse[:, 0]\n",
    "lon_1d = target_lon_coarse[0, :]\n",
    "target_lon_2d, target_lat_2d = np.meshgrid(lon_1d, lat_1d)\n",
    "target_points = np.column_stack([target_lat_2d.ravel(), target_lon_2d.ravel()])\n",
    "\n",
    "mask_lat = mask_da[\"lat\"].values.flatten()\n",
    "mask_lon = mask_da[\"lon\"].values.flatten()\n",
    "mask_flat = mask_da.values.flatten()\n",
    "\n",
    "from scipy.spatial import cKDTree\n",
    "tree = cKDTree(np.column_stack([mask_lat, mask_lon]))\n",
    "_, idx = tree.query(target_points)\n",
    "mask_on_swiss_grid = mask_flat[idx].reshape(target_lat_2d.shape)\n",
    "\n",
    "mask_on_swiss_grid = xr.DataArray(\n",
    "    mask_on_swiss_grid,\n",
    "    dims=(\"lat\", \"lon\"),\n",
    "    coords={\n",
    "        \"lat\": lat_1d,\n",
    "        \"lon\": lon_1d\n",
    "    },\n",
    "    name=\"swiss_mask_on_coarse_grid\"\n",
    ")\n",
    "\n",
    "mask_on_swiss_grid.to_netcdf(\"swiss_mask_on_coarse_grid.nc\")"
   ]
  },
  {
   "cell_type": "markdown",
   "id": "cec7ce32",
   "metadata": {},
   "source": [
    "For HR grid"
   ]
  },
  {
   "cell_type": "code",
   "execution_count": 35,
   "id": "97767098",
   "metadata": {},
   "outputs": [],
   "source": [
    "target_ds = xr.open_dataset(f\"{config.TARGET_DIR}/TabsD_1971_2023.nc\").isel(time=0)\n",
    "target_lat = target_ds['lat'].values\n",
    "target_lon = target_ds['lon'].values"
   ]
  },
  {
   "cell_type": "code",
   "execution_count": 36,
   "id": "694ce50b",
   "metadata": {},
   "outputs": [],
   "source": [
    "target_lat = target_ds['lat'].values\n",
    "target_lon = target_ds['lon'].values"
   ]
  },
  {
   "cell_type": "code",
   "execution_count": 37,
   "id": "7761172b",
   "metadata": {},
   "outputs": [],
   "source": [
    "region_values = regions_sourcefile[\"regions\"].values\n",
    "mask = np.where(np.isin(region_values, [1, 2, 3, 4, 5]), region_values, np.nan)\n",
    "\n",
    "mask_da = xr.DataArray(\n",
    "    mask,\n",
    "    dims=(\"rlat\", \"rlon\"),\n",
    "    coords={\n",
    "        \"rlat\": (\"rlat\", rlat),\n",
    "        \"rlon\": (\"rlon\", rlon),\n",
    "        \"lat\": ((\"rlat\", \"rlon\"), lat_2d.T),\n",
    "        \"lon\": ((\"rlat\", \"rlon\"), lon_2d.T)\n",
    "    },\n",
    "    name=\"swiss_mask\"\n",
    ")\n",
    "\n",
    "lat_1d = target_lat[:, 0]\n",
    "lon_1d = target_lon[0, :]\n",
    "target_lon_2d, target_lat_2d = np.meshgrid(lon_1d, lat_1d)\n",
    "target_points = np.column_stack([target_lat_2d.ravel(), target_lon_2d.ravel()])\n",
    "\n",
    "mask_lat = mask_da[\"lat\"].values.flatten()\n",
    "mask_lon = mask_da[\"lon\"].values.flatten()\n",
    "mask_flat = mask_da.values.flatten()\n",
    "\n",
    "from scipy.spatial import cKDTree\n",
    "tree = cKDTree(np.column_stack([mask_lat, mask_lon]))\n",
    "_, idx = tree.query(target_points)\n",
    "mask_on_swiss_grid = mask_flat[idx].reshape(target_lat_2d.shape)\n",
    "\n",
    "mask_on_swiss_grid = xr.DataArray(\n",
    "    mask_on_swiss_grid,\n",
    "    dims=(\"lat\", \"lon\"),\n",
    "    coords={\n",
    "        \"lat\": lat_1d,\n",
    "        \"lon\": lon_1d\n",
    "    },\n",
    "    name=\"swiss_mask_on_hr_grid\"\n",
    ")\n",
    "\n",
    "mask_on_swiss_grid.to_netcdf(\"swiss_mask_on_hr_grid.nc\")"
   ]
  }
 ],
 "metadata": {
  "kernelspec": {
   "display_name": "MyPythonEnvNew",
   "language": "python",
   "name": "python3"
  },
  "language_info": {
   "codemirror_mode": {
    "name": "ipython",
    "version": 3
   },
   "file_extension": ".py",
   "mimetype": "text/x-python",
   "name": "python",
   "nbconvert_exporter": "python",
   "pygments_lexer": "ipython3",
   "version": "3.10.17"
  }
 },
 "nbformat": 4,
 "nbformat_minor": 5
}
